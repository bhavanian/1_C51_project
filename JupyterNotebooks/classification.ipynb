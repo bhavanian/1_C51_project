{
 "cells": [
  {
   "cell_type": "code",
   "execution_count": 1,
   "id": "584dfd10-be2f-4076-aece-14187ecd4f99",
   "metadata": {},
   "outputs": [],
   "source": [
    "#Om Sri Sai Ram"
   ]
  },
  {
   "cell_type": "code",
   "execution_count": 68,
   "id": "052be2a7-0bb0-41cc-8d6c-3c3410e89bf5",
   "metadata": {},
   "outputs": [],
   "source": [
    "import pandas as pd\n",
    "import numpy as np\n",
    "from matplotlib import pyplot as plt\n",
    "import sklearn\n",
    "\n",
    "from sklearn import linear_model\n",
    "from sklearn.linear_model import LinearRegression\n",
    "from sklearn.linear_model import LogisticRegression\n",
    "from sklearn.preprocessing import StandardScaler\n",
    "from sklearn.decomposition import PCA\n",
    "from sklearn.model_selection import train_test_split\n",
    "from sklearn.utils import resample\n",
    "\n",
    "import time\n",
    "\n",
    "import torch\n",
    "import torch.nn as nn\n",
    "from torch.autograd import Variable\n",
    "import random  \n",
    "import math"
   ]
  },
  {
   "cell_type": "code",
   "execution_count": 10,
   "id": "d1d80ce2-1127-4fe4-8056-716b94511f93",
   "metadata": {},
   "outputs": [],
   "source": [
    "df0 = pd.read_csv('byaddress_v2_2.csv')"
   ]
  },
  {
   "cell_type": "code",
   "execution_count": 11,
   "id": "463ca3cc-ffbc-44b6-b2f1-8564890883ac",
   "metadata": {},
   "outputs": [
    {
     "data": {
      "text/plain": [
       "Index(['address', 'Severity', 'census_tract_number', 'living_area',\n",
       "       'ct_perc_disability', 'ct_perc_children_under_5', 'ct_perc_over_65',\n",
       "       'ct_perc_low_to_no_income', 'ct_perc_limited_english_proficiency',\n",
       "       'ct_perc_poc', 'ct_perc_med_illness', 'ct_perc_income_200000_or_more',\n",
       "       'sqft_class_code', 'ext_cond_list_code', 'year_built_class_code',\n",
       "       'building_subtypology_Garage, 1915-1949',\n",
       "       'building_subtypology_Multi-Family (2 units), 1915-1949',\n",
       "       'building_subtypology_Multi-Family (2 units), 1950-1979',\n",
       "       'building_subtypology_Multi-Family (2 units), 1980-present',\n",
       "       'building_subtypology_Multi-Family (2 units), Pre-1915',\n",
       "       'building_subtypology_Multi-Family (3 units), 1915-1949',\n",
       "       'building_subtypology_Multi-Family (3 units), 1950-1979',\n",
       "       'building_subtypology_Multi-Family (3 units), 1980-present',\n",
       "       'building_subtypology_Multi-Family (3 units), Pre-1915',\n",
       "       'building_subtypology_Multi-Family (31-99 units), 1915-1949',\n",
       "       'building_subtypology_Multi-Family (31-99 units), 1950-1979',\n",
       "       'building_subtypology_Multi-Family (31-99 units), 1980-present',\n",
       "       'building_subtypology_Multi-Family (31-99 units), Pre-1915',\n",
       "       'building_subtypology_Multi-Family (4-6 units), 1915-1949',\n",
       "       'building_subtypology_Multi-Family (4-6 units), 1950-1979',\n",
       "       'building_subtypology_Multi-Family (4-6 units), 1980-present',\n",
       "       'building_subtypology_Multi-Family (4-6 units), Pre-1915',\n",
       "       'building_subtypology_Multi-Family (7-30 units), 1915-1949',\n",
       "       'building_subtypology_Multi-Family (7-30 units), 1950-1979',\n",
       "       'building_subtypology_Multi-Family (7-30 units), 1980-present',\n",
       "       'building_subtypology_Multi-Family (7-30 units), Pre-1915',\n",
       "       'building_subtypology_Multi-Family (>= 100 units), 1915-1949',\n",
       "       'building_subtypology_Multi-Family (>= 100 units), 1950-1979',\n",
       "       'building_subtypology_Multi-Family (>= 100 units), Pre-1915',\n",
       "       'building_subtypology_Office, 1915-1949',\n",
       "       'building_subtypology_Office, 1980-present',\n",
       "       'building_subtypology_Office, Pre-1915',\n",
       "       'building_subtypology_Residential (Mixed-Use), 1915-1949',\n",
       "       'building_subtypology_Residential (Mixed-Use), 1950-1979',\n",
       "       'building_subtypology_Residential (Mixed-Use), 1980-present',\n",
       "       'building_subtypology_Residential (Mixed-Use), Pre-1915',\n",
       "       'building_subtypology_Restaurant, Pre-1915',\n",
       "       'building_subtypology_Retail, 1915-1949',\n",
       "       'building_subtypology_Retail, 1980-present',\n",
       "       'building_subtypology_Retail, Pre-1915',\n",
       "       'building_subtypology_School, 1915-1949',\n",
       "       'building_subtypology_School, Pre-1915',\n",
       "       'building_subtypology_Single-Family, 1915-1949',\n",
       "       'building_subtypology_Single-Family, 1950-1979',\n",
       "       'building_subtypology_Single-Family, 1980-present',\n",
       "       'building_subtypology_Single-Family, Pre-1915',\n",
       "       'building_subtypology_Vacant',\n",
       "       'building_subtypology_Warehouse, 1915-1949',\n",
       "       'building_subtypology_Warehouse, 1980-present', 'ext_fin_A',\n",
       "       'ext_fin_B', 'ext_fin_C', 'ext_fin_F', 'ext_fin_G', 'ext_fin_K',\n",
       "       'ext_fin_M', 'ext_fin_O', 'ext_fin_P', 'ext_fin_S', 'ext_fin_U',\n",
       "       'ext_fin_V', 'ext_fin_W', 'heat_typ_E', 'heat_typ_F', 'heat_typ_N',\n",
       "       'heat_typ_O', 'heat_typ_P', 'heat_typ_S', 'heat_typ_W', 'ac_C', 'ac_D',\n",
       "       'ac_N', 'flood_f', 'flood_t', 'stormwater_f', 'stormwater_t',\n",
       "       'Severity_class', 'Severity_class_v2', 'poc_CT'],\n",
       "      dtype='object')"
      ]
     },
     "execution_count": 11,
     "metadata": {},
     "output_type": "execute_result"
    }
   ],
   "source": [
    "df0.columns"
   ]
  },
  {
   "cell_type": "code",
   "execution_count": 12,
   "id": "27482600-d22d-428f-8882-0ab90329b8b7",
   "metadata": {},
   "outputs": [],
   "source": [
    "df = df0.drop(columns=['address','Severity','census_tract_number','Severity_class','flood_f','stormwater_f'])"
   ]
  },
  {
   "cell_type": "code",
   "execution_count": 15,
   "id": "1769bb50-4b28-44d6-944a-1d75f003935a",
   "metadata": {},
   "outputs": [],
   "source": [
    "X = df.drop(columns=['Severity_class_v2']).to_numpy()"
   ]
  },
  {
   "cell_type": "code",
   "execution_count": 18,
   "id": "df36581b-8b6a-427b-b8df-aaefef0d5b69",
   "metadata": {},
   "outputs": [
    {
     "data": {
      "text/plain": [
       "(25537, 82)"
      ]
     },
     "execution_count": 18,
     "metadata": {},
     "output_type": "execute_result"
    }
   ],
   "source": [
    "X.shape"
   ]
  },
  {
   "cell_type": "code",
   "execution_count": 227,
   "id": "0509f783-3c64-4c64-83b1-0a6888bd98a5",
   "metadata": {},
   "outputs": [],
   "source": [
    "y_full = df['Severity_class_v2'].to_numpy()"
   ]
  },
  {
   "cell_type": "code",
   "execution_count": 19,
   "id": "f05cc04c-48ba-4120-af6c-9a70cbac1db2",
   "metadata": {},
   "outputs": [],
   "source": [
    "X_train, X_test, y_train, y_test = train_test_split(X, y, test_size=0.01, random_state=42)"
   ]
  },
  {
   "cell_type": "code",
   "execution_count": 21,
   "id": "ed7d089d-7a9f-4824-9341-6bc42532da3f",
   "metadata": {},
   "outputs": [],
   "source": [
    "scaler = StandardScaler().fit(X_train)"
   ]
  },
  {
   "cell_type": "code",
   "execution_count": 22,
   "id": "7e3adf47-81a2-43f9-80ad-8e257cadd7a6",
   "metadata": {},
   "outputs": [],
   "source": [
    "X_train = scaler.transform(X_train)"
   ]
  },
  {
   "cell_type": "code",
   "execution_count": 23,
   "id": "044c6530-5c34-4757-b023-ac4fa4e1eb83",
   "metadata": {},
   "outputs": [],
   "source": [
    "X_test = scaler.transform(X_test)"
   ]
  },
  {
   "cell_type": "code",
   "execution_count": 31,
   "id": "1c80e8ae-dd2f-4784-8518-561d6d2a9567",
   "metadata": {},
   "outputs": [],
   "source": [
    "pca = PCA().fit(X_train)"
   ]
  },
  {
   "cell_type": "code",
   "execution_count": 32,
   "id": "a8345158-88df-412f-b769-aff40f6a01ec",
   "metadata": {},
   "outputs": [],
   "source": [
    "X_train = pca.transform(X_train)[:,:60 + 1]"
   ]
  },
  {
   "cell_type": "code",
   "execution_count": 33,
   "id": "35f6dfba-622d-439b-859a-b05b76decd95",
   "metadata": {},
   "outputs": [],
   "source": [
    "X_test = pca.transform(X_test)[:,:60 + 1]"
   ]
  },
  {
   "cell_type": "code",
   "execution_count": 85,
   "id": "34b5fd2b-ef0e-4988-bf3e-4bd285bc7243",
   "metadata": {},
   "outputs": [],
   "source": [
    "y_train = y_train.reshape(-1,1)"
   ]
  },
  {
   "cell_type": "code",
   "execution_count": 86,
   "id": "33ce4ccf-b461-4197-9d0a-19183327dad7",
   "metadata": {},
   "outputs": [],
   "source": [
    "y_test = y_test.reshape(-1,1)"
   ]
  },
  {
   "cell_type": "markdown",
   "id": "9cb3c40b-2e9c-4d23-88b3-df0111aa98a4",
   "metadata": {},
   "source": [
    "### Logistic Regression"
   ]
  },
  {
   "cell_type": "code",
   "execution_count": 34,
   "id": "8aecf996-6367-414a-aa0e-94387f2c7b60",
   "metadata": {},
   "outputs": [],
   "source": [
    "clf = LogisticRegression(random_state=42,class_weight='balanced',max_iter=1000).fit(X_train, y_train)"
   ]
  },
  {
   "cell_type": "code",
   "execution_count": 35,
   "id": "6d475b2d-f7fd-4b38-bc16-bb4673844d2d",
   "metadata": {},
   "outputs": [
    {
     "data": {
      "text/plain": [
       "0.5771528024999011"
      ]
     },
     "execution_count": 35,
     "metadata": {},
     "output_type": "execute_result"
    }
   ],
   "source": [
    "clf.score(X_train,y_train)"
   ]
  },
  {
   "cell_type": "code",
   "execution_count": 283,
   "id": "36022559-fff9-429f-912a-184c6c07d911",
   "metadata": {},
   "outputs": [
    {
     "data": {
      "text/plain": [
       "0.5824810921371831"
      ]
     },
     "execution_count": 283,
     "metadata": {},
     "output_type": "execute_result"
    }
   ],
   "source": [
    "clf.score(X_train,y_train)"
   ]
  },
  {
   "cell_type": "code",
   "execution_count": 289,
   "id": "eb741be5-dd63-4ae6-b41a-625a6c4f8759",
   "metadata": {},
   "outputs": [
    {
     "data": {
      "text/plain": [
       "(42046, 61)"
      ]
     },
     "execution_count": 289,
     "metadata": {},
     "output_type": "execute_result"
    }
   ],
   "source": [
    "X_train.shape"
   ]
  },
  {
   "cell_type": "code",
   "execution_count": 286,
   "id": "9c3ac144-3642-4ac3-a8f0-231cdacf61d7",
   "metadata": {},
   "outputs": [
    {
     "data": {
      "text/plain": [
       "0.5"
      ]
     },
     "execution_count": 286,
     "metadata": {},
     "output_type": "execute_result"
    }
   ],
   "source": [
    "y_train.sum() / y_train.shape[0]"
   ]
  },
  {
   "cell_type": "code",
   "execution_count": 285,
   "id": "68db27ac-21e1-42d2-9e5d-b1f96dfd636e",
   "metadata": {},
   "outputs": [
    {
     "data": {
      "text/plain": [
       "tensor(0.5000)"
      ]
     },
     "execution_count": 285,
     "metadata": {},
     "output_type": "execute_result"
    }
   ],
   "source": [
    "y_test.sum() / y_test.shape[0]"
   ]
  },
  {
   "cell_type": "code",
   "execution_count": 290,
   "id": "4724cc96-d4eb-4c21-a4bb-44ce13c0d9ae",
   "metadata": {},
   "outputs": [
    {
     "data": {
      "text/plain": [
       "torch.Size([446, 1])"
      ]
     },
     "execution_count": 290,
     "metadata": {},
     "output_type": "execute_result"
    }
   ],
   "source": [
    "y_test.shape"
   ]
  },
  {
   "cell_type": "code",
   "execution_count": 282,
   "id": "c630cc76-8db6-488f-9377-a37bdd056af8",
   "metadata": {},
   "outputs": [
    {
     "data": {
      "text/plain": [
       "0.6591928251121076"
      ]
     },
     "execution_count": 282,
     "metadata": {},
     "output_type": "execute_result"
    }
   ],
   "source": [
    "clf.score(X_test,y_test)"
   ]
  },
  {
   "cell_type": "code",
   "execution_count": 292,
   "id": "9047e045-d9cc-417a-8647-3c5f0fee523e",
   "metadata": {},
   "outputs": [
    {
     "data": {
      "text/plain": [
       "array([[ 0.03298408, -0.10520495, -0.13303371,  0.03936669,  0.10247732,\n",
       "         0.08642035, -0.04344939,  0.13314707,  0.01059221,  0.05947665,\n",
       "         0.05710409, -0.01402826, -0.0245786 , -0.02044535,  0.06512275,\n",
       "        -0.11909913, -0.12841551, -0.0934098 , -0.04275277,  0.10292611,\n",
       "        -0.04085625,  0.02051186,  0.01161451, -0.02773687,  0.10530793,\n",
       "        -0.18816531, -0.26734417, -0.12427207,  0.40067061, -0.08880516,\n",
       "         0.13838522,  0.20975325,  0.07992966,  0.18909281,  0.02218673,\n",
       "         0.2119739 , -0.22731324, -0.10940377, -0.1383626 , -1.10388994,\n",
       "        -0.04174357,  0.32633754,  0.54193638,  0.50294711, -0.58158581,\n",
       "         1.20388439,  0.04279146, -0.32671567,  0.95538669, -0.1901751 ,\n",
       "         0.09221477,  0.25934329, -0.09212087,  0.28878681, -0.32801817,\n",
       "        -0.11799489,  0.02554553, -0.1384304 ,  0.17401482, -0.19536408,\n",
       "        -0.03740723]])"
      ]
     },
     "execution_count": 292,
     "metadata": {},
     "output_type": "execute_result"
    }
   ],
   "source": [
    "list(zip(clf.coef_"
   ]
  },
  {
   "cell_type": "markdown",
   "id": "950272d1-4ad2-411e-afbb-fcaa076e698e",
   "metadata": {},
   "source": [
    "### NN"
   ]
  },
  {
   "cell_type": "code",
   "execution_count": 36,
   "id": "6d83de3c-4422-44c1-bcb4-6fb1082ab04d",
   "metadata": {},
   "outputs": [
    {
     "data": {
      "text/plain": [
       "(25281, 61)"
      ]
     },
     "execution_count": 36,
     "metadata": {},
     "output_type": "execute_result"
    }
   ],
   "source": [
    "X_train.shape"
   ]
  },
  {
   "cell_type": "code",
   "execution_count": 87,
   "id": "0fffaa0d-4194-4fc2-ad96-1a9ccd5bb507",
   "metadata": {},
   "outputs": [
    {
     "data": {
      "text/plain": [
       "(25281, 1)"
      ]
     },
     "execution_count": 87,
     "metadata": {},
     "output_type": "execute_result"
    }
   ],
   "source": [
    "y_train.shape"
   ]
  },
  {
   "cell_type": "code",
   "execution_count": 95,
   "id": "4ac0227f-9ead-4017-9185-ffeaa592bd39",
   "metadata": {},
   "outputs": [],
   "source": [
    "X_train_maj = X_train[(y_train == 0).reshape(-1),:]"
   ]
  },
  {
   "cell_type": "code",
   "execution_count": 108,
   "id": "abeb2a7b-ec92-4455-adf6-e3653f5bf41b",
   "metadata": {},
   "outputs": [
    {
     "data": {
      "text/plain": [
       "(21023, 61)"
      ]
     },
     "execution_count": 108,
     "metadata": {},
     "output_type": "execute_result"
    }
   ],
   "source": [
    "X_train_maj.shape"
   ]
  },
  {
   "cell_type": "code",
   "execution_count": 98,
   "id": "53ce4d07-0b71-4467-aba8-f3cd9084e960",
   "metadata": {},
   "outputs": [],
   "source": [
    "y_train_maj = y_train[(y_train == 0)]"
   ]
  },
  {
   "cell_type": "code",
   "execution_count": 100,
   "id": "4f7a1fe4-c1dd-4650-909b-398d17e7fbc1",
   "metadata": {},
   "outputs": [],
   "source": [
    "X_train_mino = X_train[(y_train == 1).reshape(-1),:]"
   ]
  },
  {
   "cell_type": "code",
   "execution_count": 101,
   "id": "a56e650c-619b-4427-9ad1-b30ae7b4c79e",
   "metadata": {},
   "outputs": [],
   "source": [
    "y_train_mino = y_train[(y_train == 1)]"
   ]
  },
  {
   "cell_type": "code",
   "execution_count": 102,
   "id": "d053bcfa-9606-435d-926f-c42a421eb82a",
   "metadata": {},
   "outputs": [],
   "source": [
    "X_train_mino = resample(X_train_mino,n_samples=X_train_maj.shape[0],replace=True,random_state=42)"
   ]
  },
  {
   "cell_type": "code",
   "execution_count": 104,
   "id": "4aea6f69-8e96-49f5-a097-420646bedb2a",
   "metadata": {},
   "outputs": [
    {
     "data": {
      "text/plain": [
       "(21023, 61)"
      ]
     },
     "execution_count": 104,
     "metadata": {},
     "output_type": "execute_result"
    }
   ],
   "source": [
    "X_train_mino.shape"
   ]
  },
  {
   "cell_type": "code",
   "execution_count": 105,
   "id": "7ef3141b-67e9-4ecb-bd4f-1f91923972fb",
   "metadata": {},
   "outputs": [],
   "source": [
    "y_train_mino = np.ones(shape=X_train_mino.shape[0])"
   ]
  },
  {
   "cell_type": "code",
   "execution_count": 106,
   "id": "59fdcd3f-1781-498c-9dbf-35d87ca0a89b",
   "metadata": {},
   "outputs": [
    {
     "data": {
      "text/plain": [
       "(21023,)"
      ]
     },
     "execution_count": 106,
     "metadata": {},
     "output_type": "execute_result"
    }
   ],
   "source": [
    "y_train_mino.shape"
   ]
  },
  {
   "cell_type": "code",
   "execution_count": 109,
   "id": "3b9d7472-f85b-495d-92b0-f2cc8806cb00",
   "metadata": {},
   "outputs": [],
   "source": [
    "X_train = np.vstack([X_train_maj,X_train_mino])"
   ]
  },
  {
   "cell_type": "code",
   "execution_count": 113,
   "id": "6cca20d0-8de8-4063-b717-5e0103f07995",
   "metadata": {},
   "outputs": [],
   "source": [
    "y_train = np.vstack([y_train_maj.reshape(-1,1),y_train_mino.reshape(-1,1)])"
   ]
  },
  {
   "cell_type": "code",
   "execution_count": 114,
   "id": "9e1ec7a9-867b-4aaa-8d44-3af461e8fba8",
   "metadata": {},
   "outputs": [
    {
     "data": {
      "text/plain": [
       "(42046, 1)"
      ]
     },
     "execution_count": 114,
     "metadata": {},
     "output_type": "execute_result"
    }
   ],
   "source": [
    "y_train.shape"
   ]
  },
  {
   "cell_type": "code",
   "execution_count": 115,
   "id": "982c1bf3-83b6-4c81-bdb4-2a47d09bcfe4",
   "metadata": {},
   "outputs": [],
   "source": [
    "X_tr, X_val, y_tr, y_val = train_test_split(X_train, y_train, test_size=0.01, random_state=42)"
   ]
  },
  {
   "cell_type": "code",
   "execution_count": 118,
   "id": "d72c4ccc-aa09-49f9-b41e-32a6da29c5f1",
   "metadata": {},
   "outputs": [
    {
     "data": {
      "text/plain": [
       "0.5002042042042042"
      ]
     },
     "execution_count": 118,
     "metadata": {},
     "output_type": "execute_result"
    }
   ],
   "source": [
    "y_tr.sum() / y_tr.shape[0]"
   ]
  },
  {
   "cell_type": "code",
   "execution_count": 119,
   "id": "74e99575-fb80-4811-bb33-912de0383482",
   "metadata": {},
   "outputs": [
    {
     "data": {
      "text/plain": [
       "0.47980997624703087"
      ]
     },
     "execution_count": 119,
     "metadata": {},
     "output_type": "execute_result"
    }
   ],
   "source": [
    "y_val.sum() / y_val.shape[0]"
   ]
  },
  {
   "cell_type": "code",
   "execution_count": 140,
   "id": "5b6ee53c-3fce-4bd6-8233-5f224a8126b3",
   "metadata": {},
   "outputs": [
    {
     "data": {
      "text/plain": [
       "tensor([[0.],\n",
       "        [1.],\n",
       "        [1.],\n",
       "        ...,\n",
       "        [1.],\n",
       "        [0.],\n",
       "        [0.]])"
      ]
     },
     "execution_count": 140,
     "metadata": {},
     "output_type": "execute_result"
    }
   ],
   "source": [
    "y"
   ]
  },
  {
   "cell_type": "code",
   "execution_count": 170,
   "id": "54074a03-3d29-469a-a657-268fd6d1c9e4",
   "metadata": {},
   "outputs": [],
   "source": [
    "\n",
    "inputSize = X_tr.shape[1]\n",
    "hiddenLayer1Size = 100\n",
    "hiddenLayer2Size = 10\n",
    "outputSize=1\n",
    "\n",
    "\n",
    "net = nn.Sequential(\n",
    "    \n",
    "    torch.nn.Linear(inputSize, hiddenLayer1Size),\n",
    "    torch.nn.ReLU(),      \n",
    "    \n",
    "    torch.nn.Linear(hiddenLayer1Size, hiddenLayer2Size),\n",
    "    torch.nn.ReLU(),\n",
    "    torch.nn.Linear(hiddenLayer2Size, hiddenLayer2Size),\n",
    "    torch.nn.ReLU(),\n",
    "    torch.nn.Linear(hiddenLayer2Size, outputSize),\n",
    " \n",
    "    torch.nn.Sigmoid()\n",
    "    \n",
    "    )\n",
    "\n",
    "x = Variable(torch.from_numpy( np.array(X_tr).astype('float32') ), requires_grad=False) \n",
    "y = Variable(torch.from_numpy( np.array(y_tr).astype('float32') ), requires_grad=False)\n",
    "\n",
    "\n",
    "criterion = torch.nn.BCELoss()\n",
    "optimizer = torch.optim.SGD(net.parameters(), lr=1e-2)"
   ]
  },
  {
   "cell_type": "code",
   "execution_count": 281,
   "id": "c9047297-1ed3-4171-8b7c-f71610efbb7e",
   "metadata": {},
   "outputs": [],
   "source": [
    "torch.save(net,'classification_nn_1')"
   ]
  },
  {
   "cell_type": "code",
   "execution_count": 171,
   "id": "4eaabffc-51bb-49cf-a43a-bc4ff7cd57e3",
   "metadata": {},
   "outputs": [],
   "source": [
    "loss_list =[]\n",
    "loss_orig = criterion(net(x), y)\n",
    "loss_list.append(loss_orig)"
   ]
  },
  {
   "cell_type": "code",
   "execution_count": 190,
   "id": "49ef5dd1-fd82-4764-9a18-36d14fa1bf8a",
   "metadata": {},
   "outputs": [],
   "source": [
    "optimizer = torch.optim.SGD(net.parameters(), lr=1e-2)"
   ]
  },
  {
   "cell_type": "code",
   "execution_count": 191,
   "id": "401143a3-5f13-4875-a725-37a3828e6e77",
   "metadata": {
    "scrolled": true,
    "tags": []
   },
   "outputs": [
    {
     "name": "stdout",
     "output_type": "stream",
     "text": [
      "1 0.571642279624939\n",
      "400 0.5636788010597229\n",
      "800 0.5598018765449524\n",
      "1200 0.5565944910049438\n",
      "1600 0.5540689826011658\n",
      "2000 0.5519326329231262\n",
      "2400 0.5499319434165955\n",
      "2800 0.5480765700340271\n",
      "3200 0.5463532209396362\n",
      "3600 0.544733464717865\n",
      "4000 0.5431721806526184\n",
      "4400 0.5416792035102844\n",
      "4800 0.5402705073356628\n",
      "5200 0.5388851761817932\n",
      "5600 0.5374546647071838\n",
      "6000 0.5360561013221741\n",
      "6400 0.5346884727478027\n",
      "6800 0.5333401560783386\n",
      "7200 0.5320464372634888\n",
      "7600 0.530814528465271\n",
      "8000 0.5296698808670044\n",
      "8400 0.5285137295722961\n",
      "8800 0.527389645576477\n",
      "9200 0.5263740420341492\n",
      "9600 0.5253189206123352\n",
      "10000 0.524217963218689\n",
      "10400 0.5233649611473083\n",
      "10800 0.5221564769744873\n",
      "11200 0.521235466003418\n",
      "11600 0.5202246904373169\n",
      "12000 0.5190978646278381\n",
      "12400 0.5180940628051758\n",
      "12800 0.5176140666007996\n",
      "13200 0.5167264342308044\n",
      "13600 0.5157877206802368\n",
      "14000 0.5148699879646301\n",
      "14400 0.5140784382820129\n",
      "14800 0.5145809054374695\n",
      "15200 0.5135433673858643\n",
      "15600 0.5138428807258606\n",
      "16000 0.5118513107299805\n",
      "16400 0.5132916569709778\n",
      "16800 0.5121439695358276\n",
      "17200 0.5126465559005737\n",
      "17600 0.5104672312736511\n",
      "18000 0.513203501701355\n",
      "18400 0.5112535953521729\n",
      "18800 0.508086621761322\n",
      "19200 0.5136695504188538\n",
      "19600 0.5137389898300171\n",
      "20000 0.5109965205192566\n",
      "20400 0.5112739205360413\n",
      "20800 0.5126359462738037\n",
      "21200 0.5080884695053101\n",
      "21600 0.5058394074440002\n",
      "22000 0.510085940361023\n",
      "22400 0.5097873210906982\n",
      "22800 0.5117213129997253\n",
      "23200 0.5042132139205933\n",
      "23600 0.5084012746810913\n",
      "24000 0.5068652033805847\n"
     ]
    },
    {
     "ename": "KeyboardInterrupt",
     "evalue": "",
     "output_type": "error",
     "traceback": [
      "\u001b[0;31m---------------------------------------------------------------------------\u001b[0m",
      "\u001b[0;31mKeyboardInterrupt\u001b[0m                         Traceback (most recent call last)",
      "\u001b[0;32m/var/folders/gn/2v3k2j5j1rl3jtww424x4zc40000gn/T/ipykernel_21961/2095378735.py\u001b[0m in \u001b[0;36m<module>\u001b[0;34m\u001b[0m\n\u001b[1;32m     12\u001b[0m     \u001b[0;31m# Zero gradients, perform a backward pass\u001b[0m\u001b[0;34m\u001b[0m\u001b[0;34m\u001b[0m\u001b[0;34m\u001b[0m\u001b[0m\n\u001b[1;32m     13\u001b[0m     \u001b[0moptimizer\u001b[0m\u001b[0;34m.\u001b[0m\u001b[0mzero_grad\u001b[0m\u001b[0;34m(\u001b[0m\u001b[0;34m)\u001b[0m   \u001b[0;31m# clearing the gradients\u001b[0m\u001b[0;34m\u001b[0m\u001b[0;34m\u001b[0m\u001b[0m\n\u001b[0;32m---> 14\u001b[0;31m     \u001b[0mloss\u001b[0m\u001b[0;34m.\u001b[0m\u001b[0mbackward\u001b[0m\u001b[0;34m(\u001b[0m\u001b[0;34m)\u001b[0m         \u001b[0;31m# computing the gradients ( Automatic differentiation)\u001b[0m\u001b[0;34m\u001b[0m\u001b[0;34m\u001b[0m\u001b[0m\n\u001b[0m\u001b[1;32m     15\u001b[0m \u001b[0;34m\u001b[0m\u001b[0m\n\u001b[1;32m     16\u001b[0m     \u001b[0;31m# Update the weights.\u001b[0m\u001b[0;34m\u001b[0m\u001b[0;34m\u001b[0m\u001b[0;34m\u001b[0m\u001b[0m\n",
      "\u001b[0;32m~/myenvs/housing/lib/python3.8/site-packages/torch/_tensor.py\u001b[0m in \u001b[0;36mbackward\u001b[0;34m(self, gradient, retain_graph, create_graph, inputs)\u001b[0m\n\u001b[1;32m    361\u001b[0m                 \u001b[0mcreate_graph\u001b[0m\u001b[0;34m=\u001b[0m\u001b[0mcreate_graph\u001b[0m\u001b[0;34m,\u001b[0m\u001b[0;34m\u001b[0m\u001b[0;34m\u001b[0m\u001b[0m\n\u001b[1;32m    362\u001b[0m                 inputs=inputs)\n\u001b[0;32m--> 363\u001b[0;31m         \u001b[0mtorch\u001b[0m\u001b[0;34m.\u001b[0m\u001b[0mautograd\u001b[0m\u001b[0;34m.\u001b[0m\u001b[0mbackward\u001b[0m\u001b[0;34m(\u001b[0m\u001b[0mself\u001b[0m\u001b[0;34m,\u001b[0m \u001b[0mgradient\u001b[0m\u001b[0;34m,\u001b[0m \u001b[0mretain_graph\u001b[0m\u001b[0;34m,\u001b[0m \u001b[0mcreate_graph\u001b[0m\u001b[0;34m,\u001b[0m \u001b[0minputs\u001b[0m\u001b[0;34m=\u001b[0m\u001b[0minputs\u001b[0m\u001b[0;34m)\u001b[0m\u001b[0;34m\u001b[0m\u001b[0;34m\u001b[0m\u001b[0m\n\u001b[0m\u001b[1;32m    364\u001b[0m \u001b[0;34m\u001b[0m\u001b[0m\n\u001b[1;32m    365\u001b[0m     \u001b[0;32mdef\u001b[0m \u001b[0mregister_hook\u001b[0m\u001b[0;34m(\u001b[0m\u001b[0mself\u001b[0m\u001b[0;34m,\u001b[0m \u001b[0mhook\u001b[0m\u001b[0;34m)\u001b[0m\u001b[0;34m:\u001b[0m\u001b[0;34m\u001b[0m\u001b[0;34m\u001b[0m\u001b[0m\n",
      "\u001b[0;32m~/myenvs/housing/lib/python3.8/site-packages/torch/autograd/__init__.py\u001b[0m in \u001b[0;36mbackward\u001b[0;34m(tensors, grad_tensors, retain_graph, create_graph, grad_variables, inputs)\u001b[0m\n\u001b[1;32m    171\u001b[0m     \u001b[0;31m# some Python versions print out the first line of a multi-line function\u001b[0m\u001b[0;34m\u001b[0m\u001b[0;34m\u001b[0m\u001b[0;34m\u001b[0m\u001b[0m\n\u001b[1;32m    172\u001b[0m     \u001b[0;31m# calls in the traceback and some print out the last line\u001b[0m\u001b[0;34m\u001b[0m\u001b[0;34m\u001b[0m\u001b[0;34m\u001b[0m\u001b[0m\n\u001b[0;32m--> 173\u001b[0;31m     Variable._execution_engine.run_backward(  # Calls into the C++ engine to run the backward pass\n\u001b[0m\u001b[1;32m    174\u001b[0m         \u001b[0mtensors\u001b[0m\u001b[0;34m,\u001b[0m \u001b[0mgrad_tensors_\u001b[0m\u001b[0;34m,\u001b[0m \u001b[0mretain_graph\u001b[0m\u001b[0;34m,\u001b[0m \u001b[0mcreate_graph\u001b[0m\u001b[0;34m,\u001b[0m \u001b[0minputs\u001b[0m\u001b[0;34m,\u001b[0m\u001b[0;34m\u001b[0m\u001b[0;34m\u001b[0m\u001b[0m\n\u001b[1;32m    175\u001b[0m         allow_unreachable=True, accumulate_grad=True)  # Calls into the C++ engine to run the backward pass\n",
      "\u001b[0;31mKeyboardInterrupt\u001b[0m: "
     ]
    }
   ],
   "source": [
    "start = time.time()\n",
    "for t in range(1,60000):\n",
    "    # Forward pass: Compute predicted y by passing x to the model\n",
    "    y_pred = net(x)\n",
    "\n",
    "    # Compute and print loss\n",
    "    loss = criterion(y_pred, y)\n",
    "    loss_list.append(loss)\n",
    "    if t%400 == 0 or t==1:\n",
    "        print(t, loss.item())\n",
    "\n",
    "    # Zero gradients, perform a backward pass \n",
    "    optimizer.zero_grad()   # clearing the gradients\n",
    "    loss.backward()         # computing the gradients ( Automatic differentiation)\n",
    "\n",
    "    # Update the weights.\n",
    "    optimizer.step()        # updating the network paramters \n",
    "   \n",
    "loss_final = criterion(net(x), y)\n",
    "print( 'before and after training loss:', loss_orig.item(),loss_final.item())\n",
    "elapsed = (time.time() - start)\n",
    "print(\"Time taken: \",elapsed)  "
   ]
  },
  {
   "cell_type": "code",
   "execution_count": 223,
   "id": "a19e2814-101a-4ef8-9463-7099f732a097",
   "metadata": {},
   "outputs": [
    {
     "data": {
      "image/png": "[encoded data removed]",
      "text/plain": [
       "<Figure size 432x288 with 1 Axes>"
      ]
     },
     "metadata": {
      "needs_background": "light"
     },
     "output_type": "display_data"
    }
   ],
   "source": [
    "plt.plot(list(range(len(loss_list))), [t.tolist() for t in loss_list])\n",
    "plt.show()"
   ]
  },
  {
   "cell_type": "code",
   "execution_count": 288,
   "id": "88b9d48b-b0b0-4be4-842f-9067b802ee42",
   "metadata": {},
   "outputs": [
    {
     "data": {
      "text/plain": [
       "0.741981981981982"
      ]
     },
     "execution_count": 288,
     "metadata": {},
     "output_type": "execute_result"
    }
   ],
   "source": [
    "(net(x).round() == y).sum().item() / y_tr.shape[0]"
   ]
  },
  {
   "cell_type": "code",
   "execution_count": 291,
   "id": "6a43b052-133e-47e7-89de-04a33721f2a2",
   "metadata": {},
   "outputs": [
    {
     "data": {
      "text/plain": [
       "torch.Size([41625, 61])"
      ]
     },
     "execution_count": 291,
     "metadata": {},
     "output_type": "execute_result"
    }
   ],
   "source": [
    "x.shape"
   ]
  },
  {
   "cell_type": "code",
   "execution_count": 155,
   "id": "123d6b20-bdec-4a94-a228-90768bb1b685",
   "metadata": {},
   "outputs": [],
   "source": [
    "x_val = Variable(torch.from_numpy( np.array(X_val).astype('float32') ), requires_grad=False) \n",
    "y_val = Variable(torch.from_numpy( np.array(y_val).astype('float32') ), requires_grad=False)"
   ]
  },
  {
   "cell_type": "code",
   "execution_count": 192,
   "id": "dd7b6b4a-6bb5-4a65-aba4-75b073e4f0f2",
   "metadata": {},
   "outputs": [
    {
     "data": {
      "text/plain": [
       "tensor(0.5987, grad_fn=<BinaryCrossEntropyBackward0>)"
      ]
     },
     "execution_count": 192,
     "metadata": {},
     "output_type": "execute_result"
    }
   ],
   "source": [
    "criterion(net(x_val),y_val)"
   ]
  },
  {
   "cell_type": "code",
   "execution_count": 196,
   "id": "1b53fc33-1ca1-4bce-abd7-6824e2c6cd03",
   "metadata": {},
   "outputs": [
    {
     "data": {
      "text/plain": [
       "tensor(295)"
      ]
     },
     "execution_count": 196,
     "metadata": {},
     "output_type": "execute_result"
    }
   ],
   "source": [
    "(net(x_val).round() == y_val).sum()"
   ]
  },
  {
   "cell_type": "code",
   "execution_count": 197,
   "id": "aa23c715-8417-43d0-a9cc-7b0bc1d59ad1",
   "metadata": {},
   "outputs": [
    {
     "data": {
      "text/plain": [
       "torch.Size([421, 1])"
      ]
     },
     "execution_count": 197,
     "metadata": {},
     "output_type": "execute_result"
    }
   ],
   "source": [
    "y_val.shape"
   ]
  },
  {
   "cell_type": "code",
   "execution_count": 198,
   "id": "9b67bc6b-daa4-48d4-bd19-a748f604f0a5",
   "metadata": {},
   "outputs": [
    {
     "data": {
      "text/plain": [
       "0.7007125890736342"
      ]
     },
     "execution_count": 198,
     "metadata": {},
     "output_type": "execute_result"
    }
   ],
   "source": [
    "(net(x_val).round() == y_val).sum().item() / 421"
   ]
  },
  {
   "cell_type": "code",
   "execution_count": 202,
   "id": "7be9b357-c484-4551-86d0-e767af5e67f8",
   "metadata": {},
   "outputs": [
    {
     "data": {
      "text/plain": [
       "0.46080760095011875"
      ]
     },
     "execution_count": 202,
     "metadata": {},
     "output_type": "execute_result"
    }
   ],
   "source": [
    "(net(x_val).round()).sum().item() / 421"
   ]
  },
  {
   "cell_type": "code",
   "execution_count": null,
   "id": "7f659552-9e51-4836-94c6-ae4a07f5729d",
   "metadata": {},
   "outputs": [],
   "source": []
  },
  {
   "cell_type": "code",
   "execution_count": 207,
   "id": "70765c4d-d116-42b3-abea-c956f577d6fb",
   "metadata": {},
   "outputs": [
    {
     "data": {
      "text/plain": [
       "(256, 61)"
      ]
     },
     "execution_count": 207,
     "metadata": {},
     "output_type": "execute_result"
    }
   ],
   "source": [
    "X_test.shape"
   ]
  },
  {
   "cell_type": "code",
   "execution_count": 204,
   "id": "1541a38e-4ad6-4c4d-b452-1edb66d6b810",
   "metadata": {},
   "outputs": [],
   "source": [
    "X_test_maj = X_test[(y_test == 0).reshape(-1),:]"
   ]
  },
  {
   "cell_type": "code",
   "execution_count": 206,
   "id": "ed33de40-8fe0-43ef-b5aa-07c16d697fe9",
   "metadata": {},
   "outputs": [
    {
     "data": {
      "text/plain": [
       "(223, 61)"
      ]
     },
     "execution_count": 206,
     "metadata": {},
     "output_type": "execute_result"
    }
   ],
   "source": [
    "X_test_maj.shape"
   ]
  },
  {
   "cell_type": "code",
   "execution_count": 208,
   "id": "73f9ccf6-7412-4a6d-b3c6-d8c61e1052be",
   "metadata": {},
   "outputs": [],
   "source": [
    "y_test_maj = y_test[(y_test == 0)]"
   ]
  },
  {
   "cell_type": "code",
   "execution_count": 209,
   "id": "61558f4e-6dcf-482c-83ca-5736e50f2cb7",
   "metadata": {},
   "outputs": [],
   "source": [
    "X_test_mino = X_test[(y_test == 1).reshape(-1),:]"
   ]
  },
  {
   "cell_type": "code",
   "execution_count": 210,
   "id": "5eec9843-396f-45bd-8ef8-732b8fb30ffe",
   "metadata": {},
   "outputs": [],
   "source": [
    "y_test_mino = y_test[(y_test == 1)]"
   ]
  },
  {
   "cell_type": "code",
   "execution_count": 211,
   "id": "e3106f85-8e2f-4bc4-9bad-558b3000c540",
   "metadata": {},
   "outputs": [],
   "source": [
    "X_test_mino = resample(X_test_mino,n_samples=X_test_maj.shape[0],replace=True,random_state=42)"
   ]
  },
  {
   "cell_type": "code",
   "execution_count": 212,
   "id": "22def1f9-4eff-43f7-bd7b-f2a774a4d4a6",
   "metadata": {},
   "outputs": [
    {
     "data": {
      "text/plain": [
       "(223, 61)"
      ]
     },
     "execution_count": 212,
     "metadata": {},
     "output_type": "execute_result"
    }
   ],
   "source": [
    "X_test_mino.shape"
   ]
  },
  {
   "cell_type": "code",
   "execution_count": 213,
   "id": "001f1ac3-d57b-4c70-807d-5ba26c0b5f66",
   "metadata": {},
   "outputs": [],
   "source": [
    "y_test_mino = np.ones(shape=X_test_mino.shape[0])"
   ]
  },
  {
   "cell_type": "code",
   "execution_count": 214,
   "id": "203af2c9-36bb-453f-8958-0f9dca98edac",
   "metadata": {},
   "outputs": [
    {
     "data": {
      "text/plain": [
       "(223,)"
      ]
     },
     "execution_count": 214,
     "metadata": {},
     "output_type": "execute_result"
    }
   ],
   "source": [
    "y_test_mino.shape"
   ]
  },
  {
   "cell_type": "code",
   "execution_count": 215,
   "id": "517bd70b-f48b-4938-964c-d1e398bb97bd",
   "metadata": {},
   "outputs": [
    {
     "data": {
      "text/plain": [
       "(446, 61)"
      ]
     },
     "execution_count": 215,
     "metadata": {},
     "output_type": "execute_result"
    }
   ],
   "source": [
    "np.vstack([X_test_maj,X_test_mino]).shape"
   ]
  },
  {
   "cell_type": "code",
   "execution_count": 216,
   "id": "93ef6e3e-1429-4d3b-a3aa-ccf48363c9e0",
   "metadata": {},
   "outputs": [],
   "source": [
    "X_test = np.vstack([X_test_maj,X_test_mino])"
   ]
  },
  {
   "cell_type": "code",
   "execution_count": 217,
   "id": "c72e5040-db0a-49c4-9153-31fe8398957a",
   "metadata": {},
   "outputs": [],
   "source": [
    "y_test = np.vstack([y_test_maj.reshape(-1,1),y_test_mino.reshape(-1,1)])"
   ]
  },
  {
   "cell_type": "code",
   "execution_count": 218,
   "id": "ed09c024-7e17-4ce2-8a01-b5ab2d3d1258",
   "metadata": {},
   "outputs": [
    {
     "data": {
      "text/plain": [
       "(446, 61)"
      ]
     },
     "execution_count": 218,
     "metadata": {},
     "output_type": "execute_result"
    }
   ],
   "source": [
    "X_test.shape"
   ]
  },
  {
   "cell_type": "code",
   "execution_count": 219,
   "id": "12805fbb-613e-49f9-bbb5-200cbf6c98ed",
   "metadata": {},
   "outputs": [
    {
     "data": {
      "text/plain": [
       "(446, 1)"
      ]
     },
     "execution_count": 219,
     "metadata": {},
     "output_type": "execute_result"
    }
   ],
   "source": [
    "y_test.shape"
   ]
  },
  {
   "cell_type": "code",
   "execution_count": 220,
   "id": "47cf00b7-8ce0-4016-bc63-1738613ff590",
   "metadata": {},
   "outputs": [],
   "source": [
    "x_test = Variable(torch.from_numpy( np.array(X_test).astype('float32') ), requires_grad=False) \n",
    "y_test = Variable(torch.from_numpy( np.array(y_test).astype('float32') ), requires_grad=False)"
   ]
  },
  {
   "cell_type": "code",
   "execution_count": 221,
   "id": "cdfba797-bb10-4f5f-9c65-28110d2a9855",
   "metadata": {},
   "outputs": [
    {
     "data": {
      "text/plain": [
       "tensor(0.5000)"
      ]
     },
     "execution_count": 221,
     "metadata": {},
     "output_type": "execute_result"
    }
   ],
   "source": [
    "y_test.sum() / y_test.shape[0]"
   ]
  },
  {
   "cell_type": "code",
   "execution_count": 222,
   "id": "347dfcfb-2f21-4dcc-9920-a9f420c511d8",
   "metadata": {},
   "outputs": [
    {
     "data": {
      "text/plain": [
       "0.57847533632287"
      ]
     },
     "execution_count": 222,
     "metadata": {},
     "output_type": "execute_result"
    }
   ],
   "source": [
    "(net(x_test).round() == y_test).sum().item() / y_test.shape[0]"
   ]
  },
  {
   "cell_type": "code",
   "execution_count": 224,
   "id": "9ccd861a-6342-4fcb-87f3-dadc8addd6b8",
   "metadata": {},
   "outputs": [],
   "source": [
    "y_test_pred = net(x_test).round()"
   ]
  },
  {
   "cell_type": "code",
   "execution_count": 270,
   "id": "ab21d622-bfc9-4184-9488-6a4e7dcf14bd",
   "metadata": {},
   "outputs": [
    {
     "data": {
      "text/plain": [
       "tensor(157., grad_fn=<SumBackward0>)"
      ]
     },
     "execution_count": 270,
     "metadata": {},
     "output_type": "execute_result"
    }
   ],
   "source": [
    "y_test_pred.sum()"
   ]
  },
  {
   "cell_type": "code",
   "execution_count": 276,
   "id": "aa94d757-2515-49a1-898d-f577e9309a72",
   "metadata": {},
   "outputs": [],
   "source": [
    "results_df = pd.DataFrame(X_test).iloc[:,:2]"
   ]
  },
  {
   "cell_type": "code",
   "execution_count": 277,
   "id": "9dc07898-4058-4544-b4cf-9d440948b854",
   "metadata": {},
   "outputs": [],
   "source": [
    "results_df['y_test'] = y_test"
   ]
  },
  {
   "cell_type": "code",
   "execution_count": 279,
   "id": "326e5cbe-fc41-4d1b-8cc2-1b200ad29255",
   "metadata": {},
   "outputs": [],
   "source": [
    "results_df['y_pred'] = y_test_pred.detach().numpy()"
   ]
  },
  {
   "cell_type": "code",
   "execution_count": 280,
   "id": "c89e5d69-bdee-449f-97bb-07d96202548f",
   "metadata": {},
   "outputs": [],
   "source": [
    "results_df.to_csv('test_results.csv')"
   ]
  },
  {
   "cell_type": "code",
   "execution_count": 228,
   "id": "b7f99435-ac5d-441a-8200-1f9d6d1dc08b",
   "metadata": {},
   "outputs": [],
   "source": [
    "_, X_test_full, _, y_test_full = train_test_split(X, y_full, test_size=0.01, random_state=42)"
   ]
  },
  {
   "cell_type": "code",
   "execution_count": 247,
   "id": "7ef555d1-7f7b-4d1a-a535-54bf4d4e8474",
   "metadata": {},
   "outputs": [
    {
     "data": {
      "text/plain": [
       "(256,)"
      ]
     },
     "execution_count": 247,
     "metadata": {},
     "output_type": "execute_result"
    }
   ],
   "source": [
    "y_test_full.shape"
   ]
  },
  {
   "cell_type": "code",
   "execution_count": 230,
   "id": "c48697cb-cba7-4b4d-aafa-df5ab75ae4eb",
   "metadata": {},
   "outputs": [],
   "source": [
    "X_test_df = pd.DataFrame(X_test_full,columns=df.drop(columns=['Severity_class_v2']).columns)"
   ]
  },
  {
   "cell_type": "code",
   "execution_count": 234,
   "id": "ecb3235c-f98f-4e9f-bfdc-2764816fcd56",
   "metadata": {},
   "outputs": [],
   "source": [
    "X_test_df['y_test'] = y_test_full"
   ]
  },
  {
   "cell_type": "code",
   "execution_count": 236,
   "id": "6c647186-ec01-4408-a288-e53e0b955daa",
   "metadata": {},
   "outputs": [],
   "source": [
    "X_test_df.to_csv('test_set.csv')"
   ]
  },
  {
   "cell_type": "code",
   "execution_count": 241,
   "id": "b721666c-04b6-452c-93ab-b718124d070c",
   "metadata": {},
   "outputs": [],
   "source": [
    "X_test_full_pca = pca.transform(X_test_full)[:,:60+1]"
   ]
  },
  {
   "cell_type": "code",
   "execution_count": 253,
   "id": "4002f903-e002-4d1b-8846-d0574f966753",
   "metadata": {},
   "outputs": [],
   "source": [
    "x_test_nonupsamp = Variable(torch.from_numpy( np.array(X_test_full_pca).astype('float32') ), requires_grad=False) \n",
    "y_test_nonupsamp = Variable(torch.from_numpy( np.array(y_test_full.reshape(-1,1)).astype('float32') ), requires_grad=False)"
   ]
  },
  {
   "cell_type": "code",
   "execution_count": 254,
   "id": "14977244-2456-4745-bf3a-9fa647faac12",
   "metadata": {},
   "outputs": [
    {
     "data": {
      "text/plain": [
       "(256, 82)"
      ]
     },
     "execution_count": 254,
     "metadata": {},
     "output_type": "execute_result"
    }
   ],
   "source": [
    "X_test_full.shape"
   ]
  },
  {
   "cell_type": "code",
   "execution_count": 255,
   "id": "a3b206aa-c540-4708-b0e7-bd47482f3113",
   "metadata": {},
   "outputs": [
    {
     "data": {
      "text/plain": [
       "torch.Size([256, 1])"
      ]
     },
     "execution_count": 255,
     "metadata": {},
     "output_type": "execute_result"
    }
   ],
   "source": [
    "net(x_test_nonupsamp).round().shape"
   ]
  },
  {
   "cell_type": "code",
   "execution_count": 256,
   "id": "631a6e77-02be-46fa-a683-56832b066362",
   "metadata": {},
   "outputs": [
    {
     "data": {
      "text/plain": [
       "torch.Size([256, 1])"
      ]
     },
     "execution_count": 256,
     "metadata": {},
     "output_type": "execute_result"
    }
   ],
   "source": [
    "y_test_nonupsamp.shape"
   ]
  },
  {
   "cell_type": "code",
   "execution_count": 257,
   "id": "cdf84a55-989c-466d-959b-0fc4221a4433",
   "metadata": {},
   "outputs": [
    {
     "data": {
      "text/plain": [
       "tensor(223)"
      ]
     },
     "execution_count": 257,
     "metadata": {},
     "output_type": "execute_result"
    }
   ],
   "source": [
    "(net(x_test_nonupsamp).round() == y_test_nonupsamp).sum()"
   ]
  },
  {
   "cell_type": "code",
   "execution_count": 272,
   "id": "33f942b4-eb7c-440d-8de0-49445abe5798",
   "metadata": {},
   "outputs": [],
   "source": [
    "y_test_nonupsamp_pred = net(x_test_nonupsamp).round()"
   ]
  },
  {
   "cell_type": "code",
   "execution_count": 273,
   "id": "1e22f1e7-b822-49f6-8e45-091573c84741",
   "metadata": {},
   "outputs": [
    {
     "data": {
      "text/plain": [
       "tensor(0., grad_fn=<SumBackward0>)"
      ]
     },
     "execution_count": 273,
     "metadata": {},
     "output_type": "execute_result"
    }
   ],
   "source": [
    "y_test_nonupsamp_pred.sum()"
   ]
  },
  {
   "cell_type": "code",
   "execution_count": 267,
   "id": "b718fca7-9bfc-485d-a724-895b93dde84f",
   "metadata": {},
   "outputs": [],
   "source": [
    "X_test_df['y_pred'] = y_test_nonupsamp_pred.reshape(-1).detach().numpy()"
   ]
  },
  {
   "cell_type": "code",
   "execution_count": 269,
   "id": "6987e31d-4b4a-443f-bcc6-0cbb790652f1",
   "metadata": {},
   "outputs": [
    {
     "data": {
      "text/plain": [
       "array([0.], dtype=float32)"
      ]
     },
     "execution_count": 269,
     "metadata": {},
     "output_type": "execute_result"
    }
   ],
   "source": [
    "X_test_df.y_pred.unique()"
   ]
  },
  {
   "cell_type": "code",
   "execution_count": null,
   "id": "4bcc4449-cb17-494b-ae0d-25d1eca1dff3",
   "metadata": {},
   "outputs": [],
   "source": []
  }
 ],
 "metadata": {
  "kernelspec": {
   "display_name": "Python 3 (ipykernel)",
   "language": "python",
   "name": "python3"
  },
  "language_info": {
   "codemirror_mode": {
    "name": "ipython",
    "version": 3
   },
   "file_extension": ".py",
   "mimetype": "text/x-python",
   "name": "python",
   "nbconvert_exporter": "python",
   "pygments_lexer": "ipython3",
   "version": "3.8.2"
  }
 },
 "nbformat": 4,
 "nbformat_minor": 5
}
