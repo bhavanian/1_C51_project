{
 "cells": [
  {
   "cell_type": "code",
   "execution_count": 3,
   "id": "9bb35b3b-a401-4127-ad73-ce1209f4f462",
   "metadata": {},
   "outputs": [],
   "source": [
    "import pandas as pd\n",
    "import numpy as np\n",
    "from matplotlib import pyplot as plt"
   ]
  },
  {
   "cell_type": "code",
   "execution_count": 4,
   "id": "ffb3e491-ca91-4944-bb7b-2beac11d890b",
   "metadata": {},
   "outputs": [],
   "source": [
    "# Data Source: https://data.boston.gov/dataset/rentsmart\n",
    "# Desc: Rentals only; Boston; 2016-present (previous years available 'through 1700s')\n",
    "\n",
    "# \"RentSmart Boston compiles data from BOS:311 and the City's Inspectional Services Division\n",
    "# to give prospective tenants a more complete picture of the homes and apartments they are \n",
    "# considering renting, assisting them in understanding any previous issues with the property, \n",
    "# including: housing violations, building violations, enforcement violations, housing complaints,\n",
    "# sanitation requests, and/or civic maintenance requests.\""
   ]
  },
  {
   "cell_type": "code",
   "execution_count": 5,
   "id": "b5a59f9e-8134-400d-a4f0-8f95e765c577",
   "metadata": {},
   "outputs": [
    {
     "data": {
      "text/plain": [
       "'\\nTODO\\n- correlations in space, time, building characteristics with complaint number and frequency\\n\\n'"
      ]
     },
     "execution_count": 5,
     "metadata": {},
     "output_type": "execute_result"
    }
   ],
   "source": [
    "'''\n",
    "TODO\n",
    "- correlations in space, time, building characteristics with complaint number and frequency\n",
    "\n",
    "'''"
   ]
  },
  {
   "cell_type": "code",
   "execution_count": null,
   "id": "a4121519-9468-4ee6-b7af-e26dbf2cc936",
   "metadata": {},
   "outputs": [],
   "source": []
  },
  {
   "cell_type": "code",
   "execution_count": 6,
   "id": "7864f721-36fc-42ac-bc34-49ff644220fa",
   "metadata": {},
   "outputs": [],
   "source": [
    "df = pd.read_csv('rentsmart_2016-Present.csv', parse_dates=['date'], dtype={'zip_code':str})"
   ]
  },
  {
   "cell_type": "code",
   "execution_count": 7,
   "id": "ee96f970-7858-48ce-afff-7348437f3540",
   "metadata": {},
   "outputs": [
    {
     "data": {
      "text/html": [
       "<div>\n",
       "<style scoped>\n",
       "    .dataframe tbody tr th:only-of-type {\n",
       "        vertical-align: middle;\n",
       "    }\n",
       "\n",
       "    .dataframe tbody tr th {\n",
       "        vertical-align: top;\n",
       "    }\n",
       "\n",
       "    .dataframe thead th {\n",
       "        text-align: right;\n",
       "    }\n",
       "</style>\n",
       "<table border=\"1\" class=\"dataframe\">\n",
       "  <thead>\n",
       "    <tr style=\"text-align: right;\">\n",
       "      <th></th>\n",
       "      <th>date</th>\n",
       "      <th>violation_type</th>\n",
       "      <th>description</th>\n",
       "      <th>address</th>\n",
       "      <th>neighborhood</th>\n",
       "      <th>zip_code</th>\n",
       "      <th>parcel</th>\n",
       "      <th>owner</th>\n",
       "      <th>year built</th>\n",
       "      <th>year remodeled</th>\n",
       "      <th>property_type</th>\n",
       "      <th>latitude</th>\n",
       "      <th>longitude</th>\n",
       "    </tr>\n",
       "  </thead>\n",
       "  <tbody>\n",
       "    <tr>\n",
       "      <th>0</th>\n",
       "      <td>2022-03-31 21:20:40.037</td>\n",
       "      <td>Sanitation Requests</td>\n",
       "      <td>Rodent Activity</td>\n",
       "      <td>10 Albright St, 02132</td>\n",
       "      <td>West Roxbury</td>\n",
       "      <td>02132</td>\n",
       "      <td>2008027000</td>\n",
       "      <td>KELLEY MICHAEL M</td>\n",
       "      <td>1930.0</td>\n",
       "      <td>NaN</td>\n",
       "      <td>Residential 1-family</td>\n",
       "      <td>42.28711</td>\n",
       "      <td>-71.16710</td>\n",
       "    </tr>\n",
       "    <tr>\n",
       "      <th>1</th>\n",
       "      <td>2022-03-31 20:30:00.000</td>\n",
       "      <td>Housing Complaints</td>\n",
       "      <td>Electrical</td>\n",
       "      <td>15 Ridgeview Ave, 02126</td>\n",
       "      <td>Mattapan</td>\n",
       "      <td>02126</td>\n",
       "      <td>1800114017</td>\n",
       "      <td>WILKINS FRANCINE</td>\n",
       "      <td>1945.0</td>\n",
       "      <td>NaN</td>\n",
       "      <td>Residential 2-family</td>\n",
       "      <td>42.27183</td>\n",
       "      <td>-71.08549</td>\n",
       "    </tr>\n",
       "    <tr>\n",
       "      <th>2</th>\n",
       "      <td>2022-03-31 20:20:43.470</td>\n",
       "      <td>Sanitation Requests</td>\n",
       "      <td>Abandoned Vehicles</td>\n",
       "      <td>35 Firth Rd # 1, 02131</td>\n",
       "      <td>Roslindale</td>\n",
       "      <td>02131</td>\n",
       "      <td>1903173000</td>\n",
       "      <td>RIGAS IRENE M</td>\n",
       "      <td>1915.0</td>\n",
       "      <td>NaN</td>\n",
       "      <td>Residential 2-family</td>\n",
       "      <td>42.28753</td>\n",
       "      <td>-71.12429</td>\n",
       "    </tr>\n",
       "    <tr>\n",
       "      <th>3</th>\n",
       "      <td>2022-03-31 20:20:09.950</td>\n",
       "      <td>Sanitation Requests</td>\n",
       "      <td>Abandoned Vehicles</td>\n",
       "      <td>33 Firth Rd # 1, 02131</td>\n",
       "      <td>Roslindale</td>\n",
       "      <td>02131</td>\n",
       "      <td>1903172000</td>\n",
       "      <td>HOANG LUC TS</td>\n",
       "      <td>1915.0</td>\n",
       "      <td>2005.0</td>\n",
       "      <td>Residential 2-family</td>\n",
       "      <td>42.28760</td>\n",
       "      <td>-71.12440</td>\n",
       "    </tr>\n",
       "    <tr>\n",
       "      <th>4</th>\n",
       "      <td>2022-03-31 19:32:58.257</td>\n",
       "      <td>Housing Complaints</td>\n",
       "      <td>Pest Infestation - Residential</td>\n",
       "      <td>65 Marion St, 02128</td>\n",
       "      <td>East Boston</td>\n",
       "      <td>02128</td>\n",
       "      <td>102652000</td>\n",
       "      <td>PALOMINO JUDITH</td>\n",
       "      <td>1880.0</td>\n",
       "      <td>1990.0</td>\n",
       "      <td>Residential 3-family</td>\n",
       "      <td>42.37866</td>\n",
       "      <td>-71.03782</td>\n",
       "    </tr>\n",
       "  </tbody>\n",
       "</table>\n",
       "</div>"
      ],
      "text/plain": [
       "                     date       violation_type  \\\n",
       "0 2022-03-31 21:20:40.037  Sanitation Requests   \n",
       "1 2022-03-31 20:30:00.000   Housing Complaints   \n",
       "2 2022-03-31 20:20:43.470  Sanitation Requests   \n",
       "3 2022-03-31 20:20:09.950  Sanitation Requests   \n",
       "4 2022-03-31 19:32:58.257   Housing Complaints   \n",
       "\n",
       "                      description                  address  neighborhood  \\\n",
       "0                 Rodent Activity    10 Albright St, 02132  West Roxbury   \n",
       "1                      Electrical  15 Ridgeview Ave, 02126      Mattapan   \n",
       "2              Abandoned Vehicles   35 Firth Rd # 1, 02131    Roslindale   \n",
       "3              Abandoned Vehicles   33 Firth Rd # 1, 02131    Roslindale   \n",
       "4  Pest Infestation - Residential      65 Marion St, 02128   East Boston   \n",
       "\n",
       "  zip_code      parcel             owner  year built  year remodeled  \\\n",
       "0    02132  2008027000  KELLEY MICHAEL M      1930.0             NaN   \n",
       "1    02126  1800114017  WILKINS FRANCINE      1945.0             NaN   \n",
       "2    02131  1903173000     RIGAS IRENE M      1915.0             NaN   \n",
       "3    02131  1903172000      HOANG LUC TS      1915.0          2005.0   \n",
       "4    02128   102652000   PALOMINO JUDITH      1880.0          1990.0   \n",
       "\n",
       "          property_type  latitude  longitude  \n",
       "0  Residential 1-family  42.28711  -71.16710  \n",
       "1  Residential 2-family  42.27183  -71.08549  \n",
       "2  Residential 2-family  42.28753  -71.12429  \n",
       "3  Residential 2-family  42.28760  -71.12440  \n",
       "4  Residential 3-family  42.37866  -71.03782  "
      ]
     },
     "execution_count": 7,
     "metadata": {},
     "output_type": "execute_result"
    }
   ],
   "source": [
    "df.head()"
   ]
  },
  {
   "cell_type": "code",
   "execution_count": 8,
   "id": "6016ab97-6f9f-4d9e-972b-d2adc739121e",
   "metadata": {},
   "outputs": [
    {
     "name": "stdout",
     "output_type": "stream",
     "text": [
      "List of Neighborhoods\n"
     ]
    },
    {
     "data": {
      "text/plain": [
       "Dorchester       76008\n",
       "Boston           59567\n",
       "Roxbury          31928\n",
       "South Boston     20962\n",
       "Brighton         19325\n",
       "East Boston      16875\n",
       "Allston          15471\n",
       "Mattapan         14733\n",
       "Jamaica Plain    11759\n",
       "Mission Hill     11533\n",
       "Hyde Park        10129\n",
       "Roslindale        8829\n",
       "Charlestown       7027\n",
       "West Roxbury      4600\n",
       "Chestnut Hill       93\n",
       "Name: neighborhood, dtype: int64"
      ]
     },
     "execution_count": 8,
     "metadata": {},
     "output_type": "execute_result"
    }
   ],
   "source": [
    "print('List of Neighborhoods')\n",
    "df.neighborhood.value_counts()"
   ]
  },
  {
   "cell_type": "code",
   "execution_count": 9,
   "id": "faa26086-5d4e-43a8-90bb-91086adf85fb",
   "metadata": {},
   "outputs": [
    {
     "name": "stdout",
     "output_type": "stream",
     "text": [
      "List of Zipcodes\n"
     ]
    },
    {
     "data": {
      "text/plain": [
       "02124    26703\n",
       "02127    20961\n",
       "02125    19765\n",
       "02135    19327\n",
       "02118    17577\n",
       "02128    16874\n",
       "02121    15899\n",
       "02134    15457\n",
       "02126    14718\n",
       "02119    14347\n",
       "02116    14278\n",
       "02122    13664\n",
       "02130    11787\n",
       "02114    11752\n",
       "02120    11463\n",
       "02113    10766\n",
       "02136    10129\n",
       "02115     9709\n",
       "02131     8655\n",
       "02129     7028\n",
       "02215     5516\n",
       "02132     4750\n",
       "02109     3023\n",
       "02108     2170\n",
       "02111     1944\n",
       "02110      230\n",
       "02210      203\n",
       "02467      120\n",
       "02199       29\n",
       "02445        2\n",
       "Name: zip_code, dtype: int64"
      ]
     },
     "execution_count": 9,
     "metadata": {},
     "output_type": "execute_result"
    }
   ],
   "source": [
    "print('List of Zipcodes')\n",
    "df.zip_code.value_counts()"
   ]
  },
  {
   "cell_type": "code",
   "execution_count": 10,
   "id": "d8fd0fb8-5d46-4223-9045-91e50cb75453",
   "metadata": {},
   "outputs": [
    {
     "name": "stdout",
     "output_type": "stream",
     "text": [
      "Columns with missing values:\n",
      " Index(['description', 'neighborhood', 'year built', 'year remodeled'], dtype='object')\n"
     ]
    }
   ],
   "source": [
    "print('Columns with missing values:\\n',df.columns[df.isna().any()])"
   ]
  },
  {
   "cell_type": "code",
   "execution_count": 11,
   "id": "07f55a21-3c96-4b36-8739-cefdb9ca62aa",
   "metadata": {},
   "outputs": [
    {
     "data": {
      "text/plain": [
       "(308846, 13)"
      ]
     },
     "execution_count": 11,
     "metadata": {},
     "output_type": "execute_result"
    }
   ],
   "source": [
    "df.shape"
   ]
  },
  {
   "cell_type": "code",
   "execution_count": 12,
   "id": "f4d08e15-a854-4c4e-937f-0683bfb1fc58",
   "metadata": {},
   "outputs": [
    {
     "name": "stdout",
     "output_type": "stream",
     "text": [
      "Number of Unique Dataset\n",
      " Entries per Field\n"
     ]
    },
    {
     "data": {
      "text/plain": [
       "date              98154\n",
       "violation_type        6\n",
       "description         227\n",
       "address           76464\n",
       "neighborhood         15\n",
       "zip_code             30\n",
       "parcel            50441\n",
       "owner             45381\n",
       "year built          224\n",
       "year remodeled       91\n",
       "property_type         7\n",
       "latitude          67293\n",
       "longitude         67309\n",
       "dtype: int64"
      ]
     },
     "execution_count": 12,
     "metadata": {},
     "output_type": "execute_result"
    }
   ],
   "source": [
    "print('Number of Unique Dataset\\n Entries per Field')\n",
    "df.nunique()\n"
   ]
  },
  {
   "cell_type": "code",
   "execution_count": 13,
   "id": "784df9e6-66b7-4f64-984b-face66750acf",
   "metadata": {},
   "outputs": [
    {
     "name": "stdout",
     "output_type": "stream",
     "text": [
      "Mean Violations Per Address (Raw Entry): 4.039103368905629 Stdev: 7.631525573832486\n"
     ]
    },
    {
     "data": {
      "text/plain": [
       "address\n",
       "0 Ping On St, 02111            1\n",
       "1 A Acorn St, 02108            3\n",
       "1 A Unity St, 02113            2\n",
       "1 Abbotsford St, 02121         2\n",
       "1 Acorn St, 02108              5\n",
       "                              ..\n",
       "9A-15 Walk Hill St, 02130      3\n",
       "9B-9 Garden Court St, 02113    2\n",
       "9R Salem St, 02129             1\n",
       "9R Shepard St, 02135           2\n",
       "9R Winship St #B, 02135        3\n",
       "Name: date, Length: 76464, dtype: int64"
      ]
     },
     "execution_count": 13,
     "metadata": {},
     "output_type": "execute_result"
    }
   ],
   "source": [
    "print('Mean Violations Per Address (Raw Entry):',df.groupby('address').date.count().mean(),'Stdev:',df.groupby('address').date.count().std())\n",
    "df.groupby('address').date.count()"
   ]
  },
  {
   "cell_type": "code",
   "execution_count": 14,
   "id": "ccfe1194-2843-4702-851a-c18c81f11345",
   "metadata": {},
   "outputs": [
    {
     "name": "stdout",
     "output_type": "stream",
     "text": [
      "Mean Violations Per Owner (Raw Entry): 6.805623498821093 Stdev: 17.103377642190768\n"
     ]
    },
    {
     "data": {
      "text/plain": [
       "owner\n",
       "0NE-50 MAGNOLIA LLC               10\n",
       "1  ARBORVITAES  LLC               15\n",
       "1 ARBORVITAES LLC                  6\n",
       "1 ARION STREET LLC                 5\n",
       "1 ASPINWALL ROAD REALTY  TRUST     5\n",
       "                                  ..\n",
       "ZUREK ANDREW D GELLING             1\n",
       "ZUROMSKIS CHRISTINE TS            30\n",
       "ZUROMSKIS J MICHAEL TRST          36\n",
       "ZVONAR ZORAN                       2\n",
       "ZYTO AURORE                        1\n",
       "Name: date, Length: 45381, dtype: int64"
      ]
     },
     "execution_count": 14,
     "metadata": {},
     "output_type": "execute_result"
    }
   ],
   "source": [
    "print('Mean Violations Per Owner (Raw Entry):',df.groupby('owner').date.count().mean(),'Stdev:',df.groupby('owner').date.count().std())\n",
    "df.groupby('owner').date.count()"
   ]
  },
  {
   "cell_type": "code",
   "execution_count": 15,
   "id": "51006863-e4e9-4ef9-9855-c52dc7f5d3ae",
   "metadata": {},
   "outputs": [
    {
     "data": {
      "image/png": "[encoded data removed]",
      "text/plain": [
       "<Figure size 432x288 with 1 Axes>"
      ]
     },
     "metadata": {
      "needs_background": "light"
     },
     "output_type": "display_data"
    }
   ],
   "source": [
    "df.groupby('neighborhood').violation_type.value_counts().rename('num_violations_by_neighborhood').unstack().plot.bar(stacked=True)\n",
    "plt.title('Number of Violations Reported per Neighborhood')\n",
    "plt.ylabel('Number of Violations, 2016-present')\n",
    "plt.show()"
   ]
  },
  {
   "cell_type": "code",
   "execution_count": 16,
   "id": "9bf5e545-2609-425a-ab4f-db4b6e99b063",
   "metadata": {},
   "outputs": [
    {
     "data": {
      "image/png": "[encoded data removed]",
      "text/plain": [
       "<Figure size 432x288 with 1 Axes>"
      ]
     },
     "metadata": {
      "needs_background": "light"
     },
     "output_type": "display_data"
    }
   ],
   "source": [
    "df.groupby('neighborhood').violation_type.count().plot.bar()\n",
    "plt.ylabel('Total Number of Violations, 2016-present')\n",
    "plt.show()"
   ]
  },
  {
   "cell_type": "code",
   "execution_count": 17,
   "id": "89423468-4866-4abd-a73b-909976325ffe",
   "metadata": {},
   "outputs": [
    {
     "name": "stdout",
     "output_type": "stream",
     "text": [
      "10 Enforcement Violations Descriptions\n",
      " with the Most Number of Reported Cases\n"
     ]
    },
    {
     "data": {
      "text/plain": [
       "Improper storage trash: res       139189\n",
       "Overfilling of barrel/dumpster     20455\n",
       "Overgrown Weeds On Property        14464\n",
       "Failure clear sidewalk - snow      11642\n",
       "Illegal dumping < 1 cubic yd        4999\n",
       "Improper storage trash: com         4192\n",
       "Occupying City prop wo permit       2510\n",
       "illegal parking prop owner 1        1669\n",
       "Unregistered motor vehicles- 2      1228\n",
       "illegal parking prop owner 2         914\n",
       "Failure To Register                  828\n",
       "Unregistered motor vehicles-1        703\n",
       "Maint a dumpster wopermit            644\n",
       "Trash illegally dump container       347\n",
       "Removal snow private prop            302\n",
       "Failure clear sidewalk - snow:       207\n",
       "Site Cleanliness license – WAR       186\n",
       "Failure to secure a Re-Inspect       144\n",
       "No Number On A Building              136\n",
       "Failed Multiple Rental Insp          113\n",
       "Failure to Obtain Inspection         110\n",
       "Shopping Cart - 1                    103\n",
       "Illegal dumping 1-5 cubic yd.:       100\n",
       "Graffiti on building- 1               93\n",
       "Failure clean sidewalk com            73\n",
       "Removal snow private property         61\n",
       "Removal snow non-res property         45\n",
       "Non-Emergency Auto Repair             44\n",
       "Posting signs wo authority            21\n",
       "Failure of Delivery Standards         15\n",
       "Shopping Cart - 2                     15\n",
       "Site Cleanliness license – VIO        14\n",
       "Graffiti on building- 2               14\n",
       "Transporting refuse without pe        10\n",
       "Fail to post management comp           7\n",
       "Illegal Vending                        6\n",
       "disposal med waste                     5\n",
       "Large building recycling- 1            4\n",
       "Illegal dumping w a vehicle            3\n",
       "Large building recycling - 2           2\n",
       "Illegal dumping 5+ cubic yd            1\n",
       "Illegal dumping park                   1\n",
       "Illegal dumping: Haz Waste             1\n",
       "Illegal dumping 1-5 cuyd.              1\n",
       "Sign: COB Zoning Article 11-1          1\n",
       "Name: description, dtype: int64"
      ]
     },
     "execution_count": 17,
     "metadata": {},
     "output_type": "execute_result"
    }
   ],
   "source": [
    "print('10 Enforcement Violations Descriptions\\n with the Most Number of Reported Cases')\n",
    "df.loc[df.violation_type == 'Enforcement Violations'].description.value_counts()"
   ]
  },
  {
   "cell_type": "code",
   "execution_count": 18,
   "id": "a60e4525-f1ca-4ceb-a619-ea7811bc7389",
   "metadata": {},
   "outputs": [
    {
     "name": "stdout",
     "output_type": "stream",
     "text": [
      "10 Housing Complaints Descriptions\n",
      " with the Most Number of Reported Cases\n"
     ]
    },
    {
     "data": {
      "text/plain": [
       "Unsatisfactory Living Conditions                   9301\n",
       "Work w/out Permit                                  6267\n",
       "Contractors Complaint                              5262\n",
       "Building Inspection Request                        4155\n",
       "Pest Infestation - Residential                     3837\n",
       "Heat - Excessive, Insufficient                     3704\n",
       "Unsafe Dangerous Conditions                        3540\n",
       "Working Beyond Hours                               2804\n",
       "Electrical                                         1941\n",
       "Protection of Adjoining Property                   1549\n",
       "Mice Infestation - Residential                     1475\n",
       "Maintenance - Homeowner                            1277\n",
       "Maintenance Complaint - Residential                1119\n",
       "Exceeding Terms of Permit                          1111\n",
       "Chronic Dampness/Mold                               992\n",
       "Cross Metering - Sub-Metering                       957\n",
       "Illegal Occupancy                                   952\n",
       "Illegal Rooming House                               717\n",
       "No Utilities Residential - Water                    686\n",
       "Bed Bugs                                            668\n",
       "Unsatisfactory Utilities - Electrical, Plumbing     598\n",
       "Egress                                              577\n",
       "Plumbing                                            366\n",
       "Rental Unit Delivery Conditions                     347\n",
       "No Utilities Residential - Electricity              323\n",
       "Carbon Monoxide                                     298\n",
       "Sewage/Septic Back-Up                               257\n",
       "Squalid Living Conditions                           243\n",
       "Overcrowding                                        226\n",
       "Mechanical                                          186\n",
       "Zoning                                              159\n",
       "Short Term Rental                                   158\n",
       "No Utilities Residential - Gas                      155\n",
       "Rooftop & Mechanical Disturbances                   151\n",
       "Breathe Easy                                        132\n",
       "Poor Ventilation                                    112\n",
       "Lead                                                107\n",
       "Occupying W/Out A Valid CO/CI                        53\n",
       "Student Overcrowding                                  9\n",
       "Illegal Use                                           6\n",
       "Name: description, dtype: int64"
      ]
     },
     "execution_count": 18,
     "metadata": {},
     "output_type": "execute_result"
    }
   ],
   "source": [
    "print('10 Housing Complaints Descriptions\\n with the Most Number of Reported Cases')\n",
    "df.loc[df.violation_type == 'Housing Complaints'].description.value_counts()"
   ]
  },
  {
   "cell_type": "code",
   "execution_count": 19,
   "id": "060c1dcc-38cd-43ff-9d46-124a41a146de",
   "metadata": {},
   "outputs": [
    {
     "name": "stdout",
     "output_type": "stream",
     "text": [
      "Mean Housing Complaints Per Owner (Raw Entry): 2.9500675465031696 Stdev: 5.642584876632863 Max: 383.0\n"
     ]
    },
    {
     "data": {
      "text/plain": [
       "owner\n",
       "0NE-50 MAGNOLIA LLC               6.0\n",
       "1  ARBORVITAES  LLC               1.0\n",
       "1 ARBORVITAES LLC                 3.0\n",
       "1 ARION STREET LLC                1.0\n",
       "1 ASPINWALL ROAD REALTY  TRUST    2.0\n",
       "                                 ... \n",
       "ZUREK ANDREW D GELLING            1.0\n",
       "ZUROMSKIS CHRISTINE TS            4.0\n",
       "ZUROMSKIS J MICHAEL TRST          1.0\n",
       "ZVONAR ZORAN                      NaN\n",
       "ZYTO AURORE                       NaN\n",
       "Name: Housing Complaints, Length: 45381, dtype: float64"
      ]
     },
     "execution_count": 19,
     "metadata": {},
     "output_type": "execute_result"
    }
   ],
   "source": [
    "print('Mean Housing Complaints Per Owner (Raw Entry):',\n",
    "      df.groupby('owner').violation_type.value_counts().rename('num_violations_by_owner').unstack()['Housing Complaints'].mean(),\n",
    "      'Stdev:',df.groupby('owner').violation_type.value_counts().rename('num_violations_by_owner').unstack()['Housing Complaints'].std(),\n",
    "     'Max:', df.groupby('owner').violation_type.value_counts().rename('num_violations_by_owner').unstack()['Housing Complaints'].max())\n",
    "df.groupby('owner').violation_type.value_counts().rename('num_violations_by_owner').unstack()['Housing Complaints']"
   ]
  },
  {
   "cell_type": "code",
   "execution_count": 20,
   "id": "ce311b05-c929-4fbe-bd12-3993a095740c",
   "metadata": {},
   "outputs": [
    {
     "data": {
      "text/plain": [
       "owner\n",
       "GBM PORTFOLIO OWNER LLC                383.0\n",
       "NORTHAMPTON SQ CONDO ASSOC             133.0\n",
       "JPNDC  PITTS  LLC                      129.0\n",
       "KASANOF LAND LLC                       121.0\n",
       "CESCO LLC MASS LLC                     106.0\n",
       "SOLSKINN PROPERTIES LLC                102.0\n",
       "GEORGETOWNE HOMES ONE LLC MASS LLC      89.0\n",
       "WASHINGTON COLUMBIA II MASS LPS         85.0\n",
       "HARBOR POINT APTS CO LESSEE             83.0\n",
       "MCKINLEY INVESTMENT GROUP  LLC          76.0\n",
       "MERCANTILE WHARF ASSOCIATES             72.0\n",
       "LACONCHA LIMITED PARTNERSHIP            71.0\n",
       "PNC ARHPF BLUE MOUNTAIN APTS LLC        69.0\n",
       "BISMARCK STREET OWNER LLC               67.0\n",
       "NEW FRANKLIN PARK LIMITED               67.0\n",
       "MILLER DWIGHT                           66.0\n",
       "FERREIRA JOSE                           65.0\n",
       "CHARLES RIVER PARK D COMPANY            64.0\n",
       "GROVE HALL REDEVELOPER LLC MASS LLC     64.0\n",
       "PNC ARHPF NEW PORT ANTONIO APTS LLC     64.0\n",
       "Name: Housing Complaints, dtype: float64"
      ]
     },
     "execution_count": 20,
     "metadata": {},
     "output_type": "execute_result"
    }
   ],
   "source": [
    "df.groupby('owner').violation_type.value_counts().rename('num_violations_by_owner').unstack()['Housing Complaints'].nlargest(20)\n",
    "#uniue properties with reported complaints per owner per units"
   ]
  },
  {
   "cell_type": "code",
   "execution_count": 21,
   "id": "90d7b5ce-2119-452a-b4d1-cb41c8644fdf",
   "metadata": {},
   "outputs": [
    {
     "data": {
      "text/plain": [
       "address                        property_type               \n",
       "1 Howland St # 2B, 02121       Residential 7 or more units     1\n",
       "1 Howland St #1, 02121         Residential 7 or more units     2\n",
       "1 Howland St #11, 02121        Residential 7 or more units     1\n",
       "1 Howland St #3, 02121         Residential 7 or more units     4\n",
       "1 Howland St #6, 02121         Residential 7 or more units     2\n",
       "                                                              ..\n",
       "9 River Street Ter # 3, 02136  Residential 4 or more family    1\n",
       "9 Ruggles St # 1, 02119        Residential 7 or more units     1\n",
       "9 Ruggles St # 2, 02119        Residential 7 or more units     1\n",
       "9 Ruggles St # 4, 02119        Residential 7 or more units     1\n",
       "9 Ruggles St, 02119            Residential 7 or more units     3\n",
       "Name: property_type, Length: 173, dtype: int64"
      ]
     },
     "execution_count": 21,
     "metadata": {},
     "output_type": "execute_result"
    }
   ],
   "source": [
    "df[df.owner == 'GBM PORTFOLIO OWNER LLC'].groupby('address').property_type.value_counts()"
   ]
  },
  {
   "cell_type": "code",
   "execution_count": 22,
   "id": "4508fbf1-9a00-4643-b5cb-6da31cd1082c",
   "metadata": {},
   "outputs": [
    {
     "data": {
      "text/plain": [
       "(55,)"
      ]
     },
     "execution_count": 22,
     "metadata": {},
     "output_type": "execute_result"
    }
   ],
   "source": [
    "df[df.owner == 'NORTHAMPTON SQ CONDO ASSOC'].groupby('address').property_type.value_counts().shape"
   ]
  },
  {
   "cell_type": "code",
   "execution_count": 23,
   "id": "156c57eb-c37a-45f2-be45-69dcc40f5792",
   "metadata": {},
   "outputs": [
    {
     "data": {
      "text/plain": [
       "owner\n",
       "0NE-50 MAGNOLIA LLC               10\n",
       "1  ARBORVITAES  LLC               15\n",
       "1 ARBORVITAES LLC                  6\n",
       "1 ARION STREET LLC                 5\n",
       "1 ASPINWALL ROAD REALTY  TRUST     5\n",
       "                                  ..\n",
       "ZUREK ANDREW D GELLING             1\n",
       "ZUROMSKIS CHRISTINE TS            30\n",
       "ZUROMSKIS J MICHAEL TRST          36\n",
       "ZVONAR ZORAN                       2\n",
       "ZYTO AURORE                        1\n",
       "Name: address, Length: 45381, dtype: int64"
      ]
     },
     "execution_count": 23,
     "metadata": {},
     "output_type": "execute_result"
    }
   ],
   "source": [
    "df.groupby('owner')['address'].count()"
   ]
  },
  {
   "cell_type": "code",
   "execution_count": 24,
   "id": "1e006fcb-7ee4-453b-b167-a4a9037cc769",
   "metadata": {},
   "outputs": [
    {
     "data": {
      "text/plain": [
       "array(['Residential 1-family', 'Residential 2-family',\n",
       "       'Residential 3-family', 'Residential 7 or more units',\n",
       "       'Mixed Use (Res. and Comm.)', 'Condominium Main*',\n",
       "       'Residential 4 or more family'], dtype=object)"
      ]
     },
     "execution_count": 24,
     "metadata": {},
     "output_type": "execute_result"
    }
   ],
   "source": [
    "df['property_type'].unique()"
   ]
  },
  {
   "cell_type": "code",
   "execution_count": 25,
   "id": "ca7098fd-4186-40ef-bccc-0cd2b53b4c5c",
   "metadata": {},
   "outputs": [
    {
     "data": {
      "text/plain": [
       "Residential 3-family            74172\n",
       "Condominium Main*               58683\n",
       "Residential 2-family            46983\n",
       "Residential 1-family            41887\n",
       "Residential 7 or more units     35337\n",
       "Mixed Use (Res. and Comm.)      27422\n",
       "Residential 4 or more family    24362\n",
       "Name: property_type, dtype: int64"
      ]
     },
     "execution_count": 25,
     "metadata": {},
     "output_type": "execute_result"
    }
   ],
   "source": [
    "df['property_type'].value_counts()"
   ]
  },
  {
   "cell_type": "code",
   "execution_count": 26,
   "id": "f246cb79-0a76-4de0-b260-9432b55ca181",
   "metadata": {},
   "outputs": [],
   "source": [
    "num_7prop_owned = df.loc[df.property_type == 'Residential 7 or more units'].groupby('owner').address.nunique()"
   ]
  },
  {
   "cell_type": "code",
   "execution_count": 27,
   "id": "28ca3e60-a66e-4625-8b10-24a39e1cc191",
   "metadata": {},
   "outputs": [],
   "source": [
    "prop7 = df.loc[df.property_type == 'Residential 7 or more units'].groupby('owner').date.count()"
   ]
  },
  {
   "cell_type": "code",
   "execution_count": 28,
   "id": "b289fe96-8a0c-4645-9dfd-c166db38e92c",
   "metadata": {},
   "outputs": [],
   "source": [
    "prop7['num_prop'] = num_7prop_owned"
   ]
  },
  {
   "cell_type": "code",
   "execution_count": 29,
   "id": "c45ab5d8-9c01-4544-b57a-c754b645a1c5",
   "metadata": {},
   "outputs": [
    {
     "data": {
      "text/plain": [
       "owner\n",
       "0NE-50 MAGNOLIA LLC           1.666667\n",
       "10 SYDNEY STREET LLC          3.000000\n",
       "10-18 BRAINERD ROAD LLC       2.333333\n",
       "102 CHANDLER LLC             42.000000\n",
       "106 WEBSTER LLC              15.000000\n",
       "                               ...    \n",
       "YIA YIA REALTY LP MASS LP     4.000000\n",
       "YOUNG JACOB F III TS          2.400000\n",
       "ZARBA CHRISTOPHER R           1.500000\n",
       "ZEENA REALTY LLC              2.333333\n",
       "ZOLA STEVEN J                18.000000\n",
       "Length: 1364, dtype: float64"
      ]
     },
     "execution_count": 29,
     "metadata": {},
     "output_type": "execute_result"
    }
   ],
   "source": [
    "df.loc[df.property_type == 'Residential 7 or more units'].groupby('owner').date.count() / num_7prop_owned"
   ]
  },
  {
   "cell_type": "code",
   "execution_count": 30,
   "id": "31855d5c-d5ae-473a-8ac6-ec3945881794",
   "metadata": {},
   "outputs": [
    {
     "data": {
      "image/png": "[encoded data removed]",
      "text/plain": [
       "<Figure size 432x288 with 1 Axes>"
      ]
     },
     "metadata": {
      "needs_background": "light"
     },
     "output_type": "display_data"
    }
   ],
   "source": [
    "\n",
    "(df.loc[df.property_type == 'Residential 7 or more units'].groupby('owner').date.count() / num_7prop_owned).hist(bins=20)\n",
    "plt.xlabel('Number of Complaints/Num Properties, 2016-present')\n",
    "plt.ylabel('Freq (Residential 7 or more units Only)')\n",
    "plt.title('Histogram: Complaints/Num Properties For Owners of Residential Addresses with 7 or more units')\n",
    "plt.show()"
   ]
  },
  {
   "cell_type": "code",
   "execution_count": 31,
   "id": "e67e5e16-fd3a-4df7-bd79-0c77fbb999e2",
   "metadata": {},
   "outputs": [
    {
     "name": "stdout",
     "output_type": "stream",
     "text": [
      "20 Owners of Residential Addresses with 7\n",
      " or More Units with Most Complaints per\n",
      " Properties Owned\n"
     ]
    },
    {
     "data": {
      "text/plain": [
       "owner\n",
       "NEW MASS AVE LLC                       116.000000\n",
       "SHEPARD MONTROSE LLC                    83.000000\n",
       "THREE-79 BEACON ST LIMITED              80.000000\n",
       "FOUR FOUNTAIN PLACE LLC MASS LLC        75.500000\n",
       "EMERALD REALTY CAPITAL LLC MASS LLC     74.000000\n",
       "TWENTY 3 CORTES LLC MASS LLC            66.000000\n",
       "VINAL MONTROSE LLC                      63.000000\n",
       "FREEDMAN LILLIAN Z TS                   61.333333\n",
       "148 W 9TH ST LLC                        55.000000\n",
       "FERRIS TIMOTHY                          55.000000\n",
       "233 BEACON STREET LLC                   54.000000\n",
       "CASTING TANES                           54.000000\n",
       "LADD MARTIN M JR TRSTS                  53.000000\n",
       "FIVE-07 BEACON LLC MASS LLC             51.000000\n",
       "FORTY ANDERSON STREET LLC               51.000000\n",
       "R&R CAPITAL INVESTMENTS LLC             49.000000\n",
       "FRANKLIN CAPITAL PARTNERS CO            48.000000\n",
       "TORRINGTON WEBB LLC                     47.500000\n",
       "ALUMNI ASSOC OF OMICRON                 47.000000\n",
       "FAIRFIELD 10 LLC                        47.000000\n",
       "dtype: float64"
      ]
     },
     "execution_count": 31,
     "metadata": {},
     "output_type": "execute_result"
    }
   ],
   "source": [
    "print('20 Owners of Residential Addresses with 7\\n or More Units with Most Complaints per\\n Properties Owned')\n",
    "(df.loc[df.property_type == 'Residential 7 or more units'].groupby('owner').date.count() / num_7prop_owned).nlargest(20)\n",
    "                                                                                                                 #GBM"
   ]
  },
  {
   "cell_type": "code",
   "execution_count": 32,
   "id": "61f891a3-907d-4d97-9694-e4d72a1d76bc",
   "metadata": {},
   "outputs": [
    {
     "data": {
      "image/png": "[encoded data removed]",
      "text/plain": [
       "<Figure size 432x288 with 1 Axes>"
      ]
     },
     "metadata": {
      "needs_background": "light"
     },
     "output_type": "display_data"
    }
   ],
   "source": [
    "df.loc[df.property_type == 'Residential 1-family'].groupby('owner').date.count().hist(bins=50)\n",
    "plt.xlabel('Number of Complaints, 2016-present')\n",
    "plt.ylabel('Freq (Residential 1-family Only)')\n",
    "plt.title('Histogram: Complaints About Owners of 1-Family Residential Addresses')\n",
    "plt.show()"
   ]
  },
  {
   "cell_type": "code",
   "execution_count": 33,
   "id": "57ecce23-8f45-4185-9272-2bee3f375008",
   "metadata": {},
   "outputs": [
    {
     "name": "stdout",
     "output_type": "stream",
     "text": [
      "20 Owners of 1-Family Residential Addresses\n",
      " with Most Complaints\n"
     ]
    },
    {
     "data": {
      "text/plain": [
       "owner\n",
       "HARVEY VINA                       281\n",
       "OCALLAGHAN TIMOTHY P TS           166\n",
       "LIRIANO RICHARD                   158\n",
       "MARTIN JAMES H III                150\n",
       "CROWE CORA A                      139\n",
       "WHITCHER FORREST D                138\n",
       "WHITEACRE PROPERTIES LLC          127\n",
       "SCANZIO MARK E                    125\n",
       "KENNEY REALTY 2 LLC               106\n",
       "CHANG DEREK T                     102\n",
       "MCKINLEY INVESTMENT GROUP  LLC     96\n",
       "BLUE PINE TREE LLC                 85\n",
       "DIETRICH XAVIER J II               84\n",
       "PRICE HERBERT C                    83\n",
       "PATILLO DELORES                    81\n",
       "HAMILTON FRANCIS                   78\n",
       "FALCUCCI PROPERTIES LLC            72\n",
       "CAMPBELL TREVON                    69\n",
       "HODGE WILLIAM                      67\n",
       "CHANG DEREK                        62\n",
       "Name: date, dtype: int64"
      ]
     },
     "execution_count": 33,
     "metadata": {},
     "output_type": "execute_result"
    }
   ],
   "source": [
    "print('20 Owners of 1-Family Residential Addresses\\n with Most Complaints')\n",
    "df.loc[df.property_type == 'Residential 1-family'].groupby('owner').date.count().nlargest(20)\n",
    "# "
   ]
  },
  {
   "cell_type": "code",
   "execution_count": 34,
   "id": "1b9467b5-e0d8-43c6-a7bf-023eac522251",
   "metadata": {},
   "outputs": [
    {
     "data": {
      "text/html": [
       "<div>\n",
       "<style scoped>\n",
       "    .dataframe tbody tr th:only-of-type {\n",
       "        vertical-align: middle;\n",
       "    }\n",
       "\n",
       "    .dataframe tbody tr th {\n",
       "        vertical-align: top;\n",
       "    }\n",
       "\n",
       "    .dataframe thead th {\n",
       "        text-align: right;\n",
       "    }\n",
       "</style>\n",
       "<table border=\"1\" class=\"dataframe\">\n",
       "  <thead>\n",
       "    <tr style=\"text-align: right;\">\n",
       "      <th></th>\n",
       "      <th>date</th>\n",
       "      <th>violation_type</th>\n",
       "      <th>description</th>\n",
       "      <th>address</th>\n",
       "      <th>neighborhood</th>\n",
       "      <th>zip_code</th>\n",
       "      <th>parcel</th>\n",
       "      <th>owner</th>\n",
       "      <th>year built</th>\n",
       "      <th>year remodeled</th>\n",
       "      <th>property_type</th>\n",
       "      <th>latitude</th>\n",
       "      <th>longitude</th>\n",
       "    </tr>\n",
       "  </thead>\n",
       "  <tbody>\n",
       "    <tr>\n",
       "      <th>1530</th>\n",
       "      <td>2022-03-18 08:30:00.000</td>\n",
       "      <td>Housing Complaints</td>\n",
       "      <td>Chronic Dampness/Mold</td>\n",
       "      <td>498 Norfolk St #202, 02126</td>\n",
       "      <td>Mattapan</td>\n",
       "      <td>02126</td>\n",
       "      <td>1800830000</td>\n",
       "      <td>GBM PORTFOLIO OWNER LLC</td>\n",
       "      <td>1965.0</td>\n",
       "      <td>1980.0</td>\n",
       "      <td>Residential 7 or more units</td>\n",
       "      <td>42.27933</td>\n",
       "      <td>-71.08883</td>\n",
       "    </tr>\n",
       "    <tr>\n",
       "      <th>2025</th>\n",
       "      <td>2022-03-15 09:32:00.000</td>\n",
       "      <td>Housing Complaints</td>\n",
       "      <td>Unsatisfactory Utilities - Electrical, Plumbing</td>\n",
       "      <td>430 River St #31, 02126</td>\n",
       "      <td>Mattapan</td>\n",
       "      <td>02126</td>\n",
       "      <td>1800014000</td>\n",
       "      <td>GBM PORTFOLIO OWNER LLC</td>\n",
       "      <td>1940.0</td>\n",
       "      <td>1975.0</td>\n",
       "      <td>Residential 7 or more units</td>\n",
       "      <td>42.26908</td>\n",
       "      <td>-71.09103</td>\n",
       "    </tr>\n",
       "    <tr>\n",
       "      <th>4040</th>\n",
       "      <td>2022-03-01 13:26:00.000</td>\n",
       "      <td>Housing Complaints</td>\n",
       "      <td>Heat - Excessive, Insufficient</td>\n",
       "      <td>85 Tennis Rd #302, 02126</td>\n",
       "      <td>Mattapan</td>\n",
       "      <td>02126</td>\n",
       "      <td>1803081000</td>\n",
       "      <td>GBM PORTFOLIO OWNER LLC</td>\n",
       "      <td>1965.0</td>\n",
       "      <td>1980.0</td>\n",
       "      <td>Mixed Use (Res. and Comm.)</td>\n",
       "      <td>42.27711</td>\n",
       "      <td>-71.09694</td>\n",
       "    </tr>\n",
       "    <tr>\n",
       "      <th>4618</th>\n",
       "      <td>2022-02-27 16:22:00.000</td>\n",
       "      <td>Housing Complaints</td>\n",
       "      <td>Heat - Excessive, Insufficient</td>\n",
       "      <td>15 Ruggles St # 3, 02119</td>\n",
       "      <td>Roxbury</td>\n",
       "      <td>02119</td>\n",
       "      <td>902452000</td>\n",
       "      <td>GBM PORTFOLIO OWNER LLC</td>\n",
       "      <td>1899.0</td>\n",
       "      <td>2015.0</td>\n",
       "      <td>Residential 7 or more units</td>\n",
       "      <td>42.33162</td>\n",
       "      <td>-71.08321</td>\n",
       "    </tr>\n",
       "    <tr>\n",
       "      <th>5097</th>\n",
       "      <td>2022-02-24 15:22:00.000</td>\n",
       "      <td>Housing Complaints</td>\n",
       "      <td>Maintenance Complaint - Residential</td>\n",
       "      <td>1 Rosa St # 103, 02136</td>\n",
       "      <td>Hyde Park</td>\n",
       "      <td>02136</td>\n",
       "      <td>1807006000</td>\n",
       "      <td>GBM PORTFOLIO OWNER LLC</td>\n",
       "      <td>1965.0</td>\n",
       "      <td>1980.0</td>\n",
       "      <td>Residential 7 or more units</td>\n",
       "      <td>42.26162</td>\n",
       "      <td>-71.11198</td>\n",
       "    </tr>\n",
       "    <tr>\n",
       "      <th>...</th>\n",
       "      <td>...</td>\n",
       "      <td>...</td>\n",
       "      <td>...</td>\n",
       "      <td>...</td>\n",
       "      <td>...</td>\n",
       "      <td>...</td>\n",
       "      <td>...</td>\n",
       "      <td>...</td>\n",
       "      <td>...</td>\n",
       "      <td>...</td>\n",
       "      <td>...</td>\n",
       "      <td>...</td>\n",
       "      <td>...</td>\n",
       "    </tr>\n",
       "    <tr>\n",
       "      <th>308664</th>\n",
       "      <td>2017-04-28 11:11:36.797</td>\n",
       "      <td>Housing Complaints</td>\n",
       "      <td>Unsatisfactory Living Conditions</td>\n",
       "      <td>720 River St, 02126</td>\n",
       "      <td>Mattapan</td>\n",
       "      <td>02126</td>\n",
       "      <td>1801337002</td>\n",
       "      <td>GBM PORTFOLIO OWNER LLC</td>\n",
       "      <td>1965.0</td>\n",
       "      <td>1980.0</td>\n",
       "      <td>Residential 7 or more units</td>\n",
       "      <td>42.26341</td>\n",
       "      <td>-71.10223</td>\n",
       "    </tr>\n",
       "    <tr>\n",
       "      <th>308675</th>\n",
       "      <td>2017-04-28 10:22:00.000</td>\n",
       "      <td>Housing Complaints</td>\n",
       "      <td>Cross Metering - Sub-Metering</td>\n",
       "      <td>1037 River St #6, 02136</td>\n",
       "      <td>Hyde Park</td>\n",
       "      <td>02136</td>\n",
       "      <td>1808175000</td>\n",
       "      <td>GBM PORTFOLIO OWNER LLC</td>\n",
       "      <td>1970.0</td>\n",
       "      <td>1980.0</td>\n",
       "      <td>Residential 7 or more units</td>\n",
       "      <td>42.25989</td>\n",
       "      <td>-71.11716</td>\n",
       "    </tr>\n",
       "    <tr>\n",
       "      <th>308701</th>\n",
       "      <td>2017-04-28 06:57:00.000</td>\n",
       "      <td>Housing Complaints</td>\n",
       "      <td>Electrical</td>\n",
       "      <td>80 Hiawatha Rd, 02126</td>\n",
       "      <td>Mattapan</td>\n",
       "      <td>02126</td>\n",
       "      <td>1803109001</td>\n",
       "      <td>GBM PORTFOLIO OWNER LLC</td>\n",
       "      <td>1965.0</td>\n",
       "      <td>1985.0</td>\n",
       "      <td>Residential 7 or more units</td>\n",
       "      <td>42.27764</td>\n",
       "      <td>-71.09706</td>\n",
       "    </tr>\n",
       "    <tr>\n",
       "      <th>308702</th>\n",
       "      <td>2017-04-28 06:53:00.000</td>\n",
       "      <td>Housing Complaints</td>\n",
       "      <td>Maintenance Complaint - Residential</td>\n",
       "      <td>80 Hiawatha Rd, 02126</td>\n",
       "      <td>Mattapan</td>\n",
       "      <td>02126</td>\n",
       "      <td>1803109001</td>\n",
       "      <td>GBM PORTFOLIO OWNER LLC</td>\n",
       "      <td>1965.0</td>\n",
       "      <td>1985.0</td>\n",
       "      <td>Residential 7 or more units</td>\n",
       "      <td>42.27764</td>\n",
       "      <td>-71.09706</td>\n",
       "    </tr>\n",
       "    <tr>\n",
       "      <th>308703</th>\n",
       "      <td>2017-04-28 06:51:25.580</td>\n",
       "      <td>Housing Complaints</td>\n",
       "      <td>Building Inspection Request</td>\n",
       "      <td>80 Hiawatha Rd, 02126</td>\n",
       "      <td>Mattapan</td>\n",
       "      <td>02126</td>\n",
       "      <td>1803109001</td>\n",
       "      <td>GBM PORTFOLIO OWNER LLC</td>\n",
       "      <td>1965.0</td>\n",
       "      <td>1985.0</td>\n",
       "      <td>Residential 7 or more units</td>\n",
       "      <td>42.27764</td>\n",
       "      <td>-71.09706</td>\n",
       "    </tr>\n",
       "  </tbody>\n",
       "</table>\n",
       "<p>383 rows × 13 columns</p>\n",
       "</div>"
      ],
      "text/plain": [
       "                          date      violation_type  \\\n",
       "1530   2022-03-18 08:30:00.000  Housing Complaints   \n",
       "2025   2022-03-15 09:32:00.000  Housing Complaints   \n",
       "4040   2022-03-01 13:26:00.000  Housing Complaints   \n",
       "4618   2022-02-27 16:22:00.000  Housing Complaints   \n",
       "5097   2022-02-24 15:22:00.000  Housing Complaints   \n",
       "...                        ...                 ...   \n",
       "308664 2017-04-28 11:11:36.797  Housing Complaints   \n",
       "308675 2017-04-28 10:22:00.000  Housing Complaints   \n",
       "308701 2017-04-28 06:57:00.000  Housing Complaints   \n",
       "308702 2017-04-28 06:53:00.000  Housing Complaints   \n",
       "308703 2017-04-28 06:51:25.580  Housing Complaints   \n",
       "\n",
       "                                            description  \\\n",
       "1530                              Chronic Dampness/Mold   \n",
       "2025    Unsatisfactory Utilities - Electrical, Plumbing   \n",
       "4040                     Heat - Excessive, Insufficient   \n",
       "4618                     Heat - Excessive, Insufficient   \n",
       "5097                Maintenance Complaint - Residential   \n",
       "...                                                 ...   \n",
       "308664                 Unsatisfactory Living Conditions   \n",
       "308675                    Cross Metering - Sub-Metering   \n",
       "308701                                       Electrical   \n",
       "308702              Maintenance Complaint - Residential   \n",
       "308703                      Building Inspection Request   \n",
       "\n",
       "                           address neighborhood zip_code      parcel  \\\n",
       "1530    498 Norfolk St #202, 02126     Mattapan    02126  1800830000   \n",
       "2025       430 River St #31, 02126     Mattapan    02126  1800014000   \n",
       "4040      85 Tennis Rd #302, 02126     Mattapan    02126  1803081000   \n",
       "4618      15 Ruggles St # 3, 02119      Roxbury    02119   902452000   \n",
       "5097        1 Rosa St # 103, 02136    Hyde Park    02136  1807006000   \n",
       "...                            ...          ...      ...         ...   \n",
       "308664         720 River St, 02126     Mattapan    02126  1801337002   \n",
       "308675     1037 River St #6, 02136    Hyde Park    02136  1808175000   \n",
       "308701       80 Hiawatha Rd, 02126     Mattapan    02126  1803109001   \n",
       "308702       80 Hiawatha Rd, 02126     Mattapan    02126  1803109001   \n",
       "308703       80 Hiawatha Rd, 02126     Mattapan    02126  1803109001   \n",
       "\n",
       "                          owner  year built  year remodeled  \\\n",
       "1530    GBM PORTFOLIO OWNER LLC      1965.0          1980.0   \n",
       "2025    GBM PORTFOLIO OWNER LLC      1940.0          1975.0   \n",
       "4040    GBM PORTFOLIO OWNER LLC      1965.0          1980.0   \n",
       "4618    GBM PORTFOLIO OWNER LLC      1899.0          2015.0   \n",
       "5097    GBM PORTFOLIO OWNER LLC      1965.0          1980.0   \n",
       "...                         ...         ...             ...   \n",
       "308664  GBM PORTFOLIO OWNER LLC      1965.0          1980.0   \n",
       "308675  GBM PORTFOLIO OWNER LLC      1970.0          1980.0   \n",
       "308701  GBM PORTFOLIO OWNER LLC      1965.0          1985.0   \n",
       "308702  GBM PORTFOLIO OWNER LLC      1965.0          1985.0   \n",
       "308703  GBM PORTFOLIO OWNER LLC      1965.0          1985.0   \n",
       "\n",
       "                      property_type  latitude  longitude  \n",
       "1530    Residential 7 or more units  42.27933  -71.08883  \n",
       "2025    Residential 7 or more units  42.26908  -71.09103  \n",
       "4040     Mixed Use (Res. and Comm.)  42.27711  -71.09694  \n",
       "4618    Residential 7 or more units  42.33162  -71.08321  \n",
       "5097    Residential 7 or more units  42.26162  -71.11198  \n",
       "...                             ...       ...        ...  \n",
       "308664  Residential 7 or more units  42.26341  -71.10223  \n",
       "308675  Residential 7 or more units  42.25989  -71.11716  \n",
       "308701  Residential 7 or more units  42.27764  -71.09706  \n",
       "308702  Residential 7 or more units  42.27764  -71.09706  \n",
       "308703  Residential 7 or more units  42.27764  -71.09706  \n",
       "\n",
       "[383 rows x 13 columns]"
      ]
     },
     "execution_count": 34,
     "metadata": {},
     "output_type": "execute_result"
    }
   ],
   "source": [
    "df.loc[df.owner.str.contains('GBM PORTFOLIO OWNER LLC') & (df.violation_type == 'Housing Complaints')]"
   ]
  },
  {
   "cell_type": "code",
   "execution_count": 35,
   "id": "e59bbca9-2264-4493-af1d-7cda6ee75d72",
   "metadata": {},
   "outputs": [
    {
     "data": {
      "text/html": [
       "<div>\n",
       "<style scoped>\n",
       "    .dataframe tbody tr th:only-of-type {\n",
       "        vertical-align: middle;\n",
       "    }\n",
       "\n",
       "    .dataframe tbody tr th {\n",
       "        vertical-align: top;\n",
       "    }\n",
       "\n",
       "    .dataframe thead th {\n",
       "        text-align: right;\n",
       "    }\n",
       "</style>\n",
       "<table border=\"1\" class=\"dataframe\">\n",
       "  <thead>\n",
       "    <tr style=\"text-align: right;\">\n",
       "      <th>property_type</th>\n",
       "      <th>Condominium Main*</th>\n",
       "      <th>Mixed Use (Res. and Comm.)</th>\n",
       "      <th>Residential 1-family</th>\n",
       "      <th>Residential 2-family</th>\n",
       "      <th>Residential 3-family</th>\n",
       "      <th>Residential 4 or more family</th>\n",
       "      <th>Residential 7 or more units</th>\n",
       "    </tr>\n",
       "    <tr>\n",
       "      <th>owner</th>\n",
       "      <th></th>\n",
       "      <th></th>\n",
       "      <th></th>\n",
       "      <th></th>\n",
       "      <th></th>\n",
       "      <th></th>\n",
       "      <th></th>\n",
       "    </tr>\n",
       "  </thead>\n",
       "  <tbody>\n",
       "    <tr>\n",
       "      <th>0NE-50 MAGNOLIA LLC</th>\n",
       "      <td>NaN</td>\n",
       "      <td>NaN</td>\n",
       "      <td>NaN</td>\n",
       "      <td>NaN</td>\n",
       "      <td>NaN</td>\n",
       "      <td>NaN</td>\n",
       "      <td>10.0</td>\n",
       "    </tr>\n",
       "    <tr>\n",
       "      <th>1  ARBORVITAES  LLC</th>\n",
       "      <td>NaN</td>\n",
       "      <td>NaN</td>\n",
       "      <td>NaN</td>\n",
       "      <td>NaN</td>\n",
       "      <td>15.0</td>\n",
       "      <td>NaN</td>\n",
       "      <td>NaN</td>\n",
       "    </tr>\n",
       "    <tr>\n",
       "      <th>1 ARBORVITAES LLC</th>\n",
       "      <td>NaN</td>\n",
       "      <td>NaN</td>\n",
       "      <td>6.0</td>\n",
       "      <td>NaN</td>\n",
       "      <td>NaN</td>\n",
       "      <td>NaN</td>\n",
       "      <td>NaN</td>\n",
       "    </tr>\n",
       "    <tr>\n",
       "      <th>1 ARION STREET LLC</th>\n",
       "      <td>NaN</td>\n",
       "      <td>NaN</td>\n",
       "      <td>NaN</td>\n",
       "      <td>NaN</td>\n",
       "      <td>5.0</td>\n",
       "      <td>NaN</td>\n",
       "      <td>NaN</td>\n",
       "    </tr>\n",
       "    <tr>\n",
       "      <th>1 ASPINWALL ROAD REALTY  TRUST</th>\n",
       "      <td>NaN</td>\n",
       "      <td>NaN</td>\n",
       "      <td>NaN</td>\n",
       "      <td>NaN</td>\n",
       "      <td>NaN</td>\n",
       "      <td>5.0</td>\n",
       "      <td>NaN</td>\n",
       "    </tr>\n",
       "    <tr>\n",
       "      <th>...</th>\n",
       "      <td>...</td>\n",
       "      <td>...</td>\n",
       "      <td>...</td>\n",
       "      <td>...</td>\n",
       "      <td>...</td>\n",
       "      <td>...</td>\n",
       "      <td>...</td>\n",
       "    </tr>\n",
       "    <tr>\n",
       "      <th>ZUREK ANDREW D GELLING</th>\n",
       "      <td>NaN</td>\n",
       "      <td>NaN</td>\n",
       "      <td>NaN</td>\n",
       "      <td>NaN</td>\n",
       "      <td>1.0</td>\n",
       "      <td>NaN</td>\n",
       "      <td>NaN</td>\n",
       "    </tr>\n",
       "    <tr>\n",
       "      <th>ZUROMSKIS CHRISTINE TS</th>\n",
       "      <td>NaN</td>\n",
       "      <td>NaN</td>\n",
       "      <td>NaN</td>\n",
       "      <td>NaN</td>\n",
       "      <td>NaN</td>\n",
       "      <td>30.0</td>\n",
       "      <td>NaN</td>\n",
       "    </tr>\n",
       "    <tr>\n",
       "      <th>ZUROMSKIS J MICHAEL TRST</th>\n",
       "      <td>NaN</td>\n",
       "      <td>36.0</td>\n",
       "      <td>NaN</td>\n",
       "      <td>NaN</td>\n",
       "      <td>NaN</td>\n",
       "      <td>NaN</td>\n",
       "      <td>NaN</td>\n",
       "    </tr>\n",
       "    <tr>\n",
       "      <th>ZVONAR ZORAN</th>\n",
       "      <td>NaN</td>\n",
       "      <td>NaN</td>\n",
       "      <td>NaN</td>\n",
       "      <td>2.0</td>\n",
       "      <td>NaN</td>\n",
       "      <td>NaN</td>\n",
       "      <td>NaN</td>\n",
       "    </tr>\n",
       "    <tr>\n",
       "      <th>ZYTO AURORE</th>\n",
       "      <td>NaN</td>\n",
       "      <td>NaN</td>\n",
       "      <td>NaN</td>\n",
       "      <td>1.0</td>\n",
       "      <td>NaN</td>\n",
       "      <td>NaN</td>\n",
       "      <td>NaN</td>\n",
       "    </tr>\n",
       "  </tbody>\n",
       "</table>\n",
       "<p>45381 rows × 7 columns</p>\n",
       "</div>"
      ],
      "text/plain": [
       "property_type                   Condominium Main*  Mixed Use (Res. and Comm.)  \\\n",
       "owner                                                                           \n",
       "0NE-50 MAGNOLIA LLC                           NaN                         NaN   \n",
       "1  ARBORVITAES  LLC                           NaN                         NaN   \n",
       "1 ARBORVITAES LLC                             NaN                         NaN   \n",
       "1 ARION STREET LLC                            NaN                         NaN   \n",
       "1 ASPINWALL ROAD REALTY  TRUST                NaN                         NaN   \n",
       "...                                           ...                         ...   \n",
       "ZUREK ANDREW D GELLING                        NaN                         NaN   \n",
       "ZUROMSKIS CHRISTINE TS                        NaN                         NaN   \n",
       "ZUROMSKIS J MICHAEL TRST                      NaN                        36.0   \n",
       "ZVONAR ZORAN                                  NaN                         NaN   \n",
       "ZYTO AURORE                                   NaN                         NaN   \n",
       "\n",
       "property_type                   Residential 1-family  Residential 2-family  \\\n",
       "owner                                                                        \n",
       "0NE-50 MAGNOLIA LLC                              NaN                   NaN   \n",
       "1  ARBORVITAES  LLC                              NaN                   NaN   \n",
       "1 ARBORVITAES LLC                                6.0                   NaN   \n",
       "1 ARION STREET LLC                               NaN                   NaN   \n",
       "1 ASPINWALL ROAD REALTY  TRUST                   NaN                   NaN   \n",
       "...                                              ...                   ...   \n",
       "ZUREK ANDREW D GELLING                           NaN                   NaN   \n",
       "ZUROMSKIS CHRISTINE TS                           NaN                   NaN   \n",
       "ZUROMSKIS J MICHAEL TRST                         NaN                   NaN   \n",
       "ZVONAR ZORAN                                     NaN                   2.0   \n",
       "ZYTO AURORE                                      NaN                   1.0   \n",
       "\n",
       "property_type                   Residential 3-family  \\\n",
       "owner                                                  \n",
       "0NE-50 MAGNOLIA LLC                              NaN   \n",
       "1  ARBORVITAES  LLC                             15.0   \n",
       "1 ARBORVITAES LLC                                NaN   \n",
       "1 ARION STREET LLC                               5.0   \n",
       "1 ASPINWALL ROAD REALTY  TRUST                   NaN   \n",
       "...                                              ...   \n",
       "ZUREK ANDREW D GELLING                           1.0   \n",
       "ZUROMSKIS CHRISTINE TS                           NaN   \n",
       "ZUROMSKIS J MICHAEL TRST                         NaN   \n",
       "ZVONAR ZORAN                                     NaN   \n",
       "ZYTO AURORE                                      NaN   \n",
       "\n",
       "property_type                   Residential 4 or more family  \\\n",
       "owner                                                          \n",
       "0NE-50 MAGNOLIA LLC                                      NaN   \n",
       "1  ARBORVITAES  LLC                                      NaN   \n",
       "1 ARBORVITAES LLC                                        NaN   \n",
       "1 ARION STREET LLC                                       NaN   \n",
       "1 ASPINWALL ROAD REALTY  TRUST                           5.0   \n",
       "...                                                      ...   \n",
       "ZUREK ANDREW D GELLING                                   NaN   \n",
       "ZUROMSKIS CHRISTINE TS                                  30.0   \n",
       "ZUROMSKIS J MICHAEL TRST                                 NaN   \n",
       "ZVONAR ZORAN                                             NaN   \n",
       "ZYTO AURORE                                              NaN   \n",
       "\n",
       "property_type                   Residential 7 or more units  \n",
       "owner                                                        \n",
       "0NE-50 MAGNOLIA LLC                                    10.0  \n",
       "1  ARBORVITAES  LLC                                     NaN  \n",
       "1 ARBORVITAES LLC                                       NaN  \n",
       "1 ARION STREET LLC                                      NaN  \n",
       "1 ASPINWALL ROAD REALTY  TRUST                          NaN  \n",
       "...                                                     ...  \n",
       "ZUREK ANDREW D GELLING                                  NaN  \n",
       "ZUROMSKIS CHRISTINE TS                                  NaN  \n",
       "ZUROMSKIS J MICHAEL TRST                                NaN  \n",
       "ZVONAR ZORAN                                            NaN  \n",
       "ZYTO AURORE                                             NaN  \n",
       "\n",
       "[45381 rows x 7 columns]"
      ]
     },
     "execution_count": 35,
     "metadata": {},
     "output_type": "execute_result"
    }
   ],
   "source": [
    "violations_byproptype_byowner = df.groupby(['owner','property_type']).date.count().unstack()\n",
    "violations_byproptype_byowner"
   ]
  },
  {
   "cell_type": "code",
   "execution_count": 36,
   "id": "84d43e5b-fdc9-491f-b42c-d0825d7ec9f1",
   "metadata": {},
   "outputs": [
    {
     "data": {
      "text/html": [
       "<div>\n",
       "<style scoped>\n",
       "    .dataframe tbody tr th:only-of-type {\n",
       "        vertical-align: middle;\n",
       "    }\n",
       "\n",
       "    .dataframe tbody tr th {\n",
       "        vertical-align: top;\n",
       "    }\n",
       "\n",
       "    .dataframe thead th {\n",
       "        text-align: right;\n",
       "    }\n",
       "</style>\n",
       "<table border=\"1\" class=\"dataframe\">\n",
       "  <thead>\n",
       "    <tr style=\"text-align: right;\">\n",
       "      <th>property_type</th>\n",
       "      <th>Condominium Main*</th>\n",
       "      <th>Mixed Use (Res. and Comm.)</th>\n",
       "      <th>Residential 1-family</th>\n",
       "      <th>Residential 2-family</th>\n",
       "      <th>Residential 3-family</th>\n",
       "      <th>Residential 4 or more family</th>\n",
       "      <th>Residential 7 or more units</th>\n",
       "    </tr>\n",
       "  </thead>\n",
       "  <tbody>\n",
       "    <tr>\n",
       "      <th>count</th>\n",
       "      <td>7734.000000</td>\n",
       "      <td>1798.000000</td>\n",
       "      <td>13311.000000</td>\n",
       "      <td>10814.000000</td>\n",
       "      <td>10002.000000</td>\n",
       "      <td>2015.000000</td>\n",
       "      <td>1364.000000</td>\n",
       "    </tr>\n",
       "    <tr>\n",
       "      <th>mean</th>\n",
       "      <td>7.587665</td>\n",
       "      <td>15.251390</td>\n",
       "      <td>3.146796</td>\n",
       "      <td>4.344646</td>\n",
       "      <td>7.415717</td>\n",
       "      <td>12.090323</td>\n",
       "      <td>25.906891</td>\n",
       "    </tr>\n",
       "    <tr>\n",
       "      <th>std</th>\n",
       "      <td>12.452761</td>\n",
       "      <td>22.585673</td>\n",
       "      <td>6.384283</td>\n",
       "      <td>7.523867</td>\n",
       "      <td>12.537585</td>\n",
       "      <td>14.886788</td>\n",
       "      <td>61.714470</td>\n",
       "    </tr>\n",
       "    <tr>\n",
       "      <th>min</th>\n",
       "      <td>1.000000</td>\n",
       "      <td>1.000000</td>\n",
       "      <td>1.000000</td>\n",
       "      <td>1.000000</td>\n",
       "      <td>1.000000</td>\n",
       "      <td>1.000000</td>\n",
       "      <td>1.000000</td>\n",
       "    </tr>\n",
       "    <tr>\n",
       "      <th>25%</th>\n",
       "      <td>2.000000</td>\n",
       "      <td>3.000000</td>\n",
       "      <td>1.000000</td>\n",
       "      <td>1.000000</td>\n",
       "      <td>2.000000</td>\n",
       "      <td>3.000000</td>\n",
       "      <td>6.000000</td>\n",
       "    </tr>\n",
       "    <tr>\n",
       "      <th>50%</th>\n",
       "      <td>4.000000</td>\n",
       "      <td>8.000000</td>\n",
       "      <td>2.000000</td>\n",
       "      <td>2.000000</td>\n",
       "      <td>4.000000</td>\n",
       "      <td>7.000000</td>\n",
       "      <td>14.000000</td>\n",
       "    </tr>\n",
       "    <tr>\n",
       "      <th>75%</th>\n",
       "      <td>8.000000</td>\n",
       "      <td>17.000000</td>\n",
       "      <td>3.000000</td>\n",
       "      <td>5.000000</td>\n",
       "      <td>8.000000</td>\n",
       "      <td>15.000000</td>\n",
       "      <td>29.000000</td>\n",
       "    </tr>\n",
       "    <tr>\n",
       "      <th>max</th>\n",
       "      <td>360.000000</td>\n",
       "      <td>247.000000</td>\n",
       "      <td>281.000000</td>\n",
       "      <td>246.000000</td>\n",
       "      <td>314.000000</td>\n",
       "      <td>161.000000</td>\n",
       "      <td>1902.000000</td>\n",
       "    </tr>\n",
       "  </tbody>\n",
       "</table>\n",
       "</div>"
      ],
      "text/plain": [
       "property_type  Condominium Main*  Mixed Use (Res. and Comm.)  \\\n",
       "count                7734.000000                 1798.000000   \n",
       "mean                    7.587665                   15.251390   \n",
       "std                    12.452761                   22.585673   \n",
       "min                     1.000000                    1.000000   \n",
       "25%                     2.000000                    3.000000   \n",
       "50%                     4.000000                    8.000000   \n",
       "75%                     8.000000                   17.000000   \n",
       "max                   360.000000                  247.000000   \n",
       "\n",
       "property_type  Residential 1-family  Residential 2-family  \\\n",
       "count                  13311.000000          10814.000000   \n",
       "mean                       3.146796              4.344646   \n",
       "std                        6.384283              7.523867   \n",
       "min                        1.000000              1.000000   \n",
       "25%                        1.000000              1.000000   \n",
       "50%                        2.000000              2.000000   \n",
       "75%                        3.000000              5.000000   \n",
       "max                      281.000000            246.000000   \n",
       "\n",
       "property_type  Residential 3-family  Residential 4 or more family  \\\n",
       "count                  10002.000000                   2015.000000   \n",
       "mean                       7.415717                     12.090323   \n",
       "std                       12.537585                     14.886788   \n",
       "min                        1.000000                      1.000000   \n",
       "25%                        2.000000                      3.000000   \n",
       "50%                        4.000000                      7.000000   \n",
       "75%                        8.000000                     15.000000   \n",
       "max                      314.000000                    161.000000   \n",
       "\n",
       "property_type  Residential 7 or more units  \n",
       "count                          1364.000000  \n",
       "mean                             25.906891  \n",
       "std                              61.714470  \n",
       "min                               1.000000  \n",
       "25%                               6.000000  \n",
       "50%                              14.000000  \n",
       "75%                              29.000000  \n",
       "max                            1902.000000  "
      ]
     },
     "execution_count": 36,
     "metadata": {},
     "output_type": "execute_result"
    }
   ],
   "source": [
    "violations_byproptype_byowner.describe()"
   ]
  },
  {
   "cell_type": "code",
   "execution_count": 37,
   "id": "c5685ac1-1e2c-4afc-8856-fccda32717b7",
   "metadata": {},
   "outputs": [
    {
     "data": {
      "image/png": "[encoded data removed]",
      "text/plain": [
       "<Figure size 432x288 with 1 Axes>"
      ]
     },
     "metadata": {
      "needs_background": "light"
     },
     "output_type": "display_data"
    }
   ],
   "source": [
    "# Is there association of building characteristics,geography and loc with num housing complaints (next, type of housing complaints)\n",
    "#next add month\n",
    "\n",
    "df.loc[df.violation_type == 'Housing Complaints',['violation_type','description','address','neighborhood','zip_code','parcel','owner','property_type']].groupby('parcel').violation_type.count().nlargest(10).plot.bar()\n",
    "plt.title('10 Parcels with Most Number of Housing Complaints')\n",
    "plt.ylabel('Number of Housing Complaints, 2016-present')\n",
    "plt.show()"
   ]
  },
  {
   "cell_type": "code",
   "execution_count": 38,
   "id": "473cc263-59bc-43fc-8ea9-7eee5e5a02bb",
   "metadata": {},
   "outputs": [
    {
     "data": {
      "image/png": "[encoded data removed]",
      "text/plain": [
       "<Figure size 432x288 with 1 Axes>"
      ]
     },
     "metadata": {
      "needs_background": "light"
     },
     "output_type": "display_data"
    }
   ],
   "source": [
    "df.loc[df.violation_type == 'Housing Complaints',['violation_type','description','address','neighborhood','zip_code','parcel','owner','property_type']].groupby('parcel').violation_type.count().hist(bins=50)\n",
    "plt.title('Histogram: Distribution of Housing Complaints by Parcels')\n",
    "plt.xlabel('Number of Housing Complaints')\n",
    "plt.ylabel('Freq (Number of Parcels)')\n",
    "plt.show()"
   ]
  },
  {
   "cell_type": "code",
   "execution_count": 39,
   "id": "f8f1a0fb-9b6e-4f43-92c6-698fd69a5b27",
   "metadata": {},
   "outputs": [
    {
     "name": "stdout",
     "output_type": "stream",
     "text": [
      "10 Parcels with the Most Housing Complaints\n"
     ]
    },
    {
     "data": {
      "text/plain": [
       "parcel\n",
       "801720000     133\n",
       "1200921000    121\n",
       "1812326000     89\n",
       "1303445000     83\n",
       "106318000      73\n",
       "303636000      72\n",
       "1202515000     66\n",
       "300470000      64\n",
       "1402922010     64\n",
       "903146010      62\n",
       "Name: violation_type, dtype: int64"
      ]
     },
     "execution_count": 39,
     "metadata": {},
     "output_type": "execute_result"
    }
   ],
   "source": [
    "print('10 Parcels with the Most Housing Complaints')\n",
    "df.loc[df.violation_type == 'Housing Complaints',['violation_type','description','address','neighborhood','zip_code','parcel','owner','property_type']].groupby('parcel').violation_type.count().nlargest(10)"
   ]
  },
  {
   "cell_type": "code",
   "execution_count": 40,
   "id": "ef2c0a78-72fc-4623-9605-22408ba97ba8",
   "metadata": {},
   "outputs": [],
   "source": [
    "# Don't have data on total number of properties of different property types, only those of at least one complaint\n",
    "# df.loc[df.violation_type == 'Housing Complaints',['violation_type','description','address','neighborhood','zip_code','parcel','owner','property_type']].groupby('property_type').violation_type.count().plot.bar()\n",
    "# plt.title('Number of Housing Complaints By Property Type')\n",
    "# plt.ylabel('Number of Housing Complaints, 2016-present')\n",
    "# plt.show()"
   ]
  },
  {
   "cell_type": "code",
   "execution_count": 41,
   "id": "f882b17c-30ad-46a7-8a89-262753b18604",
   "metadata": {},
   "outputs": [],
   "source": [
    "worst_parcels = set(list(df.loc[df.violation_type == 'Housing Complaints',['violation_type','description','address','neighborhood','zip_code','parcel','owner','property_type']].groupby('parcel').violation_type.count().nlargest(10).index))\n"
   ]
  },
  {
   "cell_type": "code",
   "execution_count": 42,
   "id": "39d38446-4aa4-49ca-b8bd-8bb581d691ab",
   "metadata": {},
   "outputs": [
    {
     "data": {
      "text/plain": [
       "NORTHAMPTON SQ CONDO ASSOC             133\n",
       "KASANOF LAND LLC                       121\n",
       "GEORGETOWNE HOMES ONE LLC MASS LLC      89\n",
       "HARBOR POINT APTS CO LESSEE             83\n",
       "MCKINLEY INVESTMENT GROUP  LLC          73\n",
       "MERCANTILE WHARF ASSOCIATES             72\n",
       "MILLER DWIGHT                           66\n",
       "CHARLES RIVER PARK D COMPANY            64\n",
       "TALBOT BERNARD HOUSING LLC MASS LLC     64\n",
       "DARTMOUTH HOTEL LP                      62\n",
       "Name: owner, dtype: int64"
      ]
     },
     "execution_count": 42,
     "metadata": {},
     "output_type": "execute_result"
    }
   ],
   "source": [
    "df.loc[(df.violation_type == 'Housing Complaints') & (df.parcel.isin(worst_parcels)) ].owner.value_counts()"
   ]
  },
  {
   "cell_type": "code",
   "execution_count": 43,
   "id": "9176b615-22a5-4d8b-99bc-abc154dbe295",
   "metadata": {},
   "outputs": [
    {
     "data": {
      "text/plain": [
       "Unsatisfactory Living Conditions                   229\n",
       "Heat - Excessive, Insufficient                      81\n",
       "Contractors Complaint                               57\n",
       "Pest Infestation - Residential                      52\n",
       "Chronic Dampness/Mold                               46\n",
       "Mice Infestation - Residential                      39\n",
       "Building Inspection Request                         33\n",
       "No Utilities Residential - Water                    33\n",
       "Unsafe Dangerous Conditions                         32\n",
       "Bed Bugs                                            30\n",
       "Maintenance Complaint - Residential                 30\n",
       "Unsatisfactory Utilities - Electrical, Plumbing     25\n",
       "Working Beyond Hours                                25\n",
       "Maintenance - Homeowner                             23\n",
       "Electrical                                          14\n",
       "Work w/out Permit                                   12\n",
       "Exceeding Terms of Permit                           10\n",
       "Poor Ventilation                                     9\n",
       "Egress                                               7\n",
       "No Utilities Residential - Electricity               7\n",
       "Protection of Adjoining Property                     6\n",
       "Rooftop & Mechanical Disturbances                    5\n",
       "Illegal Rooming House                                3\n",
       "Plumbing                                             3\n",
       "No Utilities Residential - Gas                       3\n",
       "Illegal Occupancy                                    2\n",
       "Overcrowding                                         2\n",
       "Cross Metering - Sub-Metering                        2\n",
       "Carbon Monoxide                                      2\n",
       "Sewage/Septic Back-Up                                1\n",
       "Zoning                                               1\n",
       "Squalid Living Conditions                            1\n",
       "Lead                                                 1\n",
       "Breathe Easy                                         1\n",
       "Name: description, dtype: int64"
      ]
     },
     "execution_count": 43,
     "metadata": {},
     "output_type": "execute_result"
    }
   ],
   "source": [
    "df.loc[(df.violation_type == 'Housing Complaints') & (df.parcel.isin(worst_parcels)) ].description.value_counts()"
   ]
  },
  {
   "cell_type": "code",
   "execution_count": 44,
   "id": "96abc1a1-b803-454f-ba1a-44e2a84709f3",
   "metadata": {},
   "outputs": [
    {
     "data": {
      "text/plain": [
       "Roxbury        316\n",
       "Dorchester     213\n",
       "Boston         136\n",
       "Hyde Park       89\n",
       "East Boston     73\n",
       "Name: neighborhood, dtype: int64"
      ]
     },
     "execution_count": 44,
     "metadata": {},
     "output_type": "execute_result"
    }
   ],
   "source": [
    "df.loc[(df.violation_type == 'Housing Complaints') & (df.parcel.isin(worst_parcels)) ].neighborhood.value_counts()"
   ]
  },
  {
   "cell_type": "code",
   "execution_count": 45,
   "id": "f9531ae4-24a4-4fd8-a102-d07ecac5550d",
   "metadata": {},
   "outputs": [
    {
     "data": {
      "text/plain": [
       "Mixed Use (Res. and Comm.)     491\n",
       "Condominium Main*              133\n",
       "Residential 1-family            73\n",
       "Residential 3-family            66\n",
       "Residential 7 or more units     64\n",
       "Name: property_type, dtype: int64"
      ]
     },
     "execution_count": 45,
     "metadata": {},
     "output_type": "execute_result"
    }
   ],
   "source": [
    "df.loc[(df.violation_type == 'Housing Complaints') & (df.parcel.isin(worst_parcels)) ].property_type.value_counts()"
   ]
  },
  {
   "cell_type": "code",
   "execution_count": null,
   "id": "ac801453-a50f-4b45-9aa8-4fb3be7da041",
   "metadata": {},
   "outputs": [],
   "source": []
  },
  {
   "cell_type": "code",
   "execution_count": 46,
   "id": "32ab9267-8fa7-4acc-9202-0764d544cf1a",
   "metadata": {},
   "outputs": [
    {
     "data": {
      "text/plain": [
       "32777     1  ARBORVITAES  LLC\n",
       "33456     1  ARBORVITAES  LLC\n",
       "48191     1  ARBORVITAES  LLC\n",
       "59741       1 ARBORVITAES LLC\n",
       "61262       1 ARBORVITAES LLC\n",
       "61877       1 ARBORVITAES LLC\n",
       "65569     1  ARBORVITAES  LLC\n",
       "65571     1  ARBORVITAES  LLC\n",
       "66009     1  ARBORVITAES  LLC\n",
       "70307     1  ARBORVITAES  LLC\n",
       "70308     1  ARBORVITAES  LLC\n",
       "107439    1  ARBORVITAES  LLC\n",
       "111054    1  ARBORVITAES  LLC\n",
       "117474    1  ARBORVITAES  LLC\n",
       "118126    1  ARBORVITAES  LLC\n",
       "131169    1  ARBORVITAES  LLC\n",
       "210294    1  ARBORVITAES  LLC\n",
       "254524    1  ARBORVITAES  LLC\n",
       "264755      1 ARBORVITAES LLC\n",
       "268179      1 ARBORVITAES LLC\n",
       "269484      1 ARBORVITAES LLC\n",
       "Name: owner, dtype: object"
      ]
     },
     "execution_count": 46,
     "metadata": {},
     "output_type": "execute_result"
    }
   ],
   "source": [
    "df.loc[df.owner.str.contains('ARBORVITAES')].owner"
   ]
  },
  {
   "cell_type": "code",
   "execution_count": 47,
   "id": "c248d13e-f771-43c9-82e4-f4966fb41d75",
   "metadata": {},
   "outputs": [],
   "source": [
    "vocab = set([tok for sent in df.owner.unique() for tok in sent.split()])"
   ]
  },
  {
   "cell_type": "code",
   "execution_count": 48,
   "id": "6a1e0387-2307-48b3-aaea-711bb878808e",
   "metadata": {},
   "outputs": [],
   "source": [
    "# vocab"
   ]
  },
  {
   "cell_type": "code",
   "execution_count": 49,
   "id": "1a3b7372-cbc7-4f53-b1e7-59790d11eff9",
   "metadata": {},
   "outputs": [],
   "source": [
    "#combined_df = mort_df.merge(poll_df, on = 'County_State')"
   ]
  },
  {
   "cell_type": "code",
   "execution_count": null,
   "id": "0871553e-d8b5-4a7c-b374-6eb3698a4a2a",
   "metadata": {},
   "outputs": [],
   "source": []
  }
 ],
 "metadata": {
  "kernelspec": {
   "display_name": "Python 3 (ipykernel)",
   "language": "python",
   "name": "python3"
  },
  "language_info": {
   "codemirror_mode": {
    "name": "ipython",
    "version": 3
   },
   "file_extension": ".py",
   "mimetype": "text/x-python",
   "name": "python",
   "nbconvert_exporter": "python",
   "pygments_lexer": "ipython3",
   "version": "3.9.7"
  }
 },
 "nbformat": 4,
 "nbformat_minor": 5
}
