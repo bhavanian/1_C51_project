{
 "cells": [
  {
   "cell_type": "code",
   "execution_count": 1,
   "id": "9bb35b3b-a401-4127-ad73-ce1209f4f462",
   "metadata": {},
   "outputs": [],
   "source": [
    "import pandas as pd\n",
    "import numpy as np\n",
    "from matplotlib import pyplot as plt"
   ]
  },
  {
   "cell_type": "code",
   "execution_count": 2,
   "id": "ffb3e491-ca91-4944-bb7b-2beac11d890b",
   "metadata": {},
   "outputs": [],
   "source": [
    "# Data Source: https://data.boston.gov/dataset/rentsmart\n",
    "# Desc: Rentals only; Boston; 2016-present (previous years available 'through 1700s')\n",
    "\n",
    "# \"RentSmart Boston compiles data from BOS:311 and the City's Inspectional Services Division\n",
    "# to give prospective tenants a more complete picture of the homes and apartments they are \n",
    "# considering renting, assisting them in understanding any previous issues with the property, \n",
    "# including: housing violations, building violations, enforcement violations, housing complaints,\n",
    "# sanitation requests, and/or civic maintenance requests.\""
   ]
  },
  {
   "cell_type": "code",
   "execution_count": null,
   "id": "b5a59f9e-8134-400d-a4f0-8f95e765c577",
   "metadata": {},
   "outputs": [],
   "source": [
    "'''\n",
    "TODO\n",
    "- correlations in space, time, building characteristics with complaint number and frequency\n",
    "\n",
    "'''"
   ]
  },
  {
   "cell_type": "code",
   "execution_count": null,
   "id": "a4121519-9468-4ee6-b7af-e26dbf2cc936",
   "metadata": {},
   "outputs": [],
   "source": []
  },
  {
   "cell_type": "code",
   "execution_count": 3,
   "id": "8c09d37d-21d7-4b6f-8fa0-9c8a63e3ed39",
   "metadata": {},
   "outputs": [],
   "source": [
    "data_path = '/Users/bhavanian/housing/property_management_data/RentSmart/20220314_download/tmpdzll6bw0.csv'"
   ]
  },
  {
   "cell_type": "code",
   "execution_count": 4,
   "id": "7864f721-36fc-42ac-bc34-49ff644220fa",
   "metadata": {},
   "outputs": [],
   "source": [
    "df = pd.read_csv(data_path, parse_dates=['date'], dtype={'zip_code':str})"
   ]
  },
  {
   "cell_type": "code",
   "execution_count": 5,
   "id": "ee96f970-7858-48ce-afff-7348437f3540",
   "metadata": {},
   "outputs": [
    {
     "data": {
      "text/html": [
       "<div>\n",
       "<style scoped>\n",
       "    .dataframe tbody tr th:only-of-type {\n",
       "        vertical-align: middle;\n",
       "    }\n",
       "\n",
       "    .dataframe tbody tr th {\n",
       "        vertical-align: top;\n",
       "    }\n",
       "\n",
       "    .dataframe thead th {\n",
       "        text-align: right;\n",
       "    }\n",
       "</style>\n",
       "<table border=\"1\" class=\"dataframe\">\n",
       "  <thead>\n",
       "    <tr style=\"text-align: right;\">\n",
       "      <th></th>\n",
       "      <th>date</th>\n",
       "      <th>violation_type</th>\n",
       "      <th>description</th>\n",
       "      <th>address</th>\n",
       "      <th>neighborhood</th>\n",
       "      <th>zip_code</th>\n",
       "      <th>parcel</th>\n",
       "      <th>owner</th>\n",
       "      <th>year built</th>\n",
       "      <th>year remodeled</th>\n",
       "      <th>property_type</th>\n",
       "      <th>latitude</th>\n",
       "      <th>longitude</th>\n",
       "    </tr>\n",
       "  </thead>\n",
       "  <tbody>\n",
       "    <tr>\n",
       "      <th>0</th>\n",
       "      <td>2022-03-13</td>\n",
       "      <td>Enforcement Violations</td>\n",
       "      <td>Improper storage trash: res</td>\n",
       "      <td>137 W Ninth St, 02127</td>\n",
       "      <td>South Boston</td>\n",
       "      <td>02127</td>\n",
       "      <td>700334000</td>\n",
       "      <td>ONE-37 W NINTH STREET</td>\n",
       "      <td>1920.0</td>\n",
       "      <td>1992.0</td>\n",
       "      <td>Condominium Main*</td>\n",
       "      <td>42.334460</td>\n",
       "      <td>-71.054240</td>\n",
       "    </tr>\n",
       "    <tr>\n",
       "      <th>1</th>\n",
       "      <td>2022-03-13</td>\n",
       "      <td>Enforcement Violations</td>\n",
       "      <td>Improper storage trash: res</td>\n",
       "      <td>141 W Ninth St, 02127</td>\n",
       "      <td>South Boston</td>\n",
       "      <td>02127</td>\n",
       "      <td>700336000</td>\n",
       "      <td>LASOFF STEVEN S</td>\n",
       "      <td>1885.0</td>\n",
       "      <td>1990.0</td>\n",
       "      <td>Residential 3-family</td>\n",
       "      <td>42.334370</td>\n",
       "      <td>-71.054130</td>\n",
       "    </tr>\n",
       "    <tr>\n",
       "      <th>2</th>\n",
       "      <td>2022-03-12</td>\n",
       "      <td>Enforcement Violations</td>\n",
       "      <td>Improper storage trash: res</td>\n",
       "      <td>24-26 Faneuil St, 02135</td>\n",
       "      <td>Brighton</td>\n",
       "      <td>02135</td>\n",
       "      <td>2202558000</td>\n",
       "      <td>LIU ZIYU</td>\n",
       "      <td>1930.0</td>\n",
       "      <td>2015.0</td>\n",
       "      <td>Residential 2-family</td>\n",
       "      <td>42.355008</td>\n",
       "      <td>-71.151007</td>\n",
       "    </tr>\n",
       "    <tr>\n",
       "      <th>3</th>\n",
       "      <td>2022-03-12</td>\n",
       "      <td>Enforcement Violations</td>\n",
       "      <td>Improper storage trash: res</td>\n",
       "      <td>39 Millmont St, 02119</td>\n",
       "      <td>Roxbury</td>\n",
       "      <td>02119</td>\n",
       "      <td>903678000</td>\n",
       "      <td>THREENINEMILLMONT LLC</td>\n",
       "      <td>1900.0</td>\n",
       "      <td>2015.0</td>\n",
       "      <td>Residential 3-family</td>\n",
       "      <td>42.327532</td>\n",
       "      <td>-71.090943</td>\n",
       "    </tr>\n",
       "    <tr>\n",
       "      <th>4</th>\n",
       "      <td>2022-03-12</td>\n",
       "      <td>Enforcement Violations</td>\n",
       "      <td>Improper storage trash: res</td>\n",
       "      <td>19 Park St, 02122</td>\n",
       "      <td>Dorchester</td>\n",
       "      <td>02122</td>\n",
       "      <td>1600041000</td>\n",
       "      <td>CORRIGAN JUSTIN</td>\n",
       "      <td>1890.0</td>\n",
       "      <td>1996.0</td>\n",
       "      <td>Residential 2-family</td>\n",
       "      <td>42.301993</td>\n",
       "      <td>-71.053850</td>\n",
       "    </tr>\n",
       "  </tbody>\n",
       "</table>\n",
       "</div>"
      ],
      "text/plain": [
       "        date          violation_type                  description  \\\n",
       "0 2022-03-13  Enforcement Violations  Improper storage trash: res   \n",
       "1 2022-03-13  Enforcement Violations  Improper storage trash: res   \n",
       "2 2022-03-12  Enforcement Violations  Improper storage trash: res   \n",
       "3 2022-03-12  Enforcement Violations  Improper storage trash: res   \n",
       "4 2022-03-12  Enforcement Violations  Improper storage trash: res   \n",
       "\n",
       "                   address  neighborhood zip_code      parcel  \\\n",
       "0    137 W Ninth St, 02127  South Boston    02127   700334000   \n",
       "1    141 W Ninth St, 02127  South Boston    02127   700336000   \n",
       "2  24-26 Faneuil St, 02135      Brighton    02135  2202558000   \n",
       "3    39 Millmont St, 02119       Roxbury    02119   903678000   \n",
       "4        19 Park St, 02122    Dorchester    02122  1600041000   \n",
       "\n",
       "                   owner  year built  year remodeled         property_type  \\\n",
       "0  ONE-37 W NINTH STREET      1920.0          1992.0     Condominium Main*   \n",
       "1        LASOFF STEVEN S      1885.0          1990.0  Residential 3-family   \n",
       "2               LIU ZIYU      1930.0          2015.0  Residential 2-family   \n",
       "3  THREENINEMILLMONT LLC      1900.0          2015.0  Residential 3-family   \n",
       "4        CORRIGAN JUSTIN      1890.0          1996.0  Residential 2-family   \n",
       "\n",
       "    latitude  longitude  \n",
       "0  42.334460 -71.054240  \n",
       "1  42.334370 -71.054130  \n",
       "2  42.355008 -71.151007  \n",
       "3  42.327532 -71.090943  \n",
       "4  42.301993 -71.053850  "
      ]
     },
     "execution_count": 5,
     "metadata": {},
     "output_type": "execute_result"
    }
   ],
   "source": [
    "df.head()"
   ]
  },
  {
   "cell_type": "code",
   "execution_count": 6,
   "id": "d8fd0fb8-5d46-4223-9045-91e50cb75453",
   "metadata": {},
   "outputs": [
    {
     "name": "stdout",
     "output_type": "stream",
     "text": [
      "Columns with missing values:\n",
      " Index(['description', 'neighborhood', 'year built', 'year remodeled'], dtype='object')\n"
     ]
    }
   ],
   "source": [
    "print('Columns with missing values:\\n',df.columns[df.isna().any()])"
   ]
  },
  {
   "cell_type": "code",
   "execution_count": 7,
   "id": "07f55a21-3c96-4b36-8739-cefdb9ca62aa",
   "metadata": {},
   "outputs": [
    {
     "data": {
      "text/plain": [
       "(309756, 13)"
      ]
     },
     "execution_count": 7,
     "metadata": {},
     "output_type": "execute_result"
    }
   ],
   "source": [
    "df.shape"
   ]
  },
  {
   "cell_type": "code",
   "execution_count": 71,
   "id": "f4d08e15-a854-4c4e-937f-0683bfb1fc58",
   "metadata": {},
   "outputs": [
    {
     "name": "stdout",
     "output_type": "stream",
     "text": [
      "Number of Unique Dataset\n",
      " Entries per Field\n"
     ]
    },
    {
     "data": {
      "text/plain": [
       "date              98170\n",
       "violation_type        6\n",
       "description         229\n",
       "address           76480\n",
       "neighborhood         15\n",
       "zip_code             30\n",
       "parcel            50533\n",
       "owner             45470\n",
       "year built          224\n",
       "year remodeled       91\n",
       "property_type         7\n",
       "latitude          67354\n",
       "longitude         67371\n",
       "dtype: int64"
      ]
     },
     "execution_count": 71,
     "metadata": {},
     "output_type": "execute_result"
    }
   ],
   "source": [
    "print('Number of Unique Dataset\\n Entries per Field')\n",
    "df.nunique()\n"
   ]
  },
  {
   "cell_type": "code",
   "execution_count": 9,
   "id": "784df9e6-66b7-4f64-984b-face66750acf",
   "metadata": {},
   "outputs": [
    {
     "name": "stdout",
     "output_type": "stream",
     "text": [
      "Mean Violations Per Address (Raw Entry): 4.05015690376569 Stdev: 7.653323118261063\n"
     ]
    },
    {
     "data": {
      "text/plain": [
       "address\n",
       "0 Ping On St, 02111            1\n",
       "1 A Acorn St, 02108            3\n",
       "1 A Unity St, 02113            2\n",
       "1 Abbotsford St, 02121         2\n",
       "1 Acorn St, 02108              5\n",
       "                              ..\n",
       "9A-15 Walk Hill St, 02130      3\n",
       "9B-9 Garden Court St, 02113    2\n",
       "9R Salem St, 02129             1\n",
       "9R Shepard St, 02135           2\n",
       "9R Winship St #B, 02135        3\n",
       "Name: date, Length: 76480, dtype: int64"
      ]
     },
     "execution_count": 9,
     "metadata": {},
     "output_type": "execute_result"
    }
   ],
   "source": [
    "print('Mean Violations Per Address (Raw Entry):',df.groupby('address').date.count().mean(),'Stdev:',df.groupby('address').date.count().std())\n",
    "df.groupby('address').date.count()"
   ]
  },
  {
   "cell_type": "code",
   "execution_count": 10,
   "id": "ccfe1194-2843-4702-851a-c18c81f11345",
   "metadata": {},
   "outputs": [
    {
     "name": "stdout",
     "output_type": "stream",
     "text": [
      "Mean Violations Per Owner (Raw Entry): 6.812315812623708 Stdev: 17.1371445661462\n"
     ]
    },
    {
     "data": {
      "text/plain": [
       "owner\n",
       "0NE-50 MAGNOLIA LLC               10\n",
       "1  ARBORVITAES  LLC               15\n",
       "1 ARBORVITAES LLC                  6\n",
       "1 ARION STREET LLC                 5\n",
       "1 ASPINWALL ROAD REALTY  TRUST     5\n",
       "                                  ..\n",
       "ZUREK ANDREW D GELLING             1\n",
       "ZUROMSKIS CHRISTINE TS            29\n",
       "ZUROMSKIS J MICHAEL TRST          38\n",
       "ZVONAR ZORAN                       2\n",
       "ZYTO AURORE                        1\n",
       "Name: date, Length: 45470, dtype: int64"
      ]
     },
     "execution_count": 10,
     "metadata": {},
     "output_type": "execute_result"
    }
   ],
   "source": [
    "print('Mean Violations Per Owner (Raw Entry):',df.groupby('owner').date.count().mean(),'Stdev:',df.groupby('owner').date.count().std())\n",
    "df.groupby('owner').date.count()"
   ]
  },
  {
   "cell_type": "code",
   "execution_count": 12,
   "id": "51006863-e4e9-4ef9-9855-c52dc7f5d3ae",
   "metadata": {},
   "outputs": [
    {
     "data": {
      "image/png": "[encoded data removed]",
      "text/plain": [
       "<Figure size 432x288 with 1 Axes>"
      ]
     },
     "metadata": {
      "needs_background": "light"
     },
     "output_type": "display_data"
    }
   ],
   "source": [
    "df.groupby('neighborhood').violation_type.value_counts().rename('num_violations_by_neighborhood').unstack().plot.bar(stacked=True)\n",
    "plt.title('Number of Violations Reported per Neighborhood')\n",
    "plt.ylabel('Number of Violations, 2016-present')\n",
    "plt.show()"
   ]
  },
  {
   "cell_type": "code",
   "execution_count": 13,
   "id": "9bf5e545-2609-425a-ab4f-db4b6e99b063",
   "metadata": {},
   "outputs": [
    {
     "data": {
      "image/png": "[encoded data removed]",
      "text/plain": [
       "<Figure size 432x288 with 1 Axes>"
      ]
     },
     "metadata": {
      "needs_background": "light"
     },
     "output_type": "display_data"
    }
   ],
   "source": [
    "df.groupby('neighborhood').violation_type.count().plot.bar()\n",
    "plt.ylabel('Total Number of Violations, 2016-present')\n",
    "plt.show()"
   ]
  },
  {
   "cell_type": "code",
   "execution_count": 96,
   "id": "89423468-4866-4abd-a73b-909976325ffe",
   "metadata": {},
   "outputs": [
    {
     "name": "stdout",
     "output_type": "stream",
     "text": [
      "10 Enforcement Violations Descriptions\n",
      " with the Most Number of Reported Cases\n"
     ]
    },
    {
     "data": {
      "text/plain": [
       "Improper storage trash: res       140058\n",
       "Overfilling of barrel/dumpster     20336\n",
       "Overgrown Weeds On Property        14475\n",
       "Failure clear sidewalk - snow      11643\n",
       "Illegal dumping < 1 cubic yd        5003\n",
       "Improper storage trash: com         4203\n",
       "Occupying City prop wo permit       2515\n",
       "illegal parking prop owner 1        1716\n",
       "Unregistered motor vehicles- 2      1260\n",
       "illegal parking prop owner 2         964\n",
       "Failure To Register                  828\n",
       "Unregistered motor vehicles-1        721\n",
       "Maint a dumpster wopermit            630\n",
       "Trash illegally dump container       348\n",
       "Removal snow private prop            302\n",
       "Failure clear sidewalk - snow:       207\n",
       "Site Cleanliness license – WAR       186\n",
       "Failure to secure a Re-Inspect       154\n",
       "No Number On A Building              136\n",
       "Failed Multiple Rental Insp          113\n",
       "Shopping Cart - 1                    103\n",
       "Graffiti on building- 1              103\n",
       "Failure to Obtain Inspection         100\n",
       "Illegal dumping 1-5 cubic yd.:        98\n",
       "Failure clean sidewalk com            73\n",
       "Removal snow private property         61\n",
       "Non-Emergency Auto Repair             50\n",
       "Removal snow non-res property         45\n",
       "Posting signs wo authority            21\n",
       "Graffiti on building- 2               16\n",
       "Failure of Delivery Standards         15\n",
       "Shopping Cart - 2                     15\n",
       "Site Cleanliness license – VIO        14\n",
       "Transporting refuse without pe        10\n",
       "Fail to post management comp           7\n",
       "Illegal Vending                        6\n",
       "disposal med waste                     5\n",
       "Large building recycling- 1            4\n",
       "Illegal dumping w a vehicle            3\n",
       "Large building recycling - 2           2\n",
       "Illegal dumping 5+ cubic yd            1\n",
       "Illegal dumping park                   1\n",
       "Illegal dumping: Haz Waste             1\n",
       "Illegal dumping 1-5 cuyd.              1\n",
       "Sign: COB Zoning Article 11-1          1\n",
       "Name: description, dtype: int64"
      ]
     },
     "execution_count": 96,
     "metadata": {},
     "output_type": "execute_result"
    }
   ],
   "source": [
    "print('10 Enforcement Violations Descriptions\\n with the Most Number of Reported Cases')\n",
    "df.loc[df.violation_type == 'Enforcement Violations'].description.value_counts()"
   ]
  },
  {
   "cell_type": "code",
   "execution_count": 97,
   "id": "a60e4525-f1ca-4ceb-a619-ea7811bc7389",
   "metadata": {},
   "outputs": [
    {
     "name": "stdout",
     "output_type": "stream",
     "text": [
      "10 Housing Complaints Descriptions\n",
      " with the Most Number of Reported Cases\n"
     ]
    },
    {
     "data": {
      "text/plain": [
       "Unsatisfactory Living Conditions                   9317\n",
       "Work w/out Permit                                  6296\n",
       "Contractors Complaint                              5243\n",
       "Building Inspection Request                        4209\n",
       "Pest Infestation - Residential                     3815\n",
       "Heat - Excessive, Insufficient                     3700\n",
       "Unsafe Dangerous Conditions                        3551\n",
       "Working Beyond Hours                               2804\n",
       "Electrical                                         1955\n",
       "Protection of Adjoining Property                   1546\n",
       "Mice Infestation - Residential                     1468\n",
       "Maintenance - Homeowner                            1291\n",
       "Exceeding Terms of Permit                          1119\n",
       "Maintenance Complaint - Residential                1107\n",
       "Chronic Dampness/Mold                               992\n",
       "Illegal Occupancy                                   961\n",
       "Cross Metering - Sub-Metering                       957\n",
       "Illegal Rooming House                               717\n",
       "No Utilities Residential - Water                    688\n",
       "Bed Bugs                                            683\n",
       "Unsatisfactory Utilities - Electrical, Plumbing     599\n",
       "Egress                                              571\n",
       "Plumbing                                            367\n",
       "Rental Unit Delivery Conditions                     348\n",
       "No Utilities Residential - Electricity              318\n",
       "Carbon Monoxide                                     300\n",
       "Sewage/Septic Back-Up                               258\n",
       "Squalid Living Conditions                           243\n",
       "Overcrowding                                        227\n",
       "Mechanical                                          186\n",
       "Zoning                                              161\n",
       "No Utilities Residential - Gas                      156\n",
       "Short Term Rental                                   152\n",
       "Rooftop & Mechanical Disturbances                   150\n",
       "Breathe Easy                                        140\n",
       "Poor Ventilation                                    111\n",
       "Lead                                                106\n",
       "Occupying W/Out A Valid CO/CI                        52\n",
       "Student Overcrowding                                  9\n",
       "Illegal Use                                           6\n",
       "Name: description, dtype: int64"
      ]
     },
     "execution_count": 97,
     "metadata": {},
     "output_type": "execute_result"
    }
   ],
   "source": [
    "print('10 Housing Complaints Descriptions\\n with the Most Number of Reported Cases')\n",
    "df.loc[df.violation_type == 'Housing Complaints'].description.value_counts()"
   ]
  },
  {
   "cell_type": "code",
   "execution_count": 16,
   "id": "060c1dcc-38cd-43ff-9d46-124a41a146de",
   "metadata": {},
   "outputs": [
    {
     "name": "stdout",
     "output_type": "stream",
     "text": [
      "Mean Housing Complaints Per Owner (Raw Entry): 2.954139399605277 Stdev: 5.6438402063632545 Max: 382.0\n"
     ]
    },
    {
     "data": {
      "text/plain": [
       "owner\n",
       "0NE-50 MAGNOLIA LLC               6.0\n",
       "1  ARBORVITAES  LLC               1.0\n",
       "1 ARBORVITAES LLC                 3.0\n",
       "1 ARION STREET LLC                1.0\n",
       "1 ASPINWALL ROAD REALTY  TRUST    2.0\n",
       "                                 ... \n",
       "ZUREK ANDREW D GELLING            1.0\n",
       "ZUROMSKIS CHRISTINE TS            3.0\n",
       "ZUROMSKIS J MICHAEL TRST          1.0\n",
       "ZVONAR ZORAN                      NaN\n",
       "ZYTO AURORE                       NaN\n",
       "Name: Housing Complaints, Length: 45470, dtype: float64"
      ]
     },
     "execution_count": 16,
     "metadata": {},
     "output_type": "execute_result"
    }
   ],
   "source": [
    "print('Mean Housing Complaints Per Owner (Raw Entry):',\n",
    "      df.groupby('owner').violation_type.value_counts().rename('num_violations_by_owner').unstack()['Housing Complaints'].mean(),\n",
    "      'Stdev:',df.groupby('owner').violation_type.value_counts().rename('num_violations_by_owner').unstack()['Housing Complaints'].std(),\n",
    "     'Max:', df.groupby('owner').violation_type.value_counts().rename('num_violations_by_owner').unstack()['Housing Complaints'].max())\n",
    "df.groupby('owner').violation_type.value_counts().rename('num_violations_by_owner').unstack()['Housing Complaints']"
   ]
  },
  {
   "cell_type": "code",
   "execution_count": 17,
   "id": "ce311b05-c929-4fbe-bd12-3993a095740c",
   "metadata": {},
   "outputs": [
    {
     "data": {
      "text/plain": [
       "owner\n",
       "GBM PORTFOLIO OWNER LLC                382.0\n",
       "NORTHAMPTON SQ CONDO ASSOC             133.0\n",
       "JPNDC  PITTS  LLC                      128.0\n",
       "KASANOF LAND LLC                       121.0\n",
       "CESCO LLC MASS LLC                     106.0\n",
       "SOLSKINN PROPERTIES LLC                101.0\n",
       "WASHINGTON COLUMBIA II MASS LPS         89.0\n",
       "GEORGETOWNE HOMES ONE LLC MASS LLC      86.0\n",
       "HARBOR POINT APTS CO LESSEE             85.0\n",
       "MCKINLEY INVESTMENT GROUP  LLC          76.0\n",
       "LACONCHA LIMITED PARTNERSHIP            72.0\n",
       "MERCANTILE WHARF ASSOCIATES             71.0\n",
       "NEW FRANKLIN PARK LIMITED               69.0\n",
       "PNC ARHPF BLUE MOUNTAIN APTS LLC        69.0\n",
       "BISMARCK STREET OWNER LLC               66.0\n",
       "MILLER DWIGHT                           66.0\n",
       "FERREIRA JOSE                           65.0\n",
       "PNC ARHPF NEW PORT ANTONIO APTS LLC     65.0\n",
       "CHARLES RIVER PARK D COMPANY            64.0\n",
       "TALBOT BERNARD HOUSING LLC MASS LLC     64.0\n",
       "Name: Housing Complaints, dtype: float64"
      ]
     },
     "execution_count": 17,
     "metadata": {},
     "output_type": "execute_result"
    }
   ],
   "source": [
    "df.groupby('owner').violation_type.value_counts().rename('num_violations_by_owner').unstack()['Housing Complaints'].nlargest(20)\n",
    "#uniue properties with reported complaints per owner per units"
   ]
  },
  {
   "cell_type": "code",
   "execution_count": 18,
   "id": "90d7b5ce-2119-452a-b4d1-cb41c8644fdf",
   "metadata": {},
   "outputs": [
    {
     "data": {
      "text/plain": [
       "address                        property_type               \n",
       "1 Howland St # 2B, 02121       Residential 7 or more units     2\n",
       "1 Howland St #1, 02121         Residential 7 or more units     2\n",
       "1 Howland St #11, 02121        Residential 7 or more units     1\n",
       "1 Howland St #3, 02121         Residential 7 or more units     4\n",
       "1 Howland St #6, 02121         Residential 7 or more units     2\n",
       "                                                              ..\n",
       "9 River Street Ter # 3, 02136  Residential 4 or more family    1\n",
       "9 Ruggles St # 1, 02119        Residential 7 or more units     1\n",
       "9 Ruggles St # 2, 02119        Residential 7 or more units     1\n",
       "9 Ruggles St # 4, 02119        Residential 7 or more units     1\n",
       "9 Ruggles St, 02119            Residential 7 or more units     3\n",
       "Name: property_type, Length: 171, dtype: int64"
      ]
     },
     "execution_count": 18,
     "metadata": {},
     "output_type": "execute_result"
    }
   ],
   "source": [
    "df[df.owner == 'GBM PORTFOLIO OWNER LLC'].groupby('address').property_type.value_counts()"
   ]
  },
  {
   "cell_type": "code",
   "execution_count": 19,
   "id": "4508fbf1-9a00-4643-b5cb-6da31cd1082c",
   "metadata": {},
   "outputs": [
    {
     "data": {
      "text/plain": [
       "(55,)"
      ]
     },
     "execution_count": 19,
     "metadata": {},
     "output_type": "execute_result"
    }
   ],
   "source": [
    "df[df.owner == 'NORTHAMPTON SQ CONDO ASSOC'].groupby('address').property_type.value_counts().shape"
   ]
  },
  {
   "cell_type": "code",
   "execution_count": 20,
   "id": "156c57eb-c37a-45f2-be45-69dcc40f5792",
   "metadata": {},
   "outputs": [
    {
     "data": {
      "text/plain": [
       "owner\n",
       "0NE-50 MAGNOLIA LLC               10\n",
       "1  ARBORVITAES  LLC               15\n",
       "1 ARBORVITAES LLC                  6\n",
       "1 ARION STREET LLC                 5\n",
       "1 ASPINWALL ROAD REALTY  TRUST     5\n",
       "                                  ..\n",
       "ZUREK ANDREW D GELLING             1\n",
       "ZUROMSKIS CHRISTINE TS            29\n",
       "ZUROMSKIS J MICHAEL TRST          38\n",
       "ZVONAR ZORAN                       2\n",
       "ZYTO AURORE                        1\n",
       "Name: address, Length: 45470, dtype: int64"
      ]
     },
     "execution_count": 20,
     "metadata": {},
     "output_type": "execute_result"
    }
   ],
   "source": [
    "df.groupby('owner')['address'].count()"
   ]
  },
  {
   "cell_type": "code",
   "execution_count": 35,
   "id": "1e006fcb-7ee4-453b-b167-a4a9037cc769",
   "metadata": {},
   "outputs": [
    {
     "data": {
      "text/plain": [
       "array(['Condominium Main*', 'Residential 3-family',\n",
       "       'Residential 2-family', 'Residential 7 or more units',\n",
       "       'Residential 4 or more family', 'Residential 1-family',\n",
       "       'Mixed Use (Res. and Comm.)'], dtype=object)"
      ]
     },
     "execution_count": 35,
     "metadata": {},
     "output_type": "execute_result"
    }
   ],
   "source": [
    "df['property_type'].unique()"
   ]
  },
  {
   "cell_type": "code",
   "execution_count": 36,
   "id": "ca7098fd-4186-40ef-bccc-0cd2b53b4c5c",
   "metadata": {},
   "outputs": [
    {
     "data": {
      "text/plain": [
       "Residential 3-family            74454\n",
       "Condominium Main*               58908\n",
       "Residential 2-family            47120\n",
       "Residential 1-family            42052\n",
       "Residential 7 or more units     35396\n",
       "Mixed Use (Res. and Comm.)      27403\n",
       "Residential 4 or more family    24423\n",
       "Name: property_type, dtype: int64"
      ]
     },
     "execution_count": 36,
     "metadata": {},
     "output_type": "execute_result"
    }
   ],
   "source": [
    "df['property_type'].value_counts()"
   ]
  },
  {
   "cell_type": "code",
   "execution_count": 109,
   "id": "f246cb79-0a76-4de0-b260-9432b55ca181",
   "metadata": {},
   "outputs": [],
   "source": [
    "num_7prop_owned = df.loc[df.property_type == 'Residential 7 or more units'].groupby('owner').address.nunique()"
   ]
  },
  {
   "cell_type": "code",
   "execution_count": 110,
   "id": "28ca3e60-a66e-4625-8b10-24a39e1cc191",
   "metadata": {},
   "outputs": [],
   "source": [
    "prop7 = df.loc[df.property_type == 'Residential 7 or more units'].groupby('owner').date.count()"
   ]
  },
  {
   "cell_type": "code",
   "execution_count": 112,
   "id": "b289fe96-8a0c-4645-9dfd-c166db38e92c",
   "metadata": {},
   "outputs": [],
   "source": [
    "prop7['num_prop'] = num_7prop_owned"
   ]
  },
  {
   "cell_type": "code",
   "execution_count": 116,
   "id": "c45ab5d8-9c01-4544-b57a-c754b645a1c5",
   "metadata": {},
   "outputs": [
    {
     "data": {
      "text/plain": [
       "owner\n",
       "0NE-50 MAGNOLIA LLC           1.666667\n",
       "10 SYDNEY STREET LLC          3.000000\n",
       "10-18 BRAINERD ROAD LLC       2.333333\n",
       "102 CHANDLER LLC             41.000000\n",
       "106 WEBSTER LLC              15.500000\n",
       "                               ...    \n",
       "YIA YIA REALTY LP MASS LP     4.000000\n",
       "YOUNG JACOB F III TS          2.800000\n",
       "ZARBA CHRISTOPHER R           1.500000\n",
       "ZEENA REALTY LLC              2.333333\n",
       "ZOLA STEVEN J                20.000000\n",
       "Length: 1363, dtype: float64"
      ]
     },
     "execution_count": 116,
     "metadata": {},
     "output_type": "execute_result"
    }
   ],
   "source": [
    "df.loc[df.property_type == 'Residential 7 or more units'].groupby('owner').date.count() / num_7prop_owned"
   ]
  },
  {
   "cell_type": "code",
   "execution_count": 123,
   "id": "31855d5c-d5ae-473a-8ac6-ec3945881794",
   "metadata": {},
   "outputs": [
    {
     "data": {
      "image/png": "[encoded data removed]",
      "text/plain": [
       "<Figure size 432x288 with 1 Axes>"
      ]
     },
     "metadata": {
      "needs_background": "light"
     },
     "output_type": "display_data"
    }
   ],
   "source": [
    "\n",
    "(df.loc[df.property_type == 'Residential 7 or more units'].groupby('owner').date.count() / num_7prop_owned).hist(bins=20)\n",
    "plt.xlabel('Number of Complaints/Num Properties, 2016-present')\n",
    "plt.ylabel('Freq (Residential 7 or more units Only)')\n",
    "plt.title('Histogram: Complaints/Num Properties For Owners of Residential Addresses with 7 or more units')\n",
    "plt.show()"
   ]
  },
  {
   "cell_type": "code",
   "execution_count": 122,
   "id": "e67e5e16-fd3a-4df7-bd79-0c77fbb999e2",
   "metadata": {},
   "outputs": [
    {
     "name": "stdout",
     "output_type": "stream",
     "text": [
      "20 Owners of Residential Addresses with 7\n",
      " or More Units with Most Complaints per\n",
      " Properties Owned\n"
     ]
    },
    {
     "data": {
      "text/plain": [
       "owner\n",
       "NEW MASS AVE LLC                       116.0\n",
       "SHEPARD MONTROSE LLC                    81.0\n",
       "THREE-79 BEACON ST LIMITED              80.0\n",
       "FOUR FOUNTAIN PLACE LLC MASS LLC        75.0\n",
       "EMERALD REALTY CAPITAL LLC MASS LLC     74.0\n",
       "TWENTY 3 CORTES LLC MASS LLC            66.0\n",
       "FREEDMAN LILLIAN Z TS                   64.0\n",
       "VINAL MONTROSE LLC                      62.0\n",
       "CASTING TANES                           56.0\n",
       "148 W 9TH ST LLC                        55.0\n",
       "FERRIS TIMOTHY                          55.0\n",
       "233 BEACON STREET LLC                   54.0\n",
       "FIVE-07 BEACON LLC MASS LLC             52.0\n",
       "FORTY ANDERSON STREET LLC               52.0\n",
       "LADD MARTIN M JR TRSTS                  52.0\n",
       "R&R CAPITAL INVESTMENTS LLC             49.0\n",
       "TORRINGTON WEBB LLC                     48.0\n",
       "FAIRFIELD 10 LLC                        47.0\n",
       "256 HOLDINGS LLC                        46.0\n",
       "FRANKLIN CAPITAL PARTNERS CO            46.0\n",
       "dtype: float64"
      ]
     },
     "execution_count": 122,
     "metadata": {},
     "output_type": "execute_result"
    }
   ],
   "source": [
    "print('20 Owners of Residential Addresses with 7\\n or More Units with Most Complaints per\\n Properties Owned')\n",
    "(df.loc[df.property_type == 'Residential 7 or more units'].groupby('owner').date.count() / num_7prop_owned).nlargest(20)\n",
    "                                                                                                                 #GBM"
   ]
  },
  {
   "cell_type": "code",
   "execution_count": 81,
   "id": "61f891a3-907d-4d97-9694-e4d72a1d76bc",
   "metadata": {},
   "outputs": [
    {
     "data": {
      "image/png": "[encoded data removed]",
      "text/plain": [
       "<Figure size 432x288 with 1 Axes>"
      ]
     },
     "metadata": {
      "needs_background": "light"
     },
     "output_type": "display_data"
    }
   ],
   "source": [
    "df.loc[df.property_type == 'Residential 1-family'].groupby('owner').date.count().hist(bins=50)\n",
    "plt.xlabel('Number of Complaints, 2016-present')\n",
    "plt.ylabel('Freq (Residential 1-family Only)')\n",
    "plt.title('Histogram: Complaints About Owners of 1-Family Residential Addresses')\n",
    "plt.show()"
   ]
  },
  {
   "cell_type": "code",
   "execution_count": 85,
   "id": "57ecce23-8f45-4185-9272-2bee3f375008",
   "metadata": {},
   "outputs": [
    {
     "name": "stdout",
     "output_type": "stream",
     "text": [
      "20 Owners of 1-Family Residential Addresses\n",
      " with Most Complaints\n"
     ]
    },
    {
     "data": {
      "text/plain": [
       "owner\n",
       "HARVEY VINA                       282\n",
       "OCALLAGHAN TIMOTHY P TS           166\n",
       "LIRIANO RICHARD                   163\n",
       "MARTIN JAMES H III                154\n",
       "CROWE CORA A                      139\n",
       "WHITCHER FORREST D                138\n",
       "WHITEACRE PROPERTIES LLC          130\n",
       "SCANZIO MARK E                    125\n",
       "KENNEY REALTY 2 LLC               110\n",
       "CHANG DEREK T                     102\n",
       "MCKINLEY INVESTMENT GROUP  LLC     96\n",
       "BLUE PINE TREE LLC                 85\n",
       "DIETRICH XAVIER J II               84\n",
       "PATILLO DELORES                    83\n",
       "PRICE HERBERT C                    83\n",
       "HAMILTON FRANCIS                   78\n",
       "FALCUCCI PROPERTIES LLC            72\n",
       "CAMPBELL TREVON                    69\n",
       "HODGE WILLIAM                      67\n",
       "U S BANK TRUST N A                 62\n",
       "Name: date, dtype: int64"
      ]
     },
     "execution_count": 85,
     "metadata": {},
     "output_type": "execute_result"
    }
   ],
   "source": [
    "print('20 Owners of 1-Family Residential Addresses\\n with Most Complaints')\n",
    "df.loc[df.property_type == 'Residential 1-family'].groupby('owner').date.count().nlargest(20)\n",
    "# "
   ]
  },
  {
   "cell_type": "code",
   "execution_count": 21,
   "id": "1b9467b5-e0d8-43c6-a7bf-023eac522251",
   "metadata": {},
   "outputs": [
    {
     "data": {
      "text/html": [
       "<div>\n",
       "<style scoped>\n",
       "    .dataframe tbody tr th:only-of-type {\n",
       "        vertical-align: middle;\n",
       "    }\n",
       "\n",
       "    .dataframe tbody tr th {\n",
       "        vertical-align: top;\n",
       "    }\n",
       "\n",
       "    .dataframe thead th {\n",
       "        text-align: right;\n",
       "    }\n",
       "</style>\n",
       "<table border=\"1\" class=\"dataframe\">\n",
       "  <thead>\n",
       "    <tr style=\"text-align: right;\">\n",
       "      <th></th>\n",
       "      <th>date</th>\n",
       "      <th>violation_type</th>\n",
       "      <th>description</th>\n",
       "      <th>address</th>\n",
       "      <th>neighborhood</th>\n",
       "      <th>zip_code</th>\n",
       "      <th>parcel</th>\n",
       "      <th>owner</th>\n",
       "      <th>year built</th>\n",
       "      <th>year remodeled</th>\n",
       "      <th>property_type</th>\n",
       "      <th>latitude</th>\n",
       "      <th>longitude</th>\n",
       "    </tr>\n",
       "  </thead>\n",
       "  <tbody>\n",
       "    <tr>\n",
       "      <th>1460</th>\n",
       "      <td>2022-03-01 13:26:00.000</td>\n",
       "      <td>Housing Complaints</td>\n",
       "      <td>Heat - Excessive, Insufficient</td>\n",
       "      <td>85 Tennis Rd #302, 02126</td>\n",
       "      <td>Mattapan</td>\n",
       "      <td>02126</td>\n",
       "      <td>1803081000</td>\n",
       "      <td>GBM PORTFOLIO OWNER LLC</td>\n",
       "      <td>1965.0</td>\n",
       "      <td>1980.0</td>\n",
       "      <td>Mixed Use (Res. and Comm.)</td>\n",
       "      <td>42.27711</td>\n",
       "      <td>-71.09694</td>\n",
       "    </tr>\n",
       "    <tr>\n",
       "      <th>2038</th>\n",
       "      <td>2022-02-27 16:22:00.000</td>\n",
       "      <td>Housing Complaints</td>\n",
       "      <td>Heat - Excessive, Insufficient</td>\n",
       "      <td>15 Ruggles St # 3, 02119</td>\n",
       "      <td>Roxbury</td>\n",
       "      <td>02119</td>\n",
       "      <td>902452000</td>\n",
       "      <td>GBM PORTFOLIO OWNER LLC</td>\n",
       "      <td>1899.0</td>\n",
       "      <td>2015.0</td>\n",
       "      <td>Residential 7 or more units</td>\n",
       "      <td>42.33162</td>\n",
       "      <td>-71.08321</td>\n",
       "    </tr>\n",
       "    <tr>\n",
       "      <th>2517</th>\n",
       "      <td>2022-02-24 15:22:00.000</td>\n",
       "      <td>Housing Complaints</td>\n",
       "      <td>Maintenance Complaint - Residential</td>\n",
       "      <td>1 Rosa St # 103, 02136</td>\n",
       "      <td>Hyde Park</td>\n",
       "      <td>02136</td>\n",
       "      <td>1807006000</td>\n",
       "      <td>GBM PORTFOLIO OWNER LLC</td>\n",
       "      <td>1965.0</td>\n",
       "      <td>1980.0</td>\n",
       "      <td>Residential 7 or more units</td>\n",
       "      <td>42.26162</td>\n",
       "      <td>-71.11198</td>\n",
       "    </tr>\n",
       "    <tr>\n",
       "      <th>2518</th>\n",
       "      <td>2022-02-24 14:40:00.000</td>\n",
       "      <td>Housing Complaints</td>\n",
       "      <td>Pest Infestation - Residential</td>\n",
       "      <td>89 Tennis Rd #301, 02126</td>\n",
       "      <td>Mattapan</td>\n",
       "      <td>02126</td>\n",
       "      <td>1803085000</td>\n",
       "      <td>GBM PORTFOLIO OWNER LLC</td>\n",
       "      <td>1965.0</td>\n",
       "      <td>1980.0</td>\n",
       "      <td>Residential 7 or more units</td>\n",
       "      <td>42.27744</td>\n",
       "      <td>-71.09734</td>\n",
       "    </tr>\n",
       "    <tr>\n",
       "      <th>3414</th>\n",
       "      <td>2022-02-17 12:42:00.000</td>\n",
       "      <td>Housing Complaints</td>\n",
       "      <td>Unsatisfactory Living Conditions</td>\n",
       "      <td>498 Norfolk St #202, 02126</td>\n",
       "      <td>Mattapan</td>\n",
       "      <td>02126</td>\n",
       "      <td>1800830000</td>\n",
       "      <td>GBM PORTFOLIO OWNER LLC</td>\n",
       "      <td>1965.0</td>\n",
       "      <td>1980.0</td>\n",
       "      <td>Residential 7 or more units</td>\n",
       "      <td>42.27933</td>\n",
       "      <td>-71.08883</td>\n",
       "    </tr>\n",
       "    <tr>\n",
       "      <th>...</th>\n",
       "      <td>...</td>\n",
       "      <td>...</td>\n",
       "      <td>...</td>\n",
       "      <td>...</td>\n",
       "      <td>...</td>\n",
       "      <td>...</td>\n",
       "      <td>...</td>\n",
       "      <td>...</td>\n",
       "      <td>...</td>\n",
       "      <td>...</td>\n",
       "      <td>...</td>\n",
       "      <td>...</td>\n",
       "      <td>...</td>\n",
       "    </tr>\n",
       "    <tr>\n",
       "      <th>306096</th>\n",
       "      <td>2017-04-28 10:22:00.000</td>\n",
       "      <td>Housing Complaints</td>\n",
       "      <td>Cross Metering - Sub-Metering</td>\n",
       "      <td>1037 River St #6, 02136</td>\n",
       "      <td>Hyde Park</td>\n",
       "      <td>02136</td>\n",
       "      <td>1808175000</td>\n",
       "      <td>GBM PORTFOLIO OWNER LLC</td>\n",
       "      <td>1970.0</td>\n",
       "      <td>1980.0</td>\n",
       "      <td>Residential 7 or more units</td>\n",
       "      <td>42.25989</td>\n",
       "      <td>-71.11716</td>\n",
       "    </tr>\n",
       "    <tr>\n",
       "      <th>306122</th>\n",
       "      <td>2017-04-28 06:57:00.000</td>\n",
       "      <td>Housing Complaints</td>\n",
       "      <td>Electrical</td>\n",
       "      <td>80 Hiawatha Rd, 02126</td>\n",
       "      <td>Mattapan</td>\n",
       "      <td>02126</td>\n",
       "      <td>1803109001</td>\n",
       "      <td>GBM PORTFOLIO OWNER LLC</td>\n",
       "      <td>1965.0</td>\n",
       "      <td>1985.0</td>\n",
       "      <td>Residential 7 or more units</td>\n",
       "      <td>42.27764</td>\n",
       "      <td>-71.09706</td>\n",
       "    </tr>\n",
       "    <tr>\n",
       "      <th>306123</th>\n",
       "      <td>2017-04-28 06:53:00.000</td>\n",
       "      <td>Housing Complaints</td>\n",
       "      <td>Maintenance Complaint - Residential</td>\n",
       "      <td>80 Hiawatha Rd, 02126</td>\n",
       "      <td>Mattapan</td>\n",
       "      <td>02126</td>\n",
       "      <td>1803109001</td>\n",
       "      <td>GBM PORTFOLIO OWNER LLC</td>\n",
       "      <td>1965.0</td>\n",
       "      <td>1985.0</td>\n",
       "      <td>Residential 7 or more units</td>\n",
       "      <td>42.27764</td>\n",
       "      <td>-71.09706</td>\n",
       "    </tr>\n",
       "    <tr>\n",
       "      <th>306124</th>\n",
       "      <td>2017-04-28 06:51:25.580</td>\n",
       "      <td>Housing Complaints</td>\n",
       "      <td>Building Inspection Request</td>\n",
       "      <td>80 Hiawatha Rd, 02126</td>\n",
       "      <td>Mattapan</td>\n",
       "      <td>02126</td>\n",
       "      <td>1803109001</td>\n",
       "      <td>GBM PORTFOLIO OWNER LLC</td>\n",
       "      <td>1965.0</td>\n",
       "      <td>1985.0</td>\n",
       "      <td>Residential 7 or more units</td>\n",
       "      <td>42.27764</td>\n",
       "      <td>-71.09706</td>\n",
       "    </tr>\n",
       "    <tr>\n",
       "      <th>309521</th>\n",
       "      <td>2017-04-10 10:20:16.487</td>\n",
       "      <td>Housing Complaints</td>\n",
       "      <td>Breathe Easy</td>\n",
       "      <td>720 River St # 40, 02126</td>\n",
       "      <td>Mattapan</td>\n",
       "      <td>02126</td>\n",
       "      <td>1801337002</td>\n",
       "      <td>GBM PORTFOLIO OWNER LLC</td>\n",
       "      <td>1965.0</td>\n",
       "      <td>1980.0</td>\n",
       "      <td>Residential 7 or more units</td>\n",
       "      <td>42.26341</td>\n",
       "      <td>-71.10223</td>\n",
       "    </tr>\n",
       "  </tbody>\n",
       "</table>\n",
       "<p>382 rows × 13 columns</p>\n",
       "</div>"
      ],
      "text/plain": [
       "                          date      violation_type  \\\n",
       "1460   2022-03-01 13:26:00.000  Housing Complaints   \n",
       "2038   2022-02-27 16:22:00.000  Housing Complaints   \n",
       "2517   2022-02-24 15:22:00.000  Housing Complaints   \n",
       "2518   2022-02-24 14:40:00.000  Housing Complaints   \n",
       "3414   2022-02-17 12:42:00.000  Housing Complaints   \n",
       "...                        ...                 ...   \n",
       "306096 2017-04-28 10:22:00.000  Housing Complaints   \n",
       "306122 2017-04-28 06:57:00.000  Housing Complaints   \n",
       "306123 2017-04-28 06:53:00.000  Housing Complaints   \n",
       "306124 2017-04-28 06:51:25.580  Housing Complaints   \n",
       "309521 2017-04-10 10:20:16.487  Housing Complaints   \n",
       "\n",
       "                                description                     address  \\\n",
       "1460         Heat - Excessive, Insufficient    85 Tennis Rd #302, 02126   \n",
       "2038         Heat - Excessive, Insufficient    15 Ruggles St # 3, 02119   \n",
       "2517    Maintenance Complaint - Residential      1 Rosa St # 103, 02136   \n",
       "2518         Pest Infestation - Residential    89 Tennis Rd #301, 02126   \n",
       "3414       Unsatisfactory Living Conditions  498 Norfolk St #202, 02126   \n",
       "...                                     ...                         ...   \n",
       "306096        Cross Metering - Sub-Metering     1037 River St #6, 02136   \n",
       "306122                           Electrical       80 Hiawatha Rd, 02126   \n",
       "306123  Maintenance Complaint - Residential       80 Hiawatha Rd, 02126   \n",
       "306124          Building Inspection Request       80 Hiawatha Rd, 02126   \n",
       "309521                         Breathe Easy    720 River St # 40, 02126   \n",
       "\n",
       "       neighborhood zip_code      parcel                    owner  year built  \\\n",
       "1460       Mattapan    02126  1803081000  GBM PORTFOLIO OWNER LLC      1965.0   \n",
       "2038        Roxbury    02119   902452000  GBM PORTFOLIO OWNER LLC      1899.0   \n",
       "2517      Hyde Park    02136  1807006000  GBM PORTFOLIO OWNER LLC      1965.0   \n",
       "2518       Mattapan    02126  1803085000  GBM PORTFOLIO OWNER LLC      1965.0   \n",
       "3414       Mattapan    02126  1800830000  GBM PORTFOLIO OWNER LLC      1965.0   \n",
       "...             ...      ...         ...                      ...         ...   \n",
       "306096    Hyde Park    02136  1808175000  GBM PORTFOLIO OWNER LLC      1970.0   \n",
       "306122     Mattapan    02126  1803109001  GBM PORTFOLIO OWNER LLC      1965.0   \n",
       "306123     Mattapan    02126  1803109001  GBM PORTFOLIO OWNER LLC      1965.0   \n",
       "306124     Mattapan    02126  1803109001  GBM PORTFOLIO OWNER LLC      1965.0   \n",
       "309521     Mattapan    02126  1801337002  GBM PORTFOLIO OWNER LLC      1965.0   \n",
       "\n",
       "        year remodeled                property_type  latitude  longitude  \n",
       "1460            1980.0   Mixed Use (Res. and Comm.)  42.27711  -71.09694  \n",
       "2038            2015.0  Residential 7 or more units  42.33162  -71.08321  \n",
       "2517            1980.0  Residential 7 or more units  42.26162  -71.11198  \n",
       "2518            1980.0  Residential 7 or more units  42.27744  -71.09734  \n",
       "3414            1980.0  Residential 7 or more units  42.27933  -71.08883  \n",
       "...                ...                          ...       ...        ...  \n",
       "306096          1980.0  Residential 7 or more units  42.25989  -71.11716  \n",
       "306122          1985.0  Residential 7 or more units  42.27764  -71.09706  \n",
       "306123          1985.0  Residential 7 or more units  42.27764  -71.09706  \n",
       "306124          1985.0  Residential 7 or more units  42.27764  -71.09706  \n",
       "309521          1980.0  Residential 7 or more units  42.26341  -71.10223  \n",
       "\n",
       "[382 rows x 13 columns]"
      ]
     },
     "execution_count": 21,
     "metadata": {},
     "output_type": "execute_result"
    }
   ],
   "source": [
    "df.loc[df.owner.str.contains('GBM PORTFOLIO OWNER LLC') & (df.violation_type == 'Housing Complaints')]"
   ]
  },
  {
   "cell_type": "code",
   "execution_count": 55,
   "id": "e59bbca9-2264-4493-af1d-7cda6ee75d72",
   "metadata": {},
   "outputs": [
    {
     "data": {
      "text/html": [
       "<div>\n",
       "<style scoped>\n",
       "    .dataframe tbody tr th:only-of-type {\n",
       "        vertical-align: middle;\n",
       "    }\n",
       "\n",
       "    .dataframe tbody tr th {\n",
       "        vertical-align: top;\n",
       "    }\n",
       "\n",
       "    .dataframe thead th {\n",
       "        text-align: right;\n",
       "    }\n",
       "</style>\n",
       "<table border=\"1\" class=\"dataframe\">\n",
       "  <thead>\n",
       "    <tr style=\"text-align: right;\">\n",
       "      <th>property_type</th>\n",
       "      <th>Condominium Main*</th>\n",
       "      <th>Mixed Use (Res. and Comm.)</th>\n",
       "      <th>Residential 1-family</th>\n",
       "      <th>Residential 2-family</th>\n",
       "      <th>Residential 3-family</th>\n",
       "      <th>Residential 4 or more family</th>\n",
       "      <th>Residential 7 or more units</th>\n",
       "    </tr>\n",
       "    <tr>\n",
       "      <th>owner</th>\n",
       "      <th></th>\n",
       "      <th></th>\n",
       "      <th></th>\n",
       "      <th></th>\n",
       "      <th></th>\n",
       "      <th></th>\n",
       "      <th></th>\n",
       "    </tr>\n",
       "  </thead>\n",
       "  <tbody>\n",
       "    <tr>\n",
       "      <th>0NE-50 MAGNOLIA LLC</th>\n",
       "      <td>NaN</td>\n",
       "      <td>NaN</td>\n",
       "      <td>NaN</td>\n",
       "      <td>NaN</td>\n",
       "      <td>NaN</td>\n",
       "      <td>NaN</td>\n",
       "      <td>10.0</td>\n",
       "    </tr>\n",
       "    <tr>\n",
       "      <th>1  ARBORVITAES  LLC</th>\n",
       "      <td>NaN</td>\n",
       "      <td>NaN</td>\n",
       "      <td>NaN</td>\n",
       "      <td>NaN</td>\n",
       "      <td>15.0</td>\n",
       "      <td>NaN</td>\n",
       "      <td>NaN</td>\n",
       "    </tr>\n",
       "    <tr>\n",
       "      <th>1 ARBORVITAES LLC</th>\n",
       "      <td>NaN</td>\n",
       "      <td>NaN</td>\n",
       "      <td>6.0</td>\n",
       "      <td>NaN</td>\n",
       "      <td>NaN</td>\n",
       "      <td>NaN</td>\n",
       "      <td>NaN</td>\n",
       "    </tr>\n",
       "    <tr>\n",
       "      <th>1 ARION STREET LLC</th>\n",
       "      <td>NaN</td>\n",
       "      <td>NaN</td>\n",
       "      <td>NaN</td>\n",
       "      <td>NaN</td>\n",
       "      <td>5.0</td>\n",
       "      <td>NaN</td>\n",
       "      <td>NaN</td>\n",
       "    </tr>\n",
       "    <tr>\n",
       "      <th>1 ASPINWALL ROAD REALTY  TRUST</th>\n",
       "      <td>NaN</td>\n",
       "      <td>NaN</td>\n",
       "      <td>NaN</td>\n",
       "      <td>NaN</td>\n",
       "      <td>NaN</td>\n",
       "      <td>5.0</td>\n",
       "      <td>NaN</td>\n",
       "    </tr>\n",
       "    <tr>\n",
       "      <th>...</th>\n",
       "      <td>...</td>\n",
       "      <td>...</td>\n",
       "      <td>...</td>\n",
       "      <td>...</td>\n",
       "      <td>...</td>\n",
       "      <td>...</td>\n",
       "      <td>...</td>\n",
       "    </tr>\n",
       "    <tr>\n",
       "      <th>ZUREK ANDREW D GELLING</th>\n",
       "      <td>NaN</td>\n",
       "      <td>NaN</td>\n",
       "      <td>NaN</td>\n",
       "      <td>NaN</td>\n",
       "      <td>1.0</td>\n",
       "      <td>NaN</td>\n",
       "      <td>NaN</td>\n",
       "    </tr>\n",
       "    <tr>\n",
       "      <th>ZUROMSKIS CHRISTINE TS</th>\n",
       "      <td>NaN</td>\n",
       "      <td>NaN</td>\n",
       "      <td>NaN</td>\n",
       "      <td>NaN</td>\n",
       "      <td>NaN</td>\n",
       "      <td>29.0</td>\n",
       "      <td>NaN</td>\n",
       "    </tr>\n",
       "    <tr>\n",
       "      <th>ZUROMSKIS J MICHAEL TRST</th>\n",
       "      <td>NaN</td>\n",
       "      <td>38.0</td>\n",
       "      <td>NaN</td>\n",
       "      <td>NaN</td>\n",
       "      <td>NaN</td>\n",
       "      <td>NaN</td>\n",
       "      <td>NaN</td>\n",
       "    </tr>\n",
       "    <tr>\n",
       "      <th>ZVONAR ZORAN</th>\n",
       "      <td>NaN</td>\n",
       "      <td>NaN</td>\n",
       "      <td>NaN</td>\n",
       "      <td>2.0</td>\n",
       "      <td>NaN</td>\n",
       "      <td>NaN</td>\n",
       "      <td>NaN</td>\n",
       "    </tr>\n",
       "    <tr>\n",
       "      <th>ZYTO AURORE</th>\n",
       "      <td>NaN</td>\n",
       "      <td>NaN</td>\n",
       "      <td>NaN</td>\n",
       "      <td>1.0</td>\n",
       "      <td>NaN</td>\n",
       "      <td>NaN</td>\n",
       "      <td>NaN</td>\n",
       "    </tr>\n",
       "  </tbody>\n",
       "</table>\n",
       "<p>45470 rows × 7 columns</p>\n",
       "</div>"
      ],
      "text/plain": [
       "property_type                   Condominium Main*  Mixed Use (Res. and Comm.)  \\\n",
       "owner                                                                           \n",
       "0NE-50 MAGNOLIA LLC                           NaN                         NaN   \n",
       "1  ARBORVITAES  LLC                           NaN                         NaN   \n",
       "1 ARBORVITAES LLC                             NaN                         NaN   \n",
       "1 ARION STREET LLC                            NaN                         NaN   \n",
       "1 ASPINWALL ROAD REALTY  TRUST                NaN                         NaN   \n",
       "...                                           ...                         ...   \n",
       "ZUREK ANDREW D GELLING                        NaN                         NaN   \n",
       "ZUROMSKIS CHRISTINE TS                        NaN                         NaN   \n",
       "ZUROMSKIS J MICHAEL TRST                      NaN                        38.0   \n",
       "ZVONAR ZORAN                                  NaN                         NaN   \n",
       "ZYTO AURORE                                   NaN                         NaN   \n",
       "\n",
       "property_type                   Residential 1-family  Residential 2-family  \\\n",
       "owner                                                                        \n",
       "0NE-50 MAGNOLIA LLC                              NaN                   NaN   \n",
       "1  ARBORVITAES  LLC                              NaN                   NaN   \n",
       "1 ARBORVITAES LLC                                6.0                   NaN   \n",
       "1 ARION STREET LLC                               NaN                   NaN   \n",
       "1 ASPINWALL ROAD REALTY  TRUST                   NaN                   NaN   \n",
       "...                                              ...                   ...   \n",
       "ZUREK ANDREW D GELLING                           NaN                   NaN   \n",
       "ZUROMSKIS CHRISTINE TS                           NaN                   NaN   \n",
       "ZUROMSKIS J MICHAEL TRST                         NaN                   NaN   \n",
       "ZVONAR ZORAN                                     NaN                   2.0   \n",
       "ZYTO AURORE                                      NaN                   1.0   \n",
       "\n",
       "property_type                   Residential 3-family  \\\n",
       "owner                                                  \n",
       "0NE-50 MAGNOLIA LLC                              NaN   \n",
       "1  ARBORVITAES  LLC                             15.0   \n",
       "1 ARBORVITAES LLC                                NaN   \n",
       "1 ARION STREET LLC                               5.0   \n",
       "1 ASPINWALL ROAD REALTY  TRUST                   NaN   \n",
       "...                                              ...   \n",
       "ZUREK ANDREW D GELLING                           1.0   \n",
       "ZUROMSKIS CHRISTINE TS                           NaN   \n",
       "ZUROMSKIS J MICHAEL TRST                         NaN   \n",
       "ZVONAR ZORAN                                     NaN   \n",
       "ZYTO AURORE                                      NaN   \n",
       "\n",
       "property_type                   Residential 4 or more family  \\\n",
       "owner                                                          \n",
       "0NE-50 MAGNOLIA LLC                                      NaN   \n",
       "1  ARBORVITAES  LLC                                      NaN   \n",
       "1 ARBORVITAES LLC                                        NaN   \n",
       "1 ARION STREET LLC                                       NaN   \n",
       "1 ASPINWALL ROAD REALTY  TRUST                           5.0   \n",
       "...                                                      ...   \n",
       "ZUREK ANDREW D GELLING                                   NaN   \n",
       "ZUROMSKIS CHRISTINE TS                                  29.0   \n",
       "ZUROMSKIS J MICHAEL TRST                                 NaN   \n",
       "ZVONAR ZORAN                                             NaN   \n",
       "ZYTO AURORE                                              NaN   \n",
       "\n",
       "property_type                   Residential 7 or more units  \n",
       "owner                                                        \n",
       "0NE-50 MAGNOLIA LLC                                    10.0  \n",
       "1  ARBORVITAES  LLC                                     NaN  \n",
       "1 ARBORVITAES LLC                                       NaN  \n",
       "1 ARION STREET LLC                                      NaN  \n",
       "1 ASPINWALL ROAD REALTY  TRUST                          NaN  \n",
       "...                                                     ...  \n",
       "ZUREK ANDREW D GELLING                                  NaN  \n",
       "ZUROMSKIS CHRISTINE TS                                  NaN  \n",
       "ZUROMSKIS J MICHAEL TRST                                NaN  \n",
       "ZVONAR ZORAN                                            NaN  \n",
       "ZYTO AURORE                                             NaN  \n",
       "\n",
       "[45470 rows x 7 columns]"
      ]
     },
     "execution_count": 55,
     "metadata": {},
     "output_type": "execute_result"
    }
   ],
   "source": [
    "violations_byproptype_byowner = df.groupby(['owner','property_type']).date.count().unstack()\n",
    "violations_byproptype_byowner"
   ]
  },
  {
   "cell_type": "code",
   "execution_count": 66,
   "id": "84d43e5b-fdc9-491f-b42c-d0825d7ec9f1",
   "metadata": {},
   "outputs": [
    {
     "data": {
      "text/html": [
       "<div>\n",
       "<style scoped>\n",
       "    .dataframe tbody tr th:only-of-type {\n",
       "        vertical-align: middle;\n",
       "    }\n",
       "\n",
       "    .dataframe tbody tr th {\n",
       "        vertical-align: top;\n",
       "    }\n",
       "\n",
       "    .dataframe thead th {\n",
       "        text-align: right;\n",
       "    }\n",
       "</style>\n",
       "<table border=\"1\" class=\"dataframe\">\n",
       "  <thead>\n",
       "    <tr style=\"text-align: right;\">\n",
       "      <th>property_type</th>\n",
       "      <th>Condominium Main*</th>\n",
       "      <th>Mixed Use (Res. and Comm.)</th>\n",
       "      <th>Residential 1-family</th>\n",
       "      <th>Residential 2-family</th>\n",
       "      <th>Residential 3-family</th>\n",
       "      <th>Residential 4 or more family</th>\n",
       "      <th>Residential 7 or more units</th>\n",
       "    </tr>\n",
       "  </thead>\n",
       "  <tbody>\n",
       "    <tr>\n",
       "      <th>count</th>\n",
       "      <td>7742.000000</td>\n",
       "      <td>1802.000000</td>\n",
       "      <td>13355.000000</td>\n",
       "      <td>10824.000000</td>\n",
       "      <td>10028.000000</td>\n",
       "      <td>2016.000000</td>\n",
       "      <td>1363.000000</td>\n",
       "    </tr>\n",
       "    <tr>\n",
       "      <th>mean</th>\n",
       "      <td>7.608887</td>\n",
       "      <td>15.206992</td>\n",
       "      <td>3.148783</td>\n",
       "      <td>4.353289</td>\n",
       "      <td>7.424611</td>\n",
       "      <td>12.114583</td>\n",
       "      <td>25.969186</td>\n",
       "    </tr>\n",
       "    <tr>\n",
       "      <th>std</th>\n",
       "      <td>12.456739</td>\n",
       "      <td>22.584455</td>\n",
       "      <td>6.408323</td>\n",
       "      <td>7.547227</td>\n",
       "      <td>12.589078</td>\n",
       "      <td>14.912391</td>\n",
       "      <td>61.949856</td>\n",
       "    </tr>\n",
       "    <tr>\n",
       "      <th>min</th>\n",
       "      <td>1.000000</td>\n",
       "      <td>1.000000</td>\n",
       "      <td>1.000000</td>\n",
       "      <td>1.000000</td>\n",
       "      <td>1.000000</td>\n",
       "      <td>1.000000</td>\n",
       "      <td>1.000000</td>\n",
       "    </tr>\n",
       "    <tr>\n",
       "      <th>25%</th>\n",
       "      <td>2.000000</td>\n",
       "      <td>3.000000</td>\n",
       "      <td>1.000000</td>\n",
       "      <td>1.000000</td>\n",
       "      <td>2.000000</td>\n",
       "      <td>3.000000</td>\n",
       "      <td>6.000000</td>\n",
       "    </tr>\n",
       "    <tr>\n",
       "      <th>50%</th>\n",
       "      <td>4.000000</td>\n",
       "      <td>8.000000</td>\n",
       "      <td>2.000000</td>\n",
       "      <td>2.000000</td>\n",
       "      <td>4.000000</td>\n",
       "      <td>7.000000</td>\n",
       "      <td>14.000000</td>\n",
       "    </tr>\n",
       "    <tr>\n",
       "      <th>75%</th>\n",
       "      <td>9.000000</td>\n",
       "      <td>17.000000</td>\n",
       "      <td>3.000000</td>\n",
       "      <td>5.000000</td>\n",
       "      <td>8.000000</td>\n",
       "      <td>15.000000</td>\n",
       "      <td>29.000000</td>\n",
       "    </tr>\n",
       "    <tr>\n",
       "      <th>max</th>\n",
       "      <td>362.000000</td>\n",
       "      <td>246.000000</td>\n",
       "      <td>282.000000</td>\n",
       "      <td>244.000000</td>\n",
       "      <td>322.000000</td>\n",
       "      <td>163.000000</td>\n",
       "      <td>1911.000000</td>\n",
       "    </tr>\n",
       "  </tbody>\n",
       "</table>\n",
       "</div>"
      ],
      "text/plain": [
       "property_type  Condominium Main*  Mixed Use (Res. and Comm.)  \\\n",
       "count                7742.000000                 1802.000000   \n",
       "mean                    7.608887                   15.206992   \n",
       "std                    12.456739                   22.584455   \n",
       "min                     1.000000                    1.000000   \n",
       "25%                     2.000000                    3.000000   \n",
       "50%                     4.000000                    8.000000   \n",
       "75%                     9.000000                   17.000000   \n",
       "max                   362.000000                  246.000000   \n",
       "\n",
       "property_type  Residential 1-family  Residential 2-family  \\\n",
       "count                  13355.000000          10824.000000   \n",
       "mean                       3.148783              4.353289   \n",
       "std                        6.408323              7.547227   \n",
       "min                        1.000000              1.000000   \n",
       "25%                        1.000000              1.000000   \n",
       "50%                        2.000000              2.000000   \n",
       "75%                        3.000000              5.000000   \n",
       "max                      282.000000            244.000000   \n",
       "\n",
       "property_type  Residential 3-family  Residential 4 or more family  \\\n",
       "count                  10028.000000                   2016.000000   \n",
       "mean                       7.424611                     12.114583   \n",
       "std                       12.589078                     14.912391   \n",
       "min                        1.000000                      1.000000   \n",
       "25%                        2.000000                      3.000000   \n",
       "50%                        4.000000                      7.000000   \n",
       "75%                        8.000000                     15.000000   \n",
       "max                      322.000000                    163.000000   \n",
       "\n",
       "property_type  Residential 7 or more units  \n",
       "count                          1363.000000  \n",
       "mean                             25.969186  \n",
       "std                              61.949856  \n",
       "min                               1.000000  \n",
       "25%                               6.000000  \n",
       "50%                              14.000000  \n",
       "75%                              29.000000  \n",
       "max                            1911.000000  "
      ]
     },
     "execution_count": 66,
     "metadata": {},
     "output_type": "execute_result"
    }
   ],
   "source": [
    "violations_byproptype_byowner.describe()"
   ]
  },
  {
   "cell_type": "code",
   "execution_count": 176,
   "id": "c5685ac1-1e2c-4afc-8856-fccda32717b7",
   "metadata": {},
   "outputs": [
    {
     "data": {
      "image/png": "[encoded data removed]",
      "text/plain": [
       "<Figure size 432x288 with 1 Axes>"
      ]
     },
     "metadata": {
      "needs_background": "light"
     },
     "output_type": "display_data"
    }
   ],
   "source": [
    "# Is there association of building characteristics,geography and loc with num housing complaints (next, type of housing complaints)\n",
    "#next add month\n",
    "\n",
    "df.loc[df.violation_type == 'Housing Complaints',['violation_type','description','address','neighborhood','zip_code','parcel','owner','property_type']].groupby('parcel').violation_type.count().nlargest(10).plot.bar()\n",
    "plt.title('10 Parcels with Most Number of Housing Complaints')\n",
    "plt.ylabel('Number of Housing Complaints, 2016-present')\n",
    "plt.show()"
   ]
  },
  {
   "cell_type": "code",
   "execution_count": 93,
   "id": "473cc263-59bc-43fc-8ea9-7eee5e5a02bb",
   "metadata": {},
   "outputs": [
    {
     "data": {
      "image/png": "[encoded data removed]",
      "text/plain": [
       "<Figure size 432x288 with 1 Axes>"
      ]
     },
     "metadata": {
      "needs_background": "light"
     },
     "output_type": "display_data"
    }
   ],
   "source": [
    "df.loc[df.violation_type == 'Housing Complaints',['violation_type','description','address','neighborhood','zip_code','parcel','owner','property_type']].groupby('parcel').violation_type.count().hist(bins=50)\n",
    "plt.title('Histogram: Distribution of Housing Complaints by Parcels')\n",
    "plt.xlabel('Number of Housing Complaints')\n",
    "plt.ylabel('Freq (Number of Parcels)')\n",
    "plt.show()"
   ]
  },
  {
   "cell_type": "code",
   "execution_count": 95,
   "id": "f8f1a0fb-9b6e-4f43-92c6-698fd69a5b27",
   "metadata": {},
   "outputs": [
    {
     "name": "stdout",
     "output_type": "stream",
     "text": [
      "10 Parcels with the Most Housing Complaints\n"
     ]
    },
    {
     "data": {
      "text/plain": [
       "parcel\n",
       "801720000     133\n",
       "1200921000    121\n",
       "1812326000     86\n",
       "1303445000     85\n",
       "106318000      73\n",
       "303636000      71\n",
       "1202515000     66\n",
       "300470000      64\n",
       "1402922010     64\n",
       "903146010      63\n",
       "Name: violation_type, dtype: int64"
      ]
     },
     "execution_count": 95,
     "metadata": {},
     "output_type": "execute_result"
    }
   ],
   "source": [
    "print('10 Parcels with the Most Housing Complaints')\n",
    "df.loc[df.violation_type == 'Housing Complaints',['violation_type','description','address','neighborhood','zip_code','parcel','owner','property_type']].groupby('parcel').violation_type.count().nlargest(10)"
   ]
  },
  {
   "cell_type": "code",
   "execution_count": 25,
   "id": "ef2c0a78-72fc-4623-9605-22408ba97ba8",
   "metadata": {},
   "outputs": [],
   "source": [
    "# Don't have data on total number of properties of different property types, only those of at least one complaint\n",
    "# df.loc[df.violation_type == 'Housing Complaints',['violation_type','description','address','neighborhood','zip_code','parcel','owner','property_type']].groupby('property_type').violation_type.count().plot.bar()\n",
    "# plt.title('Number of Housing Complaints By Property Type')\n",
    "# plt.ylabel('Number of Housing Complaints, 2016-present')\n",
    "# plt.show()"
   ]
  },
  {
   "cell_type": "code",
   "execution_count": 26,
   "id": "f882b17c-30ad-46a7-8a89-262753b18604",
   "metadata": {},
   "outputs": [],
   "source": [
    "worst_parcels = set(list(df.loc[df.violation_type == 'Housing Complaints',['violation_type','description','address','neighborhood','zip_code','parcel','owner','property_type']].groupby('parcel').violation_type.count().nlargest(10).index))\n"
   ]
  },
  {
   "cell_type": "code",
   "execution_count": 27,
   "id": "39d38446-4aa4-49ca-b8bd-8bb581d691ab",
   "metadata": {},
   "outputs": [
    {
     "data": {
      "text/plain": [
       "NORTHAMPTON SQ CONDO ASSOC             133\n",
       "KASANOF LAND LLC                       121\n",
       "GEORGETOWNE HOMES ONE LLC MASS LLC      86\n",
       "HARBOR POINT APTS CO LESSEE             85\n",
       "MCKINLEY INVESTMENT GROUP  LLC          73\n",
       "MERCANTILE WHARF ASSOCIATES             71\n",
       "MILLER DWIGHT                           66\n",
       "CHARLES RIVER PARK D COMPANY            64\n",
       "TALBOT BERNARD HOUSING LLC MASS LLC     64\n",
       "DARTMOUTH HOTEL LP                      63\n",
       "Name: owner, dtype: int64"
      ]
     },
     "execution_count": 27,
     "metadata": {},
     "output_type": "execute_result"
    }
   ],
   "source": [
    "df.loc[(df.violation_type == 'Housing Complaints') & (df.parcel.isin(worst_parcels)) ].owner.value_counts()"
   ]
  },
  {
   "cell_type": "code",
   "execution_count": 28,
   "id": "9176b615-22a5-4d8b-99bc-abc154dbe295",
   "metadata": {},
   "outputs": [
    {
     "data": {
      "text/plain": [
       "Unsatisfactory Living Conditions                   228\n",
       "Heat - Excessive, Insufficient                      81\n",
       "Contractors Complaint                               57\n",
       "Pest Infestation - Residential                      52\n",
       "Chronic Dampness/Mold                               45\n",
       "Mice Infestation - Residential                      38\n",
       "Building Inspection Request                         34\n",
       "No Utilities Residential - Water                    33\n",
       "Unsafe Dangerous Conditions                         32\n",
       "Bed Bugs                                            31\n",
       "Maintenance Complaint - Residential                 30\n",
       "Unsatisfactory Utilities - Electrical, Plumbing     25\n",
       "Working Beyond Hours                                25\n",
       "Maintenance - Homeowner                             23\n",
       "Electrical                                          14\n",
       "Work w/out Permit                                   12\n",
       "Exceeding Terms of Permit                           10\n",
       "Poor Ventilation                                     9\n",
       "Egress                                               7\n",
       "No Utilities Residential - Electricity               7\n",
       "Protection of Adjoining Property                     6\n",
       "Rooftop & Mechanical Disturbances                    5\n",
       "Illegal Rooming House                                3\n",
       "Plumbing                                             3\n",
       "No Utilities Residential - Gas                       3\n",
       "Illegal Occupancy                                    2\n",
       "Overcrowding                                         2\n",
       "Cross Metering - Sub-Metering                        2\n",
       "Carbon Monoxide                                      2\n",
       "Sewage/Septic Back-Up                                1\n",
       "Zoning                                               1\n",
       "Squalid Living Conditions                            1\n",
       "Lead                                                 1\n",
       "Breathe Easy                                         1\n",
       "Name: description, dtype: int64"
      ]
     },
     "execution_count": 28,
     "metadata": {},
     "output_type": "execute_result"
    }
   ],
   "source": [
    "df.loc[(df.violation_type == 'Housing Complaints') & (df.parcel.isin(worst_parcels)) ].description.value_counts()"
   ]
  },
  {
   "cell_type": "code",
   "execution_count": 29,
   "id": "96abc1a1-b803-454f-ba1a-44e2a84709f3",
   "metadata": {},
   "outputs": [
    {
     "data": {
      "text/plain": [
       "Roxbury        317\n",
       "Dorchester     215\n",
       "Boston         135\n",
       "Hyde Park       86\n",
       "East Boston     73\n",
       "Name: neighborhood, dtype: int64"
      ]
     },
     "execution_count": 29,
     "metadata": {},
     "output_type": "execute_result"
    }
   ],
   "source": [
    "df.loc[(df.violation_type == 'Housing Complaints') & (df.parcel.isin(worst_parcels)) ].neighborhood.value_counts()"
   ]
  },
  {
   "cell_type": "code",
   "execution_count": 30,
   "id": "f9531ae4-24a4-4fd8-a102-d07ecac5550d",
   "metadata": {},
   "outputs": [
    {
     "data": {
      "text/plain": [
       "Mixed Use (Res. and Comm.)     490\n",
       "Condominium Main*              133\n",
       "Residential 1-family            73\n",
       "Residential 3-family            66\n",
       "Residential 7 or more units     64\n",
       "Name: property_type, dtype: int64"
      ]
     },
     "execution_count": 30,
     "metadata": {},
     "output_type": "execute_result"
    }
   ],
   "source": [
    "df.loc[(df.violation_type == 'Housing Complaints') & (df.parcel.isin(worst_parcels)) ].property_type.value_counts()"
   ]
  },
  {
   "cell_type": "code",
   "execution_count": null,
   "id": "ac801453-a50f-4b45-9aa8-4fb3be7da041",
   "metadata": {},
   "outputs": [],
   "source": []
  },
  {
   "cell_type": "code",
   "execution_count": 31,
   "id": "32ab9267-8fa7-4acc-9202-0764d544cf1a",
   "metadata": {},
   "outputs": [
    {
     "data": {
      "text/plain": [
       "30223     1  ARBORVITAES  LLC\n",
       "30769     1  ARBORVITAES  LLC\n",
       "45590     1  ARBORVITAES  LLC\n",
       "57163       1 ARBORVITAES LLC\n",
       "58658       1 ARBORVITAES LLC\n",
       "59331       1 ARBORVITAES LLC\n",
       "62962     1  ARBORVITAES  LLC\n",
       "62986     1  ARBORVITAES  LLC\n",
       "63434     1  ARBORVITAES  LLC\n",
       "67751     1  ARBORVITAES  LLC\n",
       "67753     1  ARBORVITAES  LLC\n",
       "104883    1  ARBORVITAES  LLC\n",
       "108504    1  ARBORVITAES  LLC\n",
       "114845    1  ARBORVITAES  LLC\n",
       "115670    1  ARBORVITAES  LLC\n",
       "128569    1  ARBORVITAES  LLC\n",
       "207715    1  ARBORVITAES  LLC\n",
       "251945    1  ARBORVITAES  LLC\n",
       "262176      1 ARBORVITAES LLC\n",
       "265600      1 ARBORVITAES LLC\n",
       "266905      1 ARBORVITAES LLC\n",
       "Name: owner, dtype: object"
      ]
     },
     "execution_count": 31,
     "metadata": {},
     "output_type": "execute_result"
    }
   ],
   "source": [
    "df.loc[df.owner.str.contains('ARBORVITAES')].owner"
   ]
  },
  {
   "cell_type": "code",
   "execution_count": 42,
   "id": "c248d13e-f771-43c9-82e4-f4966fb41d75",
   "metadata": {},
   "outputs": [],
   "source": [
    "vocab = set([tok for sent in df.owner.unique() for tok in sent.split()])"
   ]
  },
  {
   "cell_type": "code",
   "execution_count": 133,
   "id": "6a1e0387-2307-48b3-aaea-711bb878808e",
   "metadata": {},
   "outputs": [],
   "source": [
    "# vocab"
   ]
  },
  {
   "cell_type": "code",
   "execution_count": null,
   "id": "0871553e-d8b5-4a7c-b374-6eb3698a4a2a",
   "metadata": {},
   "outputs": [],
   "source": []
  }
 ],
 "metadata": {
  "kernelspec": {
   "display_name": "Python 3 (ipykernel)",
   "language": "python",
   "name": "python3"
  },
  "language_info": {
   "codemirror_mode": {
    "name": "ipython",
    "version": 3
   },
   "file_extension": ".py",
   "mimetype": "text/x-python",
   "name": "python",
   "nbconvert_exporter": "python",
   "pygments_lexer": "ipython3",
   "version": "3.9.7"
  }
 },
 "nbformat": 4,
 "nbformat_minor": 5
}
