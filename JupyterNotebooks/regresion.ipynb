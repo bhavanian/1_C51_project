{
 "cells": [
  {
   "cell_type": "code",
   "execution_count": 74,
   "id": "1aa5dde2-9367-497e-ba35-4020043ecfbe",
   "metadata": {},
   "outputs": [],
   "source": [
    "import pandas as pd\n",
    "import numpy as np\n",
    "from matplotlib import pyplot as plt\n",
    "import sklearn\n",
    "\n",
    "from sklearn import linear_model\n",
    "from sklearn.linear_model import LinearRegression\n",
    "from sklearn.linear_model import LogisticRegression\n",
    "from sklearn.preprocessing import StandardScaler\n",
    "from sklearn.decomposition import PCA\n",
    "\n",
    "import time\n",
    "\n"
   ]
  },
  {
   "cell_type": "code",
   "execution_count": 131,
   "id": "d58e7d54-a70f-4028-bc71-289c0a8ab514",
   "metadata": {},
   "outputs": [
    {
     "name": "stderr",
     "output_type": "stream",
     "text": [
      "/Users/bhavanian/myenvs/housing/lib/python3.8/site-packages/IPython/core/interactiveshell.py:3444: DtypeWarning: Columns (57,68,70) have mixed types.Specify dtype option on import or set low_memory=False.\n",
      "  exec(code_obj, self.user_global_ns, self.user_ns)\n"
     ]
    }
   ],
   "source": [
    "df = pd.read_csv('Index Rent Smart.csv',parse_dates=['date'],index_col=0)"
   ]
  },
  {
   "cell_type": "code",
   "execution_count": 132,
   "id": "ce30f103-a0d8-42de-b054-51cda21333ef",
   "metadata": {},
   "outputs": [
    {
     "data": {
      "text/plain": [
       "['date',\n",
       " 'violation_type',\n",
       " 'description',\n",
       " 'Description Category',\n",
       " 'Index',\n",
       " 'address',\n",
       " 'neighborhood',\n",
       " 'zip_code',\n",
       " 'parcel',\n",
       " 'owner',\n",
       " 'year built',\n",
       " 'year remodeled',\n",
       " 'property_type',\n",
       " 'latitude',\n",
       " 'longitude',\n",
       " 'st_num',\n",
       " 'st_name',\n",
       " 'st_name_suf',\n",
       " 'zipcode_str',\n",
       " 'id',\n",
       " 'pid_long',\n",
       " 'cm_id',\n",
       " 'building_typology',\n",
       " 'building_subtypology',\n",
       " 'use_class',\n",
       " 'sqft_class',\n",
       " 'year_built_class',\n",
       " 'unit_num',\n",
       " 'zipcode',\n",
       " 'yr_built',\n",
       " 'land_sf',\n",
       " 'gross_area',\n",
       " 'living_area',\n",
       " 'sqft',\n",
       " 'num_floors',\n",
       " 'num_bldgs',\n",
       " 'units_res',\n",
       " 'units_com',\n",
       " 'units_mixed',\n",
       " 'ptype',\n",
       " 'ptype_list',\n",
       " 'lu',\n",
       " 'lu_list',\n",
       " 'assessor_category',\n",
       " 'assessor_description',\n",
       " 'own_occ',\n",
       " 'own_occ_list',\n",
       " 'owner_list',\n",
       " 'structure_class',\n",
       " 'structure_class_list',\n",
       " 'bldg_styl',\n",
       " 'bldg_styl_list',\n",
       " 'r_roof_typ',\n",
       " 'ext_fin',\n",
       " 'ext_fin_list',\n",
       " 'ext_cond_list',\n",
       " 'insulation_type',\n",
       " 'foundation_type',\n",
       " 'heat_typ',\n",
       " 'heat_typ_list',\n",
       " 'heating_system_fuel',\n",
       " 'ac',\n",
       " 'ac_list',\n",
       " 'ac_system_type',\n",
       " 'hot_water_system_fuel',\n",
       " 'electric_panel_info',\n",
       " 'has_pv',\n",
       " 'existing_ashp',\n",
       " 'existing_gshp',\n",
       " 'existing_shw',\n",
       " 'historic_district',\n",
       " 'landmark',\n",
       " 'flood',\n",
       " 'stormwater',\n",
       " 'last_major_renovation_date',\n",
       " 'total_site_energy_kbtu',\n",
       " 'perc_electricity',\n",
       " 'perc_gas',\n",
       " 'perc_steam',\n",
       " 'onsite_renewable_kwh',\n",
       " 'census_tract_number',\n",
       " 'ct_pop_disability',\n",
       " 'ct_pop_children_under_5',\n",
       " 'ct_pop_over_65',\n",
       " 'ct_pop_low_to_no_income',\n",
       " 'ct_pop_limited_english_proficiency',\n",
       " 'ct_pop_poc',\n",
       " 'ct_pop_med_illness',\n",
       " 'ct_perc_disability',\n",
       " 'ct_perc_children_under_5',\n",
       " 'ct_perc_over_65',\n",
       " 'ct_perc_low_to_no_income',\n",
       " 'ct_perc_limited_english_proficiency',\n",
       " 'ct_perc_poc',\n",
       " 'ct_perc_med_illness',\n",
       " 'ct_hh_income_200000_or_more',\n",
       " 'ct_perc_income_200000_or_more',\n",
       " 'cashp_only',\n",
       " 'cashp_and_elec_upgrade',\n",
       " 'cashp_outdoor',\n",
       " 'dashp_only',\n",
       " 'dashp_and_elec_upgrade',\n",
       " 'dashp_outdoor',\n",
       " 'gshp_only',\n",
       " 'gshp_and_elec_upgrade',\n",
       " 'vrf_only',\n",
       " 'vrf_and_elec_upgrade',\n",
       " 'awhp_only',\n",
       " 'awhp_and_elec_upgrade',\n",
       " 'hp_recommendation_count',\n",
       " 'insulate_attic',\n",
       " 'insulate_attic_converted',\n",
       " 'ext_roof_insulation',\n",
       " 'insulate_exposed_ducts',\n",
       " 'insulate_exposed_pipes',\n",
       " 'interior_wall_insulation_blow_in',\n",
       " 'exterior_wall_insulation_at_replacement',\n",
       " 'exterior_wall_insulation',\n",
       " 'interior_wall_insulation_board',\n",
       " 'insulate_spandrel',\n",
       " 'asbestos',\n",
       " 'seal_elevator_vent_shafts',\n",
       " 'env_recommendation_count']"
      ]
     },
     "execution_count": 132,
     "metadata": {},
     "output_type": "execute_result"
    }
   ],
   "source": [
    "list(df)"
   ]
  },
  {
   "cell_type": "code",
   "execution_count": 133,
   "id": "69f027de-7ac6-4024-acf4-c96530797c55",
   "metadata": {},
   "outputs": [],
   "source": [
    "df_byaddress = df.drop(columns=['date','violation_type','description'])"
   ]
  },
  {
   "cell_type": "code",
   "execution_count": 134,
   "id": "9cea4fb6-0828-48b9-8128-7dbb0d59f20f",
   "metadata": {},
   "outputs": [],
   "source": [
    "df_byaddress = df_byaddress.groupby('address').mean()"
   ]
  },
  {
   "cell_type": "code",
   "execution_count": 135,
   "id": "e96e26e7-544a-4d1d-988c-82fcf7166f49",
   "metadata": {},
   "outputs": [],
   "source": [
    "df_byaddress = df_byaddress.rename(columns={'Index':'Severity'})"
   ]
  },
  {
   "cell_type": "code",
   "execution_count": 136,
   "id": "343fca5c-e698-45c9-839f-238341fbe9fc",
   "metadata": {},
   "outputs": [],
   "source": [
    "index_sum = df.groupby('address')['Index'].sum()"
   ]
  },
  {
   "cell_type": "code",
   "execution_count": 137,
   "id": "a0cdcb1f-de07-4c3c-b8b5-6dd5756762ef",
   "metadata": {},
   "outputs": [],
   "source": [
    "df_byaddress['Index_Sum'] = index_sum "
   ]
  },
  {
   "cell_type": "code",
   "execution_count": 138,
   "id": "22aff0d7-4265-489b-8c03-adadcfcc4a82",
   "metadata": {},
   "outputs": [],
   "source": [
    "oldest_complaint = df.groupby('address')['date'].min()"
   ]
  },
  {
   "cell_type": "code",
   "execution_count": 139,
   "id": "f4a95a3b-3eea-4668-9ce1-0e15ac1d7011",
   "metadata": {},
   "outputs": [],
   "source": [
    "newest_complaint = df.groupby('address')['date'].max()"
   ]
  },
  {
   "cell_type": "code",
   "execution_count": 140,
   "id": "3cb9fdca-0888-40e3-86b8-db97b79342ac",
   "metadata": {},
   "outputs": [],
   "source": [
    "df_byaddress['Timeframe'] = (newest_complaint - oldest_complaint)"
   ]
  },
  {
   "cell_type": "code",
   "execution_count": 141,
   "id": "23353a4a-3cd7-4076-bb4a-2a9506dae4ff",
   "metadata": {},
   "outputs": [],
   "source": [
    "df_byaddress['Frequency_of_Complaints'] = df_byaddress['Index_Sum'] / df_byaddress['Timeframe'].dt.days"
   ]
  },
  {
   "cell_type": "code",
   "execution_count": 142,
   "id": "1a63211c-699e-46ea-ae6e-af74605c8bb3",
   "metadata": {},
   "outputs": [
    {
     "data": {
      "text/html": [
       "<div>\n",
       "<style scoped>\n",
       "    .dataframe tbody tr th:only-of-type {\n",
       "        vertical-align: middle;\n",
       "    }\n",
       "\n",
       "    .dataframe tbody tr th {\n",
       "        vertical-align: top;\n",
       "    }\n",
       "\n",
       "    .dataframe thead th {\n",
       "        text-align: right;\n",
       "    }\n",
       "</style>\n",
       "<table border=\"1\" class=\"dataframe\">\n",
       "  <thead>\n",
       "    <tr style=\"text-align: right;\">\n",
       "      <th></th>\n",
       "      <th>Severity</th>\n",
       "      <th>zip_code</th>\n",
       "      <th>parcel</th>\n",
       "      <th>year built</th>\n",
       "      <th>year remodeled</th>\n",
       "      <th>latitude</th>\n",
       "      <th>longitude</th>\n",
       "      <th>st_num</th>\n",
       "      <th>zipcode_str</th>\n",
       "      <th>id</th>\n",
       "      <th>...</th>\n",
       "      <th>ct_perc_limited_english_proficiency</th>\n",
       "      <th>ct_perc_poc</th>\n",
       "      <th>ct_perc_med_illness</th>\n",
       "      <th>ct_hh_income_200000_or_more</th>\n",
       "      <th>ct_perc_income_200000_or_more</th>\n",
       "      <th>hp_recommendation_count</th>\n",
       "      <th>env_recommendation_count</th>\n",
       "      <th>Index_Sum</th>\n",
       "      <th>Timeframe</th>\n",
       "      <th>Frequency_of_Complaints</th>\n",
       "    </tr>\n",
       "    <tr>\n",
       "      <th>address</th>\n",
       "      <th></th>\n",
       "      <th></th>\n",
       "      <th></th>\n",
       "      <th></th>\n",
       "      <th></th>\n",
       "      <th></th>\n",
       "      <th></th>\n",
       "      <th></th>\n",
       "      <th></th>\n",
       "      <th></th>\n",
       "      <th></th>\n",
       "      <th></th>\n",
       "      <th></th>\n",
       "      <th></th>\n",
       "      <th></th>\n",
       "      <th></th>\n",
       "      <th></th>\n",
       "      <th></th>\n",
       "      <th></th>\n",
       "      <th></th>\n",
       "      <th></th>\n",
       "    </tr>\n",
       "  </thead>\n",
       "  <tbody>\n",
       "    <tr>\n",
       "      <th>1 Abbotsford St, 02121</th>\n",
       "      <td>5.000000</td>\n",
       "      <td>2121.0</td>\n",
       "      <td>1.203002e+09</td>\n",
       "      <td>1900.0</td>\n",
       "      <td>NaN</td>\n",
       "      <td>42.31465</td>\n",
       "      <td>-71.09318</td>\n",
       "      <td>1.0</td>\n",
       "      <td>2121.0</td>\n",
       "      <td>56579.0</td>\n",
       "      <td>...</td>\n",
       "      <td>45.361156</td>\n",
       "      <td>97.817014</td>\n",
       "      <td>37.262921</td>\n",
       "      <td>15.0</td>\n",
       "      <td>1.061571</td>\n",
       "      <td>0.0</td>\n",
       "      <td>3.0</td>\n",
       "      <td>10</td>\n",
       "      <td>413 days 00:00:00</td>\n",
       "      <td>0.024213</td>\n",
       "    </tr>\n",
       "    <tr>\n",
       "      <th>1 Acorn St, 02108</th>\n",
       "      <td>8.000000</td>\n",
       "      <td>2108.0</td>\n",
       "      <td>5.015300e+08</td>\n",
       "      <td>1829.0</td>\n",
       "      <td>NaN</td>\n",
       "      <td>42.35761</td>\n",
       "      <td>-71.06857</td>\n",
       "      <td>1.0</td>\n",
       "      <td>2108.0</td>\n",
       "      <td>23828.0</td>\n",
       "      <td>...</td>\n",
       "      <td>19.580253</td>\n",
       "      <td>9.802051</td>\n",
       "      <td>42.477701</td>\n",
       "      <td>711.0</td>\n",
       "      <td>26.284658</td>\n",
       "      <td>0.0</td>\n",
       "      <td>3.0</td>\n",
       "      <td>40</td>\n",
       "      <td>650 days 01:51:00</td>\n",
       "      <td>0.061538</td>\n",
       "    </tr>\n",
       "    <tr>\n",
       "      <th>1 Adams St, 02129</th>\n",
       "      <td>5.000000</td>\n",
       "      <td>2129.0</td>\n",
       "      <td>2.033730e+08</td>\n",
       "      <td>1857.0</td>\n",
       "      <td>1998.0</td>\n",
       "      <td>42.37484</td>\n",
       "      <td>-71.06004</td>\n",
       "      <td>1.0</td>\n",
       "      <td>2129.0</td>\n",
       "      <td>41541.0</td>\n",
       "      <td>...</td>\n",
       "      <td>23.247232</td>\n",
       "      <td>5.350554</td>\n",
       "      <td>42.309963</td>\n",
       "      <td>328.0</td>\n",
       "      <td>25.625000</td>\n",
       "      <td>1.0</td>\n",
       "      <td>3.0</td>\n",
       "      <td>5</td>\n",
       "      <td>0 days 00:00:00</td>\n",
       "      <td>inf</td>\n",
       "    </tr>\n",
       "    <tr>\n",
       "      <th>1 Akron Pl, 02119</th>\n",
       "      <td>5.000000</td>\n",
       "      <td>2119.0</td>\n",
       "      <td>1.201336e+09</td>\n",
       "      <td>1890.0</td>\n",
       "      <td>1999.0</td>\n",
       "      <td>42.32572</td>\n",
       "      <td>-71.08477</td>\n",
       "      <td>1.0</td>\n",
       "      <td>2119.0</td>\n",
       "      <td>24821.0</td>\n",
       "      <td>...</td>\n",
       "      <td>51.623037</td>\n",
       "      <td>98.062827</td>\n",
       "      <td>36.766230</td>\n",
       "      <td>43.0</td>\n",
       "      <td>2.694236</td>\n",
       "      <td>0.0</td>\n",
       "      <td>3.0</td>\n",
       "      <td>5</td>\n",
       "      <td>0 days 00:00:00</td>\n",
       "      <td>inf</td>\n",
       "    </tr>\n",
       "    <tr>\n",
       "      <th>1 Aldie St, 02134</th>\n",
       "      <td>5.000000</td>\n",
       "      <td>2134.0</td>\n",
       "      <td>2.201264e+09</td>\n",
       "      <td>1890.0</td>\n",
       "      <td>NaN</td>\n",
       "      <td>42.35913</td>\n",
       "      <td>-71.13683</td>\n",
       "      <td>1.0</td>\n",
       "      <td>2134.0</td>\n",
       "      <td>97404.0</td>\n",
       "      <td>...</td>\n",
       "      <td>44.260079</td>\n",
       "      <td>47.246804</td>\n",
       "      <td>36.923550</td>\n",
       "      <td>105.0</td>\n",
       "      <td>3.987847</td>\n",
       "      <td>1.0</td>\n",
       "      <td>4.0</td>\n",
       "      <td>35</td>\n",
       "      <td>1386 days 00:00:00</td>\n",
       "      <td>0.025253</td>\n",
       "    </tr>\n",
       "    <tr>\n",
       "      <th>...</th>\n",
       "      <td>...</td>\n",
       "      <td>...</td>\n",
       "      <td>...</td>\n",
       "      <td>...</td>\n",
       "      <td>...</td>\n",
       "      <td>...</td>\n",
       "      <td>...</td>\n",
       "      <td>...</td>\n",
       "      <td>...</td>\n",
       "      <td>...</td>\n",
       "      <td>...</td>\n",
       "      <td>...</td>\n",
       "      <td>...</td>\n",
       "      <td>...</td>\n",
       "      <td>...</td>\n",
       "      <td>...</td>\n",
       "      <td>...</td>\n",
       "      <td>...</td>\n",
       "      <td>...</td>\n",
       "      <td>...</td>\n",
       "      <td>...</td>\n",
       "    </tr>\n",
       "    <tr>\n",
       "      <th>994 River St, 02136</th>\n",
       "      <td>5.222222</td>\n",
       "      <td>2136.0</td>\n",
       "      <td>1.804421e+09</td>\n",
       "      <td>1925.0</td>\n",
       "      <td>2004.0</td>\n",
       "      <td>42.26072</td>\n",
       "      <td>-71.11465</td>\n",
       "      <td>994.0</td>\n",
       "      <td>2136.0</td>\n",
       "      <td>88274.0</td>\n",
       "      <td>...</td>\n",
       "      <td>37.245378</td>\n",
       "      <td>81.447822</td>\n",
       "      <td>38.872767</td>\n",
       "      <td>69.0</td>\n",
       "      <td>2.724043</td>\n",
       "      <td>0.0</td>\n",
       "      <td>0.0</td>\n",
       "      <td>47</td>\n",
       "      <td>1400 days 00:00:00</td>\n",
       "      <td>0.033571</td>\n",
       "    </tr>\n",
       "    <tr>\n",
       "      <th>995 Centre St, 02130</th>\n",
       "      <td>5.000000</td>\n",
       "      <td>2130.0</td>\n",
       "      <td>1.902502e+09</td>\n",
       "      <td>1984.0</td>\n",
       "      <td>NaN</td>\n",
       "      <td>42.30670</td>\n",
       "      <td>-71.12455</td>\n",
       "      <td>995.0</td>\n",
       "      <td>2130.0</td>\n",
       "      <td>42889.0</td>\n",
       "      <td>...</td>\n",
       "      <td>30.769231</td>\n",
       "      <td>22.667758</td>\n",
       "      <td>43.445172</td>\n",
       "      <td>274.0</td>\n",
       "      <td>28.631139</td>\n",
       "      <td>1.0</td>\n",
       "      <td>3.0</td>\n",
       "      <td>5</td>\n",
       "      <td>0 days 00:00:00</td>\n",
       "      <td>inf</td>\n",
       "    </tr>\n",
       "    <tr>\n",
       "      <th>996 South St, 02131</th>\n",
       "      <td>4.666667</td>\n",
       "      <td>2131.0</td>\n",
       "      <td>2.005587e+09</td>\n",
       "      <td>1907.0</td>\n",
       "      <td>NaN</td>\n",
       "      <td>42.28745</td>\n",
       "      <td>-71.13991</td>\n",
       "      <td>996.0</td>\n",
       "      <td>2131.0</td>\n",
       "      <td>25494.0</td>\n",
       "      <td>...</td>\n",
       "      <td>32.735868</td>\n",
       "      <td>19.539098</td>\n",
       "      <td>42.887532</td>\n",
       "      <td>266.0</td>\n",
       "      <td>11.955056</td>\n",
       "      <td>0.0</td>\n",
       "      <td>3.0</td>\n",
       "      <td>14</td>\n",
       "      <td>707 days 00:00:00</td>\n",
       "      <td>0.019802</td>\n",
       "    </tr>\n",
       "    <tr>\n",
       "      <th>998 Tremont St, 02120</th>\n",
       "      <td>5.769231</td>\n",
       "      <td>2120.0</td>\n",
       "      <td>9.019310e+08</td>\n",
       "      <td>1910.0</td>\n",
       "      <td>2014.0</td>\n",
       "      <td>42.33669</td>\n",
       "      <td>-71.08429</td>\n",
       "      <td>998.0</td>\n",
       "      <td>2120.0</td>\n",
       "      <td>40706.0</td>\n",
       "      <td>...</td>\n",
       "      <td>69.735142</td>\n",
       "      <td>92.474160</td>\n",
       "      <td>34.394057</td>\n",
       "      <td>21.0</td>\n",
       "      <td>1.561338</td>\n",
       "      <td>0.0</td>\n",
       "      <td>1.0</td>\n",
       "      <td>75</td>\n",
       "      <td>1150 days 00:00:00</td>\n",
       "      <td>0.065217</td>\n",
       "    </tr>\n",
       "    <tr>\n",
       "      <th>999 South St, 02131</th>\n",
       "      <td>4.000000</td>\n",
       "      <td>2131.0</td>\n",
       "      <td>2.004611e+09</td>\n",
       "      <td>1926.0</td>\n",
       "      <td>2012.0</td>\n",
       "      <td>42.28788</td>\n",
       "      <td>-71.14032</td>\n",
       "      <td>999.0</td>\n",
       "      <td>2131.0</td>\n",
       "      <td>56893.0</td>\n",
       "      <td>...</td>\n",
       "      <td>32.735868</td>\n",
       "      <td>19.539098</td>\n",
       "      <td>42.887532</td>\n",
       "      <td>266.0</td>\n",
       "      <td>11.955056</td>\n",
       "      <td>2.0</td>\n",
       "      <td>4.0</td>\n",
       "      <td>4</td>\n",
       "      <td>0 days 00:00:00</td>\n",
       "      <td>inf</td>\n",
       "    </tr>\n",
       "  </tbody>\n",
       "</table>\n",
       "<p>25560 rows × 54 columns</p>\n",
       "</div>"
      ],
      "text/plain": [
       "                        Severity  zip_code        parcel  year built  \\\n",
       "address                                                                \n",
       "1 Abbotsford St, 02121  5.000000    2121.0  1.203002e+09      1900.0   \n",
       "1 Acorn St, 02108       8.000000    2108.0  5.015300e+08      1829.0   \n",
       "1 Adams St, 02129       5.000000    2129.0  2.033730e+08      1857.0   \n",
       "1 Akron Pl, 02119       5.000000    2119.0  1.201336e+09      1890.0   \n",
       "1 Aldie St, 02134       5.000000    2134.0  2.201264e+09      1890.0   \n",
       "...                          ...       ...           ...         ...   \n",
       "994 River St, 02136     5.222222    2136.0  1.804421e+09      1925.0   \n",
       "995 Centre St, 02130    5.000000    2130.0  1.902502e+09      1984.0   \n",
       "996 South St, 02131     4.666667    2131.0  2.005587e+09      1907.0   \n",
       "998 Tremont St, 02120   5.769231    2120.0  9.019310e+08      1910.0   \n",
       "999 South St, 02131     4.000000    2131.0  2.004611e+09      1926.0   \n",
       "\n",
       "                        year remodeled  latitude  longitude  st_num  \\\n",
       "address                                                               \n",
       "1 Abbotsford St, 02121             NaN  42.31465  -71.09318     1.0   \n",
       "1 Acorn St, 02108                  NaN  42.35761  -71.06857     1.0   \n",
       "1 Adams St, 02129               1998.0  42.37484  -71.06004     1.0   \n",
       "1 Akron Pl, 02119               1999.0  42.32572  -71.08477     1.0   \n",
       "1 Aldie St, 02134                  NaN  42.35913  -71.13683     1.0   \n",
       "...                                ...       ...        ...     ...   \n",
       "994 River St, 02136             2004.0  42.26072  -71.11465   994.0   \n",
       "995 Centre St, 02130               NaN  42.30670  -71.12455   995.0   \n",
       "996 South St, 02131                NaN  42.28745  -71.13991   996.0   \n",
       "998 Tremont St, 02120           2014.0  42.33669  -71.08429   998.0   \n",
       "999 South St, 02131             2012.0  42.28788  -71.14032   999.0   \n",
       "\n",
       "                        zipcode_str       id  ...  \\\n",
       "address                                       ...   \n",
       "1 Abbotsford St, 02121       2121.0  56579.0  ...   \n",
       "1 Acorn St, 02108            2108.0  23828.0  ...   \n",
       "1 Adams St, 02129            2129.0  41541.0  ...   \n",
       "1 Akron Pl, 02119            2119.0  24821.0  ...   \n",
       "1 Aldie St, 02134            2134.0  97404.0  ...   \n",
       "...                             ...      ...  ...   \n",
       "994 River St, 02136          2136.0  88274.0  ...   \n",
       "995 Centre St, 02130         2130.0  42889.0  ...   \n",
       "996 South St, 02131          2131.0  25494.0  ...   \n",
       "998 Tremont St, 02120        2120.0  40706.0  ...   \n",
       "999 South St, 02131          2131.0  56893.0  ...   \n",
       "\n",
       "                        ct_perc_limited_english_proficiency  ct_perc_poc  \\\n",
       "address                                                                    \n",
       "1 Abbotsford St, 02121                            45.361156    97.817014   \n",
       "1 Acorn St, 02108                                 19.580253     9.802051   \n",
       "1 Adams St, 02129                                 23.247232     5.350554   \n",
       "1 Akron Pl, 02119                                 51.623037    98.062827   \n",
       "1 Aldie St, 02134                                 44.260079    47.246804   \n",
       "...                                                     ...          ...   \n",
       "994 River St, 02136                               37.245378    81.447822   \n",
       "995 Centre St, 02130                              30.769231    22.667758   \n",
       "996 South St, 02131                               32.735868    19.539098   \n",
       "998 Tremont St, 02120                             69.735142    92.474160   \n",
       "999 South St, 02131                               32.735868    19.539098   \n",
       "\n",
       "                        ct_perc_med_illness  ct_hh_income_200000_or_more  \\\n",
       "address                                                                    \n",
       "1 Abbotsford St, 02121            37.262921                         15.0   \n",
       "1 Acorn St, 02108                 42.477701                        711.0   \n",
       "1 Adams St, 02129                 42.309963                        328.0   \n",
       "1 Akron Pl, 02119                 36.766230                         43.0   \n",
       "1 Aldie St, 02134                 36.923550                        105.0   \n",
       "...                                     ...                          ...   \n",
       "994 River St, 02136               38.872767                         69.0   \n",
       "995 Centre St, 02130              43.445172                        274.0   \n",
       "996 South St, 02131               42.887532                        266.0   \n",
       "998 Tremont St, 02120             34.394057                         21.0   \n",
       "999 South St, 02131               42.887532                        266.0   \n",
       "\n",
       "                        ct_perc_income_200000_or_more  \\\n",
       "address                                                 \n",
       "1 Abbotsford St, 02121                       1.061571   \n",
       "1 Acorn St, 02108                           26.284658   \n",
       "1 Adams St, 02129                           25.625000   \n",
       "1 Akron Pl, 02119                            2.694236   \n",
       "1 Aldie St, 02134                            3.987847   \n",
       "...                                               ...   \n",
       "994 River St, 02136                          2.724043   \n",
       "995 Centre St, 02130                        28.631139   \n",
       "996 South St, 02131                         11.955056   \n",
       "998 Tremont St, 02120                        1.561338   \n",
       "999 South St, 02131                         11.955056   \n",
       "\n",
       "                        hp_recommendation_count  env_recommendation_count  \\\n",
       "address                                                                     \n",
       "1 Abbotsford St, 02121                      0.0                       3.0   \n",
       "1 Acorn St, 02108                           0.0                       3.0   \n",
       "1 Adams St, 02129                           1.0                       3.0   \n",
       "1 Akron Pl, 02119                           0.0                       3.0   \n",
       "1 Aldie St, 02134                           1.0                       4.0   \n",
       "...                                         ...                       ...   \n",
       "994 River St, 02136                         0.0                       0.0   \n",
       "995 Centre St, 02130                        1.0                       3.0   \n",
       "996 South St, 02131                         0.0                       3.0   \n",
       "998 Tremont St, 02120                       0.0                       1.0   \n",
       "999 South St, 02131                         2.0                       4.0   \n",
       "\n",
       "                        Index_Sum          Timeframe  Frequency_of_Complaints  \n",
       "address                                                                        \n",
       "1 Abbotsford St, 02121         10  413 days 00:00:00                 0.024213  \n",
       "1 Acorn St, 02108              40  650 days 01:51:00                 0.061538  \n",
       "1 Adams St, 02129               5    0 days 00:00:00                      inf  \n",
       "1 Akron Pl, 02119               5    0 days 00:00:00                      inf  \n",
       "1 Aldie St, 02134              35 1386 days 00:00:00                 0.025253  \n",
       "...                           ...                ...                      ...  \n",
       "994 River St, 02136            47 1400 days 00:00:00                 0.033571  \n",
       "995 Centre St, 02130            5    0 days 00:00:00                      inf  \n",
       "996 South St, 02131            14  707 days 00:00:00                 0.019802  \n",
       "998 Tremont St, 02120          75 1150 days 00:00:00                 0.065217  \n",
       "999 South St, 02131             4    0 days 00:00:00                      inf  \n",
       "\n",
       "[25560 rows x 54 columns]"
      ]
     },
     "execution_count": 142,
     "metadata": {},
     "output_type": "execute_result"
    }
   ],
   "source": [
    "df_byaddress"
   ]
  },
  {
   "cell_type": "code",
   "execution_count": 143,
   "id": "6fbc4c7a-3788-4897-950e-20b691154f65",
   "metadata": {},
   "outputs": [
    {
     "data": {
      "text/plain": [
       "['Severity',\n",
       " 'zip_code',\n",
       " 'parcel',\n",
       " 'year built',\n",
       " 'year remodeled',\n",
       " 'latitude',\n",
       " 'longitude',\n",
       " 'st_num',\n",
       " 'zipcode_str',\n",
       " 'id',\n",
       " 'pid_long',\n",
       " 'cm_id',\n",
       " 'unit_num',\n",
       " 'zipcode',\n",
       " 'yr_built',\n",
       " 'land_sf',\n",
       " 'gross_area',\n",
       " 'living_area',\n",
       " 'sqft',\n",
       " 'num_floors',\n",
       " 'num_bldgs',\n",
       " 'units_res',\n",
       " 'units_com',\n",
       " 'units_mixed',\n",
       " 'ptype',\n",
       " 'ptype_list',\n",
       " 'existing_gshp',\n",
       " 'total_site_energy_kbtu',\n",
       " 'perc_electricity',\n",
       " 'perc_gas',\n",
       " 'perc_steam',\n",
       " 'onsite_renewable_kwh',\n",
       " 'census_tract_number',\n",
       " 'ct_pop_disability',\n",
       " 'ct_pop_children_under_5',\n",
       " 'ct_pop_over_65',\n",
       " 'ct_pop_low_to_no_income',\n",
       " 'ct_pop_limited_english_proficiency',\n",
       " 'ct_pop_poc',\n",
       " 'ct_pop_med_illness',\n",
       " 'ct_perc_disability',\n",
       " 'ct_perc_children_under_5',\n",
       " 'ct_perc_over_65',\n",
       " 'ct_perc_low_to_no_income',\n",
       " 'ct_perc_limited_english_proficiency',\n",
       " 'ct_perc_poc',\n",
       " 'ct_perc_med_illness',\n",
       " 'ct_hh_income_200000_or_more',\n",
       " 'ct_perc_income_200000_or_more',\n",
       " 'hp_recommendation_count',\n",
       " 'env_recommendation_count',\n",
       " 'Index_Sum',\n",
       " 'Timeframe',\n",
       " 'Frequency_of_Complaints']"
      ]
     },
     "execution_count": 143,
     "metadata": {},
     "output_type": "execute_result"
    }
   ],
   "source": [
    "list(df_byaddress)"
   ]
  },
  {
   "cell_type": "code",
   "execution_count": 144,
   "id": "4e06cc01-7d94-47cb-9c2d-1925206d627a",
   "metadata": {},
   "outputs": [
    {
     "data": {
      "text/plain": [
       "address\n",
       "1 Abbotsford St, 02121   NaN\n",
       "1 Acorn St, 02108        NaN\n",
       "1 Adams St, 02129        NaN\n",
       "1 Akron Pl, 02119        NaN\n",
       "1 Aldie St, 02134        NaN\n",
       "                          ..\n",
       "994 River St, 02136      NaN\n",
       "995 Centre St, 02130     NaN\n",
       "996 South St, 02131      NaN\n",
       "998 Tremont St, 02120    NaN\n",
       "999 South St, 02131      NaN\n",
       "Name: existing_gshp, Length: 25560, dtype: float64"
      ]
     },
     "execution_count": 144,
     "metadata": {},
     "output_type": "execute_result"
    }
   ],
   "source": [
    "df_byaddress['existing_gshp']"
   ]
  },
  {
   "cell_type": "code",
   "execution_count": 145,
   "id": "714ff77e-0a09-4c80-b33a-741ab91b82cd",
   "metadata": {},
   "outputs": [
    {
     "data": {
      "text/plain": [
       "(57,)"
      ]
     },
     "execution_count": 145,
     "metadata": {},
     "output_type": "execute_result"
    }
   ],
   "source": [
    "df_byaddress['total_site_energy_kbtu'].dropna().shape"
   ]
  },
  {
   "cell_type": "code",
   "execution_count": 146,
   "id": "6552c85a-ef23-415b-abcb-4e204679e32c",
   "metadata": {},
   "outputs": [
    {
     "data": {
      "text/plain": [
       "year built                             25482\n",
       "land_sf                                25558\n",
       "gross_area                             25543\n",
       "living_area                            25543\n",
       "sqft                                   25502\n",
       "num_floors                             25394\n",
       "num_bldgs                              25560\n",
       "units_res                              24662\n",
       "units_com                                 48\n",
       "units_mixed                                5\n",
       "total_site_energy_kbtu                    57\n",
       "ct_perc_disability                     25554\n",
       "ct_perc_children_under_5               25554\n",
       "ct_perc_over_65                        25554\n",
       "ct_perc_low_to_no_income               25554\n",
       "ct_perc_limited_english_proficiency    25554\n",
       "ct_perc_poc                            25554\n",
       "ct_perc_med_illness                    25554\n",
       "ct_perc_income_200000_or_more          25554\n",
       "Severity                               25560\n",
       "dtype: int64"
      ]
     },
     "execution_count": 146,
     "metadata": {},
     "output_type": "execute_result"
    }
   ],
   "source": [
    "df_byaddress[[\n",
    "    'year built',\n",
    "'land_sf',\n",
    "'gross_area',\n",
    "'living_area',\n",
    "'sqft',\n",
    "'num_floors',\n",
    "'num_bldgs',\n",
    "'units_res',\n",
    "'units_com',\n",
    "'units_mixed',\n",
    "'total_site_energy_kbtu',\n",
    "'ct_perc_disability',\n",
    " 'ct_perc_children_under_5',\n",
    " 'ct_perc_over_65',\n",
    " 'ct_perc_low_to_no_income',\n",
    " 'ct_perc_limited_english_proficiency',\n",
    " 'ct_perc_poc',\n",
    " 'ct_perc_med_illness',\n",
    "'ct_perc_income_200000_or_more','Severity']].count()"
   ]
  },
  {
   "cell_type": "code",
   "execution_count": 148,
   "id": "9e906857-5014-40b2-aa98-31dd9a00d586",
   "metadata": {},
   "outputs": [],
   "source": [
    "df_byaddress = df_byaddress[[\n",
    "    'year built',\n",
    "'land_sf',\n",
    "'gross_area',\n",
    "'living_area',\n",
    "'sqft',\n",
    "'num_floors',\n",
    "'num_bldgs',\n",
    "'units_res',\n",
    "# 'units_com',\n",
    "# 'units_mixed',\n",
    "# 'total_site_energy_kbtu',\n",
    "'ct_perc_disability',\n",
    " 'ct_perc_children_under_5',\n",
    " 'ct_perc_over_65',\n",
    " 'ct_perc_low_to_no_income',\n",
    " 'ct_perc_limited_english_proficiency',\n",
    " 'ct_perc_poc',\n",
    " 'ct_perc_med_illness',\n",
    "'ct_perc_income_200000_or_more','Severity','Index_Sum','Frequency_of_Complaints']].replace([np.inf, -np.inf], np.nan)\n"
   ]
  },
  {
   "cell_type": "code",
   "execution_count": 149,
   "id": "65d3af1f-75d5-4c88-909b-686f0d7f1bf7",
   "metadata": {},
   "outputs": [],
   "source": [
    "setup_1 = df_byaddress.dropna()"
   ]
  },
  {
   "cell_type": "code",
   "execution_count": 150,
   "id": "1b079cc9-f104-4653-848b-51a7570cd860",
   "metadata": {},
   "outputs": [
    {
     "data": {
      "text/plain": [
       "(15848, 19)"
      ]
     },
     "execution_count": 150,
     "metadata": {},
     "output_type": "execute_result"
    }
   ],
   "source": [
    "setup_1.shape"
   ]
  },
  {
   "cell_type": "code",
   "execution_count": 151,
   "id": "f13592af-ec92-430c-812d-ecfcc73c1f29",
   "metadata": {},
   "outputs": [],
   "source": [
    "X = setup_1.drop(columns=['Severity','Index_Sum','Frequency_of_Complaints']).to_numpy()"
   ]
  },
  {
   "cell_type": "code",
   "execution_count": 152,
   "id": "0fd20d28-d964-4dc4-a1b2-7aad6b4de88f",
   "metadata": {},
   "outputs": [],
   "source": [
    "y = setup_1['Severity'].to_numpy().reshape(-1, 1)"
   ]
  },
  {
   "cell_type": "code",
   "execution_count": 153,
   "id": "1ad0c9f6-c6b5-4fb5-ba1f-f71d457f6a5f",
   "metadata": {},
   "outputs": [],
   "source": [
    "scaler = StandardScaler().fit(X)\n",
    "#reassign X_train/ X_test to be the tranformed version of itself\n",
    "X = scaler.transform(X)"
   ]
  },
  {
   "cell_type": "code",
   "execution_count": 154,
   "id": "24dcad17-3c1f-4025-8ce4-1321f3347e07",
   "metadata": {},
   "outputs": [],
   "source": [
    "scaler_y = StandardScaler().fit(y)\n",
    "y = scaler_y.transform(y)"
   ]
  },
  {
   "cell_type": "code",
   "execution_count": 155,
   "id": "b8b21962-8caa-4035-bc3f-21f5d6ffb61e",
   "metadata": {},
   "outputs": [],
   "source": [
    "model1 = LinearRegression().fit(X,y)"
   ]
  },
  {
   "cell_type": "code",
   "execution_count": 196,
   "id": "c6dfecfc-f21e-4300-84f3-59976027698b",
   "metadata": {},
   "outputs": [
    {
     "data": {
      "text/plain": [
       "array([[2.31593535e-02, 1.44996319e-03, 1.21016519e-01, 4.74364096e-01,\n",
       "        3.37749690e-01, 5.53444890e-02, 1.20276240e+00, 4.14474691e-03,\n",
       "        1.36234119e-02, 4.87822962e-02, 9.10978164e+06, 3.16679159e+07,\n",
       "        3.07081293e+07, 3.23054018e-02, 5.52868410e-05, 1.38910089e-02]])"
      ]
     },
     "execution_count": 196,
     "metadata": {},
     "output_type": "execute_result"
    }
   ],
   "source": [
    "abs(model1.coef_)"
   ]
  },
  {
   "cell_type": "code",
   "execution_count": 190,
   "id": "3e3b8dfd-7d9c-4756-b7bf-ce5d4b75a4f7",
   "metadata": {},
   "outputs": [
    {
     "data": {
      "text/plain": [
       "(16,)"
      ]
     },
     "execution_count": 190,
     "metadata": {},
     "output_type": "execute_result"
    }
   ],
   "source": [
    "setup_1.drop(columns=['Severity','Index_Sum','Frequency_of_Complaints']).columns.shape"
   ]
  },
  {
   "cell_type": "code",
   "execution_count": 187,
   "id": "dabb7ded-4511-4703-9abe-3c1ed9e2c379",
   "metadata": {},
   "outputs": [
    {
     "data": {
      "text/plain": [
       "(16, 1)"
      ]
     },
     "execution_count": 187,
     "metadata": {},
     "output_type": "execute_result"
    }
   ],
   "source": [
    "model1.coef_.T.shape"
   ]
  },
  {
   "cell_type": "code",
   "execution_count": 198,
   "id": "bd49e687-798a-43bc-a674-e8b43018022d",
   "metadata": {},
   "outputs": [
    {
     "data": {
      "text/plain": [
       "[1, 2, 3, 4, 5, 6, 7, 8, 9, 10, 11, 12, 13, 14, 15, 16]"
      ]
     },
     "execution_count": 198,
     "metadata": {},
     "output_type": "execute_result"
    }
   ],
   "source": [
    "list(range(1,16+1))"
   ]
  },
  {
   "cell_type": "code",
   "execution_count": 207,
   "id": "1119a82b-b42c-4a7a-9fee-cf91dc157378",
   "metadata": {},
   "outputs": [
    {
     "data": {
      "image/png": "[encoded data removed]",
      "text/plain": [
       "<Figure size 432x288 with 1 Axes>"
      ]
     },
     "metadata": {
      "needs_background": "light"
     },
     "output_type": "display_data"
    }
   ],
   "source": [
    "plt.barh(y=list(range(1,16+1)),width=abs(model1.coef_[0]).tolist(),tick_label=setup_1.drop(columns=['Severity','Index_Sum','Frequency_of_Complaints']).columns)\n",
    "plt.show()\n",
    "# setup_1.drop(columns=['Severity','Index_Sum','Frequency_of_Complaints']).columns"
   ]
  },
  {
   "cell_type": "code",
   "execution_count": 157,
   "id": "14af72de-aa15-4b7e-99aa-959496a89da7",
   "metadata": {},
   "outputs": [
    {
     "data": {
      "text/plain": [
       "0.007076664069837424"
      ]
     },
     "execution_count": 157,
     "metadata": {},
     "output_type": "execute_result"
    }
   ],
   "source": [
    "model1.score(X,y)"
   ]
  },
  {
   "cell_type": "code",
   "execution_count": 158,
   "id": "6b92b813-5597-4b1f-acb1-42c40312dbd6",
   "metadata": {},
   "outputs": [],
   "source": [
    "y = setup_1['Index_Sum'].to_numpy().reshape(-1, 1)"
   ]
  },
  {
   "cell_type": "code",
   "execution_count": 159,
   "id": "2e34613e-fa0f-4544-ba28-5560e3506d32",
   "metadata": {},
   "outputs": [],
   "source": [
    "scaler_y = StandardScaler().fit(y)\n",
    "y = scaler_y.transform(y)"
   ]
  },
  {
   "cell_type": "code",
   "execution_count": 160,
   "id": "f6ede2c4-ce78-4274-8c99-131942d5caed",
   "metadata": {},
   "outputs": [],
   "source": [
    "model2 = LinearRegression().fit(X,y)"
   ]
  },
  {
   "cell_type": "code",
   "execution_count": 161,
   "id": "9d8ad6fa-9132-43a2-b930-fd495223b88b",
   "metadata": {},
   "outputs": [
    {
     "data": {
      "text/plain": [
       "array([[ 1.19500857e-02,  1.87971280e-02,  2.05427739e-01,\n",
       "        -5.58432772e-01,  2.53116880e-01,  2.07833938e-01,\n",
       "         4.01103875e+00,  9.42874148e-02, -3.95277448e-02,\n",
       "        -9.36652935e-02,  3.03798050e+07,  1.05607922e+08,\n",
       "        -1.02407173e+08,  1.72469647e-02,  2.30124402e-02,\n",
       "        -2.89201974e-02]])"
      ]
     },
     "execution_count": 161,
     "metadata": {},
     "output_type": "execute_result"
    }
   ],
   "source": [
    "model2.coef_"
   ]
  },
  {
   "cell_type": "code",
   "execution_count": 162,
   "id": "296907cf-df3a-4acd-ada4-987625e5b80f",
   "metadata": {},
   "outputs": [
    {
     "data": {
      "text/plain": [
       "0.07019662313862074"
      ]
     },
     "execution_count": 162,
     "metadata": {},
     "output_type": "execute_result"
    }
   ],
   "source": [
    "model2.score(X,y)"
   ]
  },
  {
   "cell_type": "code",
   "execution_count": 163,
   "id": "b3eb1051-a1ad-4cd7-a9c8-07188edd941c",
   "metadata": {},
   "outputs": [],
   "source": [
    "y = setup_1['Frequency_of_Complaints'].to_numpy().reshape(-1, 1)"
   ]
  },
  {
   "cell_type": "code",
   "execution_count": 164,
   "id": "2ed46aad-aa10-4c7d-ad35-4dbe2f28de90",
   "metadata": {},
   "outputs": [],
   "source": [
    "scaler_y = StandardScaler().fit(y)\n",
    "y = scaler_y.transform(y)"
   ]
  },
  {
   "cell_type": "code",
   "execution_count": 165,
   "id": "ad0f0992-a8d7-4610-8763-209385b01d14",
   "metadata": {},
   "outputs": [],
   "source": [
    "model1 = LinearRegression().fit(X,y)"
   ]
  },
  {
   "cell_type": "code",
   "execution_count": 166,
   "id": "100e4e8e-45b5-4b46-9efb-f3e6ed23519c",
   "metadata": {},
   "outputs": [
    {
     "data": {
      "text/plain": [
       "array([[ 2.31593535e-02,  1.44996319e-03, -1.21016519e-01,\n",
       "         4.74364096e-01, -3.37749690e-01, -5.53444890e-02,\n",
       "        -1.20276240e+00, -4.14474691e-03, -1.36234119e-02,\n",
       "         4.87822962e-02, -9.10978164e+06, -3.16679159e+07,\n",
       "         3.07081293e+07, -3.23054018e-02, -5.52868410e-05,\n",
       "        -1.38910089e-02]])"
      ]
     },
     "execution_count": 166,
     "metadata": {},
     "output_type": "execute_result"
    }
   ],
   "source": [
    "model1.coef_"
   ]
  },
  {
   "cell_type": "code",
   "execution_count": 167,
   "id": "be4503d6-7b36-416a-b8f6-33a50fccaa04",
   "metadata": {},
   "outputs": [
    {
     "data": {
      "text/plain": [
       "0.006110334623749769"
      ]
     },
     "execution_count": 167,
     "metadata": {},
     "output_type": "execute_result"
    }
   ],
   "source": [
    "model1.score(X,y)"
   ]
  },
  {
   "cell_type": "markdown",
   "id": "860401f0-4164-465a-b831-6f7ef6f7fcbf",
   "metadata": {
    "tags": []
   },
   "source": [
    "### Feature Encoding"
   ]
  },
  {
   "cell_type": "code",
   "execution_count": 215,
   "id": "23d23bf8-ee79-4890-881f-19deb76ddbca",
   "metadata": {},
   "outputs": [],
   "source": [
    "X = setup_1.drop(columns=['Severity','Index_Sum','Frequency_of_Complaints']).to_numpy()"
   ]
  },
  {
   "cell_type": "code",
   "execution_count": 216,
   "id": "7b28614f-4171-40c3-94f4-ec195a3678a1",
   "metadata": {},
   "outputs": [],
   "source": [
    "y = setup_1['Severity'].to_numpy().reshape(-1, 1)"
   ]
  },
  {
   "cell_type": "code",
   "execution_count": 217,
   "id": "b602d1ea-5c64-494e-b958-e681b0f7414f",
   "metadata": {},
   "outputs": [],
   "source": [
    "scaler = StandardScaler().fit(X)\n",
    "#reassign X_train/ X_test to be the tranformed version of itself\n",
    "X = scaler.transform(X)"
   ]
  },
  {
   "cell_type": "code",
   "execution_count": 218,
   "id": "4eed3593-632e-44ab-a1ad-33e87f6b5ecf",
   "metadata": {},
   "outputs": [],
   "source": [
    "scaler_y = StandardScaler().fit(y)\n",
    "y = scaler_y.transform(y)"
   ]
  },
  {
   "cell_type": "code",
   "execution_count": 219,
   "id": "5b15be58-3523-436d-895e-4c28ba99566c",
   "metadata": {},
   "outputs": [
    {
     "data": {
      "text/plain": [
       "(15848, 1)"
      ]
     },
     "execution_count": 219,
     "metadata": {},
     "output_type": "execute_result"
    }
   ],
   "source": [
    "y.shape"
   ]
  },
  {
   "cell_type": "code",
   "execution_count": 221,
   "id": "f2109dc1-7b85-42e3-8252-809f39434036",
   "metadata": {},
   "outputs": [
    {
     "data": {
      "text/plain": [
       "(15848, 16)"
      ]
     },
     "execution_count": 221,
     "metadata": {},
     "output_type": "execute_result"
    }
   ],
   "source": [
    "X.shape"
   ]
  },
  {
   "cell_type": "code",
   "execution_count": 222,
   "id": "4da7669d-f6da-4325-ae2a-20beb863f10e",
   "metadata": {},
   "outputs": [],
   "source": [
    "feats = setup_1.drop(columns=['Severity','Index_Sum','Frequency_of_Complaints']).columns"
   ]
  },
  {
   "cell_type": "code",
   "execution_count": 229,
   "id": "06c806ab-7ba0-498d-92ea-52eb4784babe",
   "metadata": {},
   "outputs": [
    {
     "data": {
      "text/plain": [
       "Index(['year built', 'land_sf', 'gross_area', 'living_area', 'sqft',\n",
       "       'num_floors', 'num_bldgs', 'units_res', 'ct_perc_disability',\n",
       "       'ct_perc_children_under_5', 'ct_perc_over_65',\n",
       "       'ct_perc_low_to_no_income', 'ct_perc_limited_english_proficiency',\n",
       "       'ct_perc_poc', 'ct_perc_med_illness', 'ct_perc_income_200000_or_more'],\n",
       "      dtype='object')"
      ]
     },
     "execution_count": 229,
     "metadata": {},
     "output_type": "execute_result"
    }
   ],
   "source": [
    "feats"
   ]
  },
  {
   "cell_type": "code",
   "execution_count": 169,
   "id": "18f90804-b257-450b-be22-f09ff0123e22",
   "metadata": {},
   "outputs": [
    {
     "data": {
      "text/plain": [
       "<AxesSubplot:>"
      ]
     },
     "execution_count": 169,
     "metadata": {},
     "output_type": "execute_result"
    },
    {
     "data": {
      "image/png": "[encoded data removed]",
      "text/plain": [
       "<Figure size 432x288 with 1 Axes>"
      ]
     },
     "metadata": {
      "needs_background": "light"
     },
     "output_type": "display_data"
    }
   ],
   "source": [
    "df_byaddress['year built'].hist()"
   ]
  },
  {
   "cell_type": "code",
   "execution_count": 228,
   "id": "60ede96e-d850-4417-b9b0-8179bcc6c5c3",
   "metadata": {},
   "outputs": [
    {
     "data": {
      "image/png": "[encoded data removed]",
      "text/plain": [
       "<Figure size 432x288 with 1 Axes>"
      ]
     },
     "metadata": {
      "needs_background": "light"
     },
     "output_type": "display_data"
    }
   ],
   "source": [
    "plt.scatter(X[:,0],y)\n",
    "plt.show()"
   ]
  },
  {
   "cell_type": "code",
   "execution_count": 174,
   "id": "8695f413-61d6-437a-9f59-0267751c4a26",
   "metadata": {},
   "outputs": [],
   "source": [
    "df_byaddress_v2 = df_byaddress.copy()"
   ]
  },
  {
   "cell_type": "code",
   "execution_count": 175,
   "id": "95512e8c-99ac-4c23-b60f-846db0938c7f",
   "metadata": {},
   "outputs": [],
   "source": [
    "df_byaddress_v2['pre_1850'] = df_byaddress['year built'] < 1850.0"
   ]
  },
  {
   "cell_type": "code",
   "execution_count": 176,
   "id": "b4894c44-9dc7-4440-9482-4a9985704150",
   "metadata": {},
   "outputs": [],
   "source": [
    "df_byaddress_v2['post_1850'] = df_byaddress['year built'] >= 1850.0"
   ]
  },
  {
   "cell_type": "code",
   "execution_count": 209,
   "id": "f7eaa9ba-924b-4372-84c7-c52c0c9a4161",
   "metadata": {},
   "outputs": [
    {
     "data": {
      "image/png": "[encoded data removed]",
      "text/plain": [
       "<Figure size 432x288 with 1 Axes>"
      ]
     },
     "metadata": {
      "needs_background": "light"
     },
     "output_type": "display_data"
    }
   ],
   "source": [
    "plt.scatter(df_byaddress['land_sf'],df_byaddress['Severity'])\n",
    "plt.show()"
   ]
  },
  {
   "cell_type": "code",
   "execution_count": 178,
   "id": "d45b28d7-7fb4-493c-bd7d-1902f1be8d72",
   "metadata": {},
   "outputs": [
    {
     "data": {
      "text/plain": [
       "<AxesSubplot:>"
      ]
     },
     "execution_count": 178,
     "metadata": {},
     "output_type": "execute_result"
    },
    {
     "data": {
      "image/png": "[encoded data removed]",
      "text/plain": [
       "<Figure size 432x288 with 1 Axes>"
      ]
     },
     "metadata": {
      "needs_background": "light"
     },
     "output_type": "display_data"
    }
   ],
   "source": [
    "df_byaddress['land_sf'].hist()"
   ]
  },
  {
   "cell_type": "code",
   "execution_count": 231,
   "id": "e1415ebb-de28-4d8a-bc02-e1ae09a2626a",
   "metadata": {},
   "outputs": [
    {
     "data": {
      "image/png": "[encoded data removed]",
      "text/plain": [
       "<Figure size 432x288 with 1 Axes>"
      ]
     },
     "metadata": {
      "needs_background": "light"
     },
     "output_type": "display_data"
    }
   ],
   "source": [
    "plt.scatter(df_byaddress['ct_perc_low_to_no_income'],df_byaddress['Severity'])\n",
    "plt.show()"
   ]
  },
  {
   "cell_type": "code",
   "execution_count": 232,
   "id": "e9b3d1c1-95e1-4b52-8d7d-283786057889",
   "metadata": {},
   "outputs": [
    {
     "data": {
      "text/html": [
       "<div>\n",
       "<style scoped>\n",
       "    .dataframe tbody tr th:only-of-type {\n",
       "        vertical-align: middle;\n",
       "    }\n",
       "\n",
       "    .dataframe tbody tr th {\n",
       "        vertical-align: top;\n",
       "    }\n",
       "\n",
       "    .dataframe thead th {\n",
       "        text-align: right;\n",
       "    }\n",
       "</style>\n",
       "<table border=\"1\" class=\"dataframe\">\n",
       "  <thead>\n",
       "    <tr style=\"text-align: right;\">\n",
       "      <th></th>\n",
       "      <th>year built</th>\n",
       "      <th>land_sf</th>\n",
       "      <th>gross_area</th>\n",
       "      <th>living_area</th>\n",
       "      <th>sqft</th>\n",
       "      <th>num_floors</th>\n",
       "      <th>num_bldgs</th>\n",
       "      <th>units_res</th>\n",
       "      <th>ct_perc_disability</th>\n",
       "      <th>ct_perc_children_under_5</th>\n",
       "      <th>ct_perc_over_65</th>\n",
       "      <th>ct_perc_low_to_no_income</th>\n",
       "      <th>ct_perc_limited_english_proficiency</th>\n",
       "      <th>ct_perc_poc</th>\n",
       "      <th>ct_perc_med_illness</th>\n",
       "      <th>ct_perc_income_200000_or_more</th>\n",
       "      <th>Severity</th>\n",
       "      <th>Index_Sum</th>\n",
       "      <th>Frequency_of_Complaints</th>\n",
       "    </tr>\n",
       "    <tr>\n",
       "      <th>address</th>\n",
       "      <th></th>\n",
       "      <th></th>\n",
       "      <th></th>\n",
       "      <th></th>\n",
       "      <th></th>\n",
       "      <th></th>\n",
       "      <th></th>\n",
       "      <th></th>\n",
       "      <th></th>\n",
       "      <th></th>\n",
       "      <th></th>\n",
       "      <th></th>\n",
       "      <th></th>\n",
       "      <th></th>\n",
       "      <th></th>\n",
       "      <th></th>\n",
       "      <th></th>\n",
       "      <th></th>\n",
       "      <th></th>\n",
       "    </tr>\n",
       "  </thead>\n",
       "  <tbody>\n",
       "    <tr>\n",
       "      <th>1 Abbotsford St, 02121</th>\n",
       "      <td>1900.0</td>\n",
       "      <td>3577.0</td>\n",
       "      <td>5528.0</td>\n",
       "      <td>3109.0</td>\n",
       "      <td>3109.0</td>\n",
       "      <td>2.0</td>\n",
       "      <td>1.0</td>\n",
       "      <td>2.0</td>\n",
       "      <td>20.738363</td>\n",
       "      <td>22.600321</td>\n",
       "      <td>10.016051</td>\n",
       "      <td>35.345104</td>\n",
       "      <td>45.361156</td>\n",
       "      <td>97.817014</td>\n",
       "      <td>37.262921</td>\n",
       "      <td>1.061571</td>\n",
       "      <td>5.0</td>\n",
       "      <td>10</td>\n",
       "      <td>0.024213</td>\n",
       "    </tr>\n",
       "    <tr>\n",
       "      <th>1 Acorn St, 02108</th>\n",
       "      <td>1829.0</td>\n",
       "      <td>822.0</td>\n",
       "      <td>2939.0</td>\n",
       "      <td>2300.0</td>\n",
       "      <td>2300.0</td>\n",
       "      <td>4.0</td>\n",
       "      <td>1.0</td>\n",
       "      <td>2.0</td>\n",
       "      <td>4.102075</td>\n",
       "      <td>14.190317</td>\n",
       "      <td>12.902456</td>\n",
       "      <td>6.677796</td>\n",
       "      <td>19.580253</td>\n",
       "      <td>9.802051</td>\n",
       "      <td>42.477701</td>\n",
       "      <td>26.284658</td>\n",
       "      <td>8.0</td>\n",
       "      <td>40</td>\n",
       "      <td>0.061538</td>\n",
       "    </tr>\n",
       "    <tr>\n",
       "      <th>1 Adams St, 02129</th>\n",
       "      <td>1857.0</td>\n",
       "      <td>1056.0</td>\n",
       "      <td>4093.0</td>\n",
       "      <td>3843.0</td>\n",
       "      <td>3843.0</td>\n",
       "      <td>4.0</td>\n",
       "      <td>1.0</td>\n",
       "      <td>1.0</td>\n",
       "      <td>6.503690</td>\n",
       "      <td>14.852399</td>\n",
       "      <td>13.376384</td>\n",
       "      <td>9.870849</td>\n",
       "      <td>23.247232</td>\n",
       "      <td>5.350554</td>\n",
       "      <td>42.309963</td>\n",
       "      <td>25.625000</td>\n",
       "      <td>5.0</td>\n",
       "      <td>5</td>\n",
       "      <td>NaN</td>\n",
       "    </tr>\n",
       "    <tr>\n",
       "      <th>1 Akron Pl, 02119</th>\n",
       "      <td>1890.0</td>\n",
       "      <td>1654.0</td>\n",
       "      <td>1911.0</td>\n",
       "      <td>1200.0</td>\n",
       "      <td>1200.0</td>\n",
       "      <td>2.0</td>\n",
       "      <td>1.0</td>\n",
       "      <td>1.0</td>\n",
       "      <td>18.717277</td>\n",
       "      <td>32.722513</td>\n",
       "      <td>10.994764</td>\n",
       "      <td>40.628272</td>\n",
       "      <td>51.623037</td>\n",
       "      <td>98.062827</td>\n",
       "      <td>36.766230</td>\n",
       "      <td>2.694236</td>\n",
       "      <td>5.0</td>\n",
       "      <td>5</td>\n",
       "      <td>NaN</td>\n",
       "    </tr>\n",
       "    <tr>\n",
       "      <th>1 Aldie St, 02134</th>\n",
       "      <td>1890.0</td>\n",
       "      <td>4014.0</td>\n",
       "      <td>4060.0</td>\n",
       "      <td>2623.0</td>\n",
       "      <td>2623.0</td>\n",
       "      <td>2.5</td>\n",
       "      <td>1.0</td>\n",
       "      <td>2.0</td>\n",
       "      <td>7.853982</td>\n",
       "      <td>5.764503</td>\n",
       "      <td>2.704031</td>\n",
       "      <td>41.556047</td>\n",
       "      <td>44.260079</td>\n",
       "      <td>47.246804</td>\n",
       "      <td>36.923550</td>\n",
       "      <td>3.987847</td>\n",
       "      <td>5.0</td>\n",
       "      <td>35</td>\n",
       "      <td>0.025253</td>\n",
       "    </tr>\n",
       "  </tbody>\n",
       "</table>\n",
       "</div>"
      ],
      "text/plain": [
       "                        year built  land_sf  gross_area  living_area    sqft  \\\n",
       "address                                                                        \n",
       "1 Abbotsford St, 02121      1900.0   3577.0      5528.0       3109.0  3109.0   \n",
       "1 Acorn St, 02108           1829.0    822.0      2939.0       2300.0  2300.0   \n",
       "1 Adams St, 02129           1857.0   1056.0      4093.0       3843.0  3843.0   \n",
       "1 Akron Pl, 02119           1890.0   1654.0      1911.0       1200.0  1200.0   \n",
       "1 Aldie St, 02134           1890.0   4014.0      4060.0       2623.0  2623.0   \n",
       "\n",
       "                        num_floors  num_bldgs  units_res  ct_perc_disability  \\\n",
       "address                                                                        \n",
       "1 Abbotsford St, 02121         2.0        1.0        2.0           20.738363   \n",
       "1 Acorn St, 02108              4.0        1.0        2.0            4.102075   \n",
       "1 Adams St, 02129              4.0        1.0        1.0            6.503690   \n",
       "1 Akron Pl, 02119              2.0        1.0        1.0           18.717277   \n",
       "1 Aldie St, 02134              2.5        1.0        2.0            7.853982   \n",
       "\n",
       "                        ct_perc_children_under_5  ct_perc_over_65  \\\n",
       "address                                                             \n",
       "1 Abbotsford St, 02121                 22.600321        10.016051   \n",
       "1 Acorn St, 02108                      14.190317        12.902456   \n",
       "1 Adams St, 02129                      14.852399        13.376384   \n",
       "1 Akron Pl, 02119                      32.722513        10.994764   \n",
       "1 Aldie St, 02134                       5.764503         2.704031   \n",
       "\n",
       "                        ct_perc_low_to_no_income  \\\n",
       "address                                            \n",
       "1 Abbotsford St, 02121                 35.345104   \n",
       "1 Acorn St, 02108                       6.677796   \n",
       "1 Adams St, 02129                       9.870849   \n",
       "1 Akron Pl, 02119                      40.628272   \n",
       "1 Aldie St, 02134                      41.556047   \n",
       "\n",
       "                        ct_perc_limited_english_proficiency  ct_perc_poc  \\\n",
       "address                                                                    \n",
       "1 Abbotsford St, 02121                            45.361156    97.817014   \n",
       "1 Acorn St, 02108                                 19.580253     9.802051   \n",
       "1 Adams St, 02129                                 23.247232     5.350554   \n",
       "1 Akron Pl, 02119                                 51.623037    98.062827   \n",
       "1 Aldie St, 02134                                 44.260079    47.246804   \n",
       "\n",
       "                        ct_perc_med_illness  ct_perc_income_200000_or_more  \\\n",
       "address                                                                      \n",
       "1 Abbotsford St, 02121            37.262921                       1.061571   \n",
       "1 Acorn St, 02108                 42.477701                      26.284658   \n",
       "1 Adams St, 02129                 42.309963                      25.625000   \n",
       "1 Akron Pl, 02119                 36.766230                       2.694236   \n",
       "1 Aldie St, 02134                 36.923550                       3.987847   \n",
       "\n",
       "                        Severity  Index_Sum  Frequency_of_Complaints  \n",
       "address                                                               \n",
       "1 Abbotsford St, 02121       5.0         10                 0.024213  \n",
       "1 Acorn St, 02108            8.0         40                 0.061538  \n",
       "1 Adams St, 02129            5.0          5                      NaN  \n",
       "1 Akron Pl, 02119            5.0          5                      NaN  \n",
       "1 Aldie St, 02134            5.0         35                 0.025253  "
      ]
     },
     "execution_count": 232,
     "metadata": {},
     "output_type": "execute_result"
    }
   ],
   "source": [
    "df_byaddress.head()"
   ]
  },
  {
   "cell_type": "code",
   "execution_count": 233,
   "id": "9deebb1e-ffff-4bae-b88d-e12eb86be934",
   "metadata": {},
   "outputs": [
    {
     "data": {
      "text/plain": [
       "Index(['year built', 'land_sf', 'gross_area', 'living_area', 'sqft',\n",
       "       'num_floors', 'num_bldgs', 'units_res', 'ct_perc_disability',\n",
       "       'ct_perc_children_under_5', 'ct_perc_over_65',\n",
       "       'ct_perc_low_to_no_income', 'ct_perc_limited_english_proficiency',\n",
       "       'ct_perc_poc', 'ct_perc_med_illness', 'ct_perc_income_200000_or_more',\n",
       "       'Severity', 'Index_Sum', 'Frequency_of_Complaints'],\n",
       "      dtype='object')"
      ]
     },
     "execution_count": 233,
     "metadata": {},
     "output_type": "execute_result"
    }
   ],
   "source": [
    "df_byaddress.columns"
   ]
  },
  {
   "cell_type": "code",
   "execution_count": 235,
   "id": "3e765fe7-dd2d-407c-895f-dedde2b92bd5",
   "metadata": {},
   "outputs": [],
   "source": [
    "df_byaddress.to_csv('byaddress_16feats_3targets_v1.csv')"
   ]
  },
  {
   "cell_type": "code",
   "execution_count": 236,
   "id": "ed321084-44fa-4fd5-bb82-7a47c4bf632a",
   "metadata": {},
   "outputs": [
    {
     "data": {
      "text/plain": [
       "<AxesSubplot:>"
      ]
     },
     "execution_count": 236,
     "metadata": {},
     "output_type": "execute_result"
    },
    {
     "data": {
      "image/png": "[encoded data removed]",
      "text/plain": [
       "<Figure size 432x288 with 1 Axes>"
      ]
     },
     "metadata": {
      "needs_background": "light"
     },
     "output_type": "display_data"
    }
   ],
   "source": [
    "df_byaddress.Severity.hist()"
   ]
  },
  {
   "cell_type": "code",
   "execution_count": null,
   "id": "7f9614ee-f595-4789-8913-09a014aca771",
   "metadata": {},
   "outputs": [],
   "source": []
  }
 ],
 "metadata": {
  "kernelspec": {
   "display_name": "Python 3 (ipykernel)",
   "language": "python",
   "name": "python3"
  },
  "language_info": {
   "codemirror_mode": {
    "name": "ipython",
    "version": 3
   },
   "file_extension": ".py",
   "mimetype": "text/x-python",
   "name": "python",
   "nbconvert_exporter": "python",
   "pygments_lexer": "ipython3",
   "version": "3.8.2"
  }
 },
 "nbformat": 4,
 "nbformat_minor": 5
}
