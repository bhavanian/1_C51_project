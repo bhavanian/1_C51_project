{
 "cells": [
  {
   "cell_type": "code",
   "execution_count": 1,
   "id": "c202fa1f-0d93-4d46-ba8e-6686e0f2d493",
   "metadata": {},
   "outputs": [],
   "source": [
    "#Om Sri Sai Ram"
   ]
  },
  {
   "cell_type": "code",
   "execution_count": 2,
   "id": "64c46c6d-1906-4eb1-bda8-d309b38ad28b",
   "metadata": {},
   "outputs": [],
   "source": [
    "import pandas as pd\n",
    "import numpy as np\n",
    "from matplotlib import pyplot as plt\n",
    "import sklearn\n",
    "\n",
    "from sklearn.preprocessing import StandardScaler\n",
    "from sklearn.decomposition import PCA\n",
    "\n",
    "import time\n",
    "\n"
   ]
  },
  {
   "cell_type": "code",
   "execution_count": 27,
   "id": "20f2b40a-f5a1-40d9-acd8-7e7df6cc9543",
   "metadata": {},
   "outputs": [
    {
     "name": "stderr",
     "output_type": "stream",
     "text": [
      "/Users/bhavanian/myenvs/housing/lib/python3.8/site-packages/IPython/core/interactiveshell.py:3444: DtypeWarning: Columns (55,66,68) have mixed types.Specify dtype option on import or set low_memory=False.\n",
      "  exec(code_obj, self.user_global_ns, self.user_ns)\n"
     ]
    }
   ],
   "source": [
    "df0 = pd.read_csv('rentsmart_withoccdata.csv',index_col=0)"
   ]
  },
  {
   "cell_type": "code",
   "execution_count": 28,
   "id": "04f900ee-9728-4ca8-9665-b7a268ca629f",
   "metadata": {},
   "outputs": [
    {
     "data": {
      "text/html": [
       "<div>\n",
       "<style scoped>\n",
       "    .dataframe tbody tr th:only-of-type {\n",
       "        vertical-align: middle;\n",
       "    }\n",
       "\n",
       "    .dataframe tbody tr th {\n",
       "        vertical-align: top;\n",
       "    }\n",
       "\n",
       "    .dataframe thead th {\n",
       "        text-align: right;\n",
       "    }\n",
       "</style>\n",
       "<table border=\"1\" class=\"dataframe\">\n",
       "  <thead>\n",
       "    <tr style=\"text-align: right;\">\n",
       "      <th></th>\n",
       "      <th>date</th>\n",
       "      <th>violation_type</th>\n",
       "      <th>description</th>\n",
       "      <th>address</th>\n",
       "      <th>neighborhood</th>\n",
       "      <th>zip_code</th>\n",
       "      <th>parcel</th>\n",
       "      <th>owner</th>\n",
       "      <th>year built</th>\n",
       "      <th>year remodeled</th>\n",
       "      <th>...</th>\n",
       "      <th>insulate_exposed_ducts</th>\n",
       "      <th>insulate_exposed_pipes</th>\n",
       "      <th>interior_wall_insulation_blow_in</th>\n",
       "      <th>exterior_wall_insulation_at_replacement</th>\n",
       "      <th>exterior_wall_insulation</th>\n",
       "      <th>interior_wall_insulation_board</th>\n",
       "      <th>insulate_spandrel</th>\n",
       "      <th>asbestos</th>\n",
       "      <th>seal_elevator_vent_shafts</th>\n",
       "      <th>env_recommendation_count</th>\n",
       "    </tr>\n",
       "  </thead>\n",
       "  <tbody>\n",
       "    <tr>\n",
       "      <th>0</th>\n",
       "      <td>2022-03-12 00:00:00.000</td>\n",
       "      <td>Enforcement Violations</td>\n",
       "      <td>Improper storage trash: res</td>\n",
       "      <td>39 Millmont St, 02119</td>\n",
       "      <td>Roxbury</td>\n",
       "      <td>2119.0</td>\n",
       "      <td>903678000</td>\n",
       "      <td>THREENINEMILLMONT LLC</td>\n",
       "      <td>1900.0</td>\n",
       "      <td>2015.0</td>\n",
       "      <td>...</td>\n",
       "      <td>t</td>\n",
       "      <td>f</td>\n",
       "      <td>t</td>\n",
       "      <td>f</td>\n",
       "      <td>f</td>\n",
       "      <td>f</td>\n",
       "      <td>f</td>\n",
       "      <td>f</td>\n",
       "      <td>f</td>\n",
       "      <td>3</td>\n",
       "    </tr>\n",
       "  </tbody>\n",
       "</table>\n",
       "<p>1 rows × 121 columns</p>\n",
       "</div>"
      ],
      "text/plain": [
       "                      date          violation_type  \\\n",
       "0  2022-03-12 00:00:00.000  Enforcement Violations   \n",
       "\n",
       "                   description                address neighborhood  zip_code  \\\n",
       "0  Improper storage trash: res  39 Millmont St, 02119      Roxbury    2119.0   \n",
       "\n",
       "      parcel                  owner  year built  year remodeled  ...  \\\n",
       "0  903678000  THREENINEMILLMONT LLC      1900.0          2015.0  ...   \n",
       "\n",
       "  insulate_exposed_ducts  insulate_exposed_pipes  \\\n",
       "0                      t                       f   \n",
       "\n",
       "   interior_wall_insulation_blow_in  exterior_wall_insulation_at_replacement  \\\n",
       "0                                 t                                        f   \n",
       "\n",
       "  exterior_wall_insulation interior_wall_insulation_board  insulate_spandrel  \\\n",
       "0                        f                              f                  f   \n",
       "\n",
       "   asbestos  seal_elevator_vent_shafts  env_recommendation_count  \n",
       "0         f                          f                         3  \n",
       "\n",
       "[1 rows x 121 columns]"
      ]
     },
     "execution_count": 28,
     "metadata": {},
     "output_type": "execute_result"
    }
   ],
   "source": [
    "df0.head(1)"
   ]
  },
  {
   "cell_type": "code",
   "execution_count": 29,
   "id": "8ea00226-182b-4252-bca6-cbd6c75d2836",
   "metadata": {},
   "outputs": [
    {
     "data": {
      "text/plain": [
       "(127232, 121)"
      ]
     },
     "execution_count": 29,
     "metadata": {},
     "output_type": "execute_result"
    }
   ],
   "source": [
    "df0.shape"
   ]
  },
  {
   "cell_type": "code",
   "execution_count": 30,
   "id": "fed963a0-89a8-49eb-923a-96e7fb597b53",
   "metadata": {},
   "outputs": [
    {
     "data": {
      "text/plain": [
       "174"
      ]
     },
     "execution_count": 30,
     "metadata": {},
     "output_type": "execute_result"
    }
   ],
   "source": [
    "df0.description.nunique()"
   ]
  },
  {
   "cell_type": "code",
   "execution_count": 12,
   "id": "12f75d27-2500-4fbc-977c-bff7d04c3133",
   "metadata": {},
   "outputs": [],
   "source": [
    "df = pd.read_csv('address_clusters_withcomp.csv')"
   ]
  },
  {
   "cell_type": "code",
   "execution_count": 15,
   "id": "c01a05ba-b68c-488a-b9b2-9128f56a15fd",
   "metadata": {},
   "outputs": [],
   "source": [
    "df = df.iloc[:,:-1]"
   ]
  },
  {
   "cell_type": "code",
   "execution_count": 16,
   "id": "934cda10-c84b-42aa-b4ad-4665106e93ff",
   "metadata": {},
   "outputs": [
    {
     "data": {
      "text/html": [
       "<div>\n",
       "<style scoped>\n",
       "    .dataframe tbody tr th:only-of-type {\n",
       "        vertical-align: middle;\n",
       "    }\n",
       "\n",
       "    .dataframe tbody tr th {\n",
       "        vertical-align: top;\n",
       "    }\n",
       "\n",
       "    .dataframe thead th {\n",
       "        text-align: right;\n",
       "    }\n",
       "</style>\n",
       "<table border=\"1\" class=\"dataframe\">\n",
       "  <thead>\n",
       "    <tr style=\"text-align: right;\">\n",
       "      <th></th>\n",
       "      <th>address</th>\n",
       "      <th>violation_type_Building Violations</th>\n",
       "      <th>violation_type_Civic Maintenance Requests</th>\n",
       "      <th>violation_type_Enforcement Violations</th>\n",
       "      <th>violation_type_Housing Complaints</th>\n",
       "      <th>violation_type_Housing Violations</th>\n",
       "      <th>violation_type_Sanitation Requests</th>\n",
       "      <th>description_Abandoned Bicycle</th>\n",
       "      <th>description_Abandoned Building</th>\n",
       "      <th>description_Abandoned Vehicles</th>\n",
       "      <th>...</th>\n",
       "      <th>description_Validity of Permit</th>\n",
       "      <th>description_Work w/out Permit</th>\n",
       "      <th>description_Work without permit</th>\n",
       "      <th>description_Working Beyond Hours</th>\n",
       "      <th>description_Working Space</th>\n",
       "      <th>description_Workmanship</th>\n",
       "      <th>description_Zoning</th>\n",
       "      <th>description_disposal med waste</th>\n",
       "      <th>description_illegal parking prop owner 1</th>\n",
       "      <th>description_illegal parking prop owner 2</th>\n",
       "    </tr>\n",
       "  </thead>\n",
       "  <tbody>\n",
       "    <tr>\n",
       "      <th>0</th>\n",
       "      <td>1 Abbotsford St, 02121</td>\n",
       "      <td>0</td>\n",
       "      <td>0</td>\n",
       "      <td>2</td>\n",
       "      <td>0</td>\n",
       "      <td>0</td>\n",
       "      <td>0</td>\n",
       "      <td>0</td>\n",
       "      <td>0</td>\n",
       "      <td>0</td>\n",
       "      <td>...</td>\n",
       "      <td>0</td>\n",
       "      <td>0</td>\n",
       "      <td>0</td>\n",
       "      <td>0</td>\n",
       "      <td>0</td>\n",
       "      <td>0</td>\n",
       "      <td>0</td>\n",
       "      <td>0</td>\n",
       "      <td>0</td>\n",
       "      <td>0</td>\n",
       "    </tr>\n",
       "  </tbody>\n",
       "</table>\n",
       "<p>1 rows × 181 columns</p>\n",
       "</div>"
      ],
      "text/plain": [
       "                  address  violation_type_Building Violations  \\\n",
       "0  1 Abbotsford St, 02121                                   0   \n",
       "\n",
       "   violation_type_Civic Maintenance Requests  \\\n",
       "0                                          0   \n",
       "\n",
       "   violation_type_Enforcement Violations  violation_type_Housing Complaints  \\\n",
       "0                                      2                                  0   \n",
       "\n",
       "   violation_type_Housing Violations  violation_type_Sanitation Requests  \\\n",
       "0                                  0                                   0   \n",
       "\n",
       "   description_Abandoned Bicycle  description_Abandoned Building  \\\n",
       "0                              0                               0   \n",
       "\n",
       "   description_Abandoned Vehicles  ...  description_Validity of Permit  \\\n",
       "0                               0  ...                               0   \n",
       "\n",
       "   description_Work w/out Permit  description_Work without permit  \\\n",
       "0                              0                                0   \n",
       "\n",
       "   description_Working Beyond Hours  description_Working Space  \\\n",
       "0                                 0                          0   \n",
       "\n",
       "   description_Workmanship  description_Zoning  \\\n",
       "0                        0                   0   \n",
       "\n",
       "   description_disposal med waste  description_illegal parking prop owner 1  \\\n",
       "0                               0                                         0   \n",
       "\n",
       "   description_illegal parking prop owner 2  \n",
       "0                                         0  \n",
       "\n",
       "[1 rows x 181 columns]"
      ]
     },
     "execution_count": 16,
     "metadata": {},
     "output_type": "execute_result"
    }
   ],
   "source": [
    "df.head(1)"
   ]
  },
  {
   "cell_type": "code",
   "execution_count": 31,
   "id": "e14a15a7-a4e7-4d64-9e6c-7652db455f33",
   "metadata": {},
   "outputs": [
    {
     "data": {
      "text/plain": [
       "174"
      ]
     },
     "execution_count": 31,
     "metadata": {},
     "output_type": "execute_result"
    }
   ],
   "source": [
    "180 - 6"
   ]
  },
  {
   "cell_type": "code",
   "execution_count": 17,
   "id": "424e639e-7e93-42fb-af9f-7bff657a88ff",
   "metadata": {},
   "outputs": [],
   "source": [
    "X = df.iloc[:,1:]"
   ]
  },
  {
   "cell_type": "code",
   "execution_count": 18,
   "id": "0dffa2f1-d73a-429c-8e55-8ccb56fb685b",
   "metadata": {},
   "outputs": [],
   "source": [
    "scaler = StandardScaler()\n",
    "X = scaler.fit_transform(X)"
   ]
  },
  {
   "cell_type": "code",
   "execution_count": 19,
   "id": "36ed194d-50cc-4ebe-b9d5-657a54be8669",
   "metadata": {},
   "outputs": [],
   "source": [
    "pca = PCA().fit(X)"
   ]
  },
  {
   "cell_type": "code",
   "execution_count": 20,
   "id": "2ed77e60-15f9-40e4-aa86-bb6cc6aa8a63",
   "metadata": {},
   "outputs": [],
   "source": [
    "X_pca = pca.transform(X)"
   ]
  },
  {
   "cell_type": "code",
   "execution_count": 21,
   "id": "6fade0e0-d993-4718-9d20-51a649c9de03",
   "metadata": {},
   "outputs": [
    {
     "data": {
      "text/plain": [
       "(25560, 180)"
      ]
     },
     "execution_count": 21,
     "metadata": {},
     "output_type": "execute_result"
    }
   ],
   "source": [
    "X_pca.shape"
   ]
  },
  {
   "cell_type": "code",
   "execution_count": 23,
   "id": "4d137117-970c-4b9c-81c0-f1146e666f76",
   "metadata": {},
   "outputs": [
    {
     "data": {
      "image/png": "[encoded data removed]",
      "text/plain": [
       "<Figure size 432x288 with 1 Axes>"
      ]
     },
     "metadata": {
      "needs_background": "light"
     },
     "output_type": "display_data"
    }
   ],
   "source": [
    "plt.plot(range(1,180 + 1), np.cumsum(pca.explained_variance_ratio_))\n",
    "plt.xlabel('Number of Principal Components')\n",
    "plt.ylabel('Explained Variance Ratio')\n",
    "plt.show()"
   ]
  },
  {
   "cell_type": "code",
   "execution_count": 24,
   "id": "01feb76b-3382-409a-92ba-46cc647ed4a8",
   "metadata": {},
   "outputs": [],
   "source": [
    "# would need 150 components to be encoded for a classification problem"
   ]
  },
  {
   "cell_type": "code",
   "execution_count": null,
   "id": "d21aa011-1ac9-49bd-8dda-17cc96a526e3",
   "metadata": {},
   "outputs": [],
   "source": []
  }
 ],
 "metadata": {
  "kernelspec": {
   "display_name": "Python 3 (ipykernel)",
   "language": "python",
   "name": "python3"
  },
  "language_info": {
   "codemirror_mode": {
    "name": "ipython",
    "version": 3
   },
   "file_extension": ".py",
   "mimetype": "text/x-python",
   "name": "python",
   "nbconvert_exporter": "python",
   "pygments_lexer": "ipython3",
   "version": "3.8.2"
  }
 },
 "nbformat": 4,
 "nbformat_minor": 5
}
